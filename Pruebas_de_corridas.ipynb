{
  "cells": [
    {
      "cell_type": "markdown",
      "metadata": {
        "id": "view-in-github",
        "colab_type": "text"
      },
      "source": [
        "<a href=\"https://colab.research.google.com/github/ximenasansu/SII/blob/main/Pruebas_de_corridas.ipynb\" target=\"_parent\"><img src=\"https://colab.research.google.com/assets/colab-badge.svg\" alt=\"Open In Colab\"/></a>"
      ]
    },
    {
      "cell_type": "markdown",
      "metadata": {
        "id": "Nozb3Q_CSClw"
      },
      "source": [
        "# Pruebas de corridas"
      ]
    },
    {
      "cell_type": "code",
      "source": [
        ""
      ],
      "metadata": {
        "id": "NQZu5l8LVEzN"
      },
      "execution_count": null,
      "outputs": []
    },
    {
      "cell_type": "markdown",
      "metadata": {
        "id": "OStn-v_oSCmO"
      },
      "source": [
        "Son pruebas estadísticas no paramétricas para verificar la aleatoriedad de datos. Utiliza series de datos para decidir si son aleatorios o no."
      ]
    },
    {
      "cell_type": "markdown",
      "metadata": {
        "id": "PIG9pFDKSCmR"
      },
      "source": [
        "Una **corrida** se define como una serie de eventos similares. El número de tales eventos es la duración de la corrida."
      ]
    },
    {
      "cell_type": "markdown",
      "metadata": {
        "id": "GGEGyGKeSCmT"
      },
      "source": [
        "#### Ejemplo: \n",
        "\n",
        "En un volado,\n",
        "    \n",
        "$$a, s, s, a, a, a, s, a ,s, s$$"
      ]
    },
    {
      "cell_type": "markdown",
      "metadata": {
        "id": "toHE7AhfSCma"
      },
      "source": [
        "¿Cuántas corridas hay?"
      ]
    },
    {
      "cell_type": "markdown",
      "metadata": {
        "id": "CtgvrtWhSCmg"
      },
      "source": [
        "#### Ejemplo: "
      ]
    },
    {
      "cell_type": "code",
      "execution_count": null,
      "metadata": {
        "id": "qEv2_o94SCmj"
      },
      "outputs": [],
      "source": [
        "l = [1, 3, 9, 8, 0, 4, 6, 5, 2, 7]"
      ]
    },
    {
      "cell_type": "code",
      "execution_count": null,
      "metadata": {
        "id": "-VqS9_47SCmp"
      },
      "outputs": [],
      "source": [
        "m = [0, 1, 2, 3, 4, 5, 6, 7, 8, 9]"
      ]
    },
    {
      "cell_type": "markdown",
      "metadata": {
        "id": "7StlzKfnSCmt"
      },
      "source": [
        "Hay varias formas de definir corridas, sin embargo, en todos los casos la formulación debe producir una secuencia dicotómica de valores. En nuestro caso, los valores por encima de la mediana se tratan como positivos y los valores por debajo de la mediana como negativos. Una corrida se define como una serie de valores consecutivos positivos o negativos.\n",
        "\n",
        "El primer paso en la prueba de corridas es contar el número de corridas en la secuencia de datos."
      ]
    },
    {
      "cell_type": "markdown",
      "metadata": {
        "id": "GtsuXwS-SCmz"
      },
      "source": [
        "Formulamos entonces la hipótesis nula y alternativa:"
      ]
    },
    {
      "cell_type": "markdown",
      "metadata": {
        "id": "tlMdgT4gSCm2"
      },
      "source": [
        "$H_0:$ La secuencia se produjo de forma aleatoria.\n",
        "\n",
        "$H_1:$ La secuencia no se produjo de forma aleatoria."
      ]
    },
    {
      "cell_type": "markdown",
      "metadata": {
        "id": "_Anxr8mCSCm7"
      },
      "source": [
        "Usamos el estadistico $Z$ como prueba:"
      ]
    },
    {
      "cell_type": "markdown",
      "metadata": {
        "id": "njT_m5WySCm9"
      },
      "source": [
        "$$Z = \\frac{R - \\bar{R}}{S_{R}}$$"
      ]
    },
    {
      "cell_type": "markdown",
      "metadata": {
        "id": "6vjtQb4USCm-"
      },
      "source": [
        "donde $R$ es el número de corridas observadas, $\\bar{R}$, definido como:"
      ]
    },
    {
      "cell_type": "markdown",
      "metadata": {
        "id": "UZl1kENdSCnA"
      },
      "source": [
        "$$\\bar{R}=\\frac{2n_1 n_2}{n_1 + n_2} + 1$$"
      ]
    },
    {
      "cell_type": "markdown",
      "metadata": {
        "id": "ikkX15eaSCnB"
      },
      "source": [
        "es el número de corridas esperadas. Y la desviación estándar del número de corridas es:"
      ]
    },
    {
      "cell_type": "markdown",
      "metadata": {
        "id": "1F9tSRU-SCnD"
      },
      "source": [
        "$$S_R^2 = \\frac{2n_1 n_2 (2n_1 n_2 - n_1 - n_2)}{(n_1+n_2)^2 (n_1 + n_2 - 1)}$$"
      ]
    },
    {
      "cell_type": "markdown",
      "metadata": {
        "id": "pBdU1QQ6SCnF"
      },
      "source": [
        "Y $n_1$ y $n_2$ son los números de valores positivos y negativos de la serie."
      ]
    },
    {
      "cell_type": "markdown",
      "metadata": {
        "id": "W3RJ44rNSCnG"
      },
      "source": [
        "Entonces comparamos el valor del estadístico $Z$ calculado con el $Z_{crítico}$  para un nivel de confianza dado ($Z_{crítico} = 1.96$ para un nivel de confianza del 95%). La hipótesis nula se rechaza, es decir, se declara que los números no son aleatorios si $| Z |> Z_{crítico}$."
      ]
    },
    {
      "cell_type": "markdown",
      "metadata": {
        "id": "b-lhNbW2SCnL"
      },
      "source": [
        "#### Para hacer un programa que haga la prueba de corridas"
      ]
    },
    {
      "cell_type": "code",
      "execution_count": null,
      "metadata": {
        "id": "woZiCT-4SCnN"
      },
      "outputs": [],
      "source": [
        "import random \n",
        "import math \n",
        "from statistics import mean, median\n",
        "from matplotlib.pyplot import *"
      ]
    },
    {
      "cell_type": "code",
      "execution_count": null,
      "metadata": {
        "id": "JoLKKhhsSCnQ"
      },
      "outputs": [],
      "source": [
        "l= [946,1058,1133,869,927,742,1113,665,955,1288,1074,838,815,910,1193,\n",
        "    1386,955,1187,891,1302,867,837,1138,868,969,737,1143,947,763,1029]"
      ]
    },
    {
      "cell_type": "code",
      "execution_count": null,
      "metadata": {
        "id": "1YbdFGBySCnT"
      },
      "outputs": [],
      "source": [
        "# Esta funcion implementa una prueba de corridas\n",
        "def prueba_corridas(l):\n",
        "    \n",
        "    l_median = mean(l)  # Hacemos la prueba respecto a la media/mediana\n",
        "    \n",
        "    R, n1, n2 = 1, 0, 0   # iniciamos los contadores\n",
        "        \n",
        "    for i in range(len(l)):    \n",
        "        \n",
        "        # Aumentamos R cuando 2 entradas están una arriba y otra abajo de la media/mediana:\n",
        "        if (l[i] >= l_median and l[i-1] < l_median) or (l[i] < l_median and l[i-1] >= l_median):\n",
        "            R += 1\n",
        "        # Contamos las que están arriba y las que están abajo\n",
        "        if(l[i]) >= l_median:\n",
        "            n1 += 1\n",
        "        else:\n",
        "            n2 += 1   \n",
        "    # calculamos los parámetros y el estadistico\n",
        "    R_exp = ((2*n1*n2)/(n1+n2))+1\n",
        "    stan_dev = math.sqrt((2*n1*n2*(2*n1*n2-n1-n2))/(((n1+n2)**2)*(n1+n2-1))) \n",
        "  \n",
        "    z = (R - R_exp)/stan_dev \n",
        "  \n",
        "    return R, n1, n2, R_exp, z, stan_dev "
      ]
    },
    {
      "cell_type": "code",
      "execution_count": null,
      "metadata": {
        "id": "G8kdIAe0SCnX"
      },
      "outputs": [],
      "source": [
        "R = prueba_corridas(l)[0]\n",
        "n1 = prueba_corridas(l)[1]\n",
        "n2 = prueba_corridas(l)[2]\n",
        "R_exp = abs(prueba_corridas(l)[3])\n",
        "Z = abs(prueba_corridas(l)[4]) \n",
        "stan_dev = abs(prueba_corridas(l)[5])\n",
        "\n",
        "print('Estadistico = ', Z)\n",
        "print('  R = ', R, '  R_exp = ', R_exp, '\\n n1 = ', n1, '\\n n2 = ', n2, '\\nVarianza = ', stan_dev**2)"
      ]
    },
    {
      "cell_type": "markdown",
      "metadata": {
        "id": "Tca7L2aNSCnZ"
      },
      "source": [
        "### Ejercicio:\n",
        "\n",
        "* Completar la función para que imprima todas las salidas de interés.\n",
        "* Desordenar la lista y volver a aplicar la prueba de corridas. Comparar el resultado.\n",
        "* Repetir el ejercicio con la lista l_1"
      ]
    },
    {
      "cell_type": "code",
      "execution_count": null,
      "metadata": {
        "id": "_th3PSwDSCna"
      },
      "outputs": [],
      "source": [
        ""
      ]
    },
    {
      "cell_type": "code",
      "execution_count": null,
      "metadata": {
        "id": "4eSZBmUbSCnb"
      },
      "outputs": [],
      "source": [
        "l_1 = [0.809, 0.042,  0.432,  0.538,  0.225,  0.88,  0.688,  0.772,  0.036,  0.854, 0.397,  0.268,  0.821,  0.897,  \n",
        "     0.07,  0.721,  0.087,  0.35,  0.779,  0.482, 0.136,  0.855,  0.453,  0.197,  0.444,  0.799,  0.809,  0.691,  \n",
        "     0.545,  0.857, 0.692,  0.055,  0.348, 0.373,  0.436,  0.29,  0.015,  0.834,  0.599,  0.724,  0.564,  0.709,  \n",
        "     0.946,  0.754,  0.677,  0.128,  0.012,  0.498,  0.6,  0.913]"
      ]
    },
    {
      "cell_type": "code",
      "execution_count": null,
      "metadata": {
        "id": "Gbzo8aowSCnc"
      },
      "outputs": [],
      "source": [
        "l_2 = []\n",
        "lamda = 2"
      ]
    },
    {
      "cell_type": "code",
      "execution_count": null,
      "metadata": {
        "id": "m-IaVv1JSCne"
      },
      "outputs": [],
      "source": [
        "for i in range(1000):\n",
        "    l_2.append(random.expovariate(lamda))"
      ]
    },
    {
      "cell_type": "code",
      "execution_count": null,
      "metadata": {
        "id": "7wedwo_TSCnf"
      },
      "outputs": [],
      "source": [
        "#print(l_2)"
      ]
    },
    {
      "cell_type": "code",
      "execution_count": null,
      "metadata": {
        "colab": {
          "base_uri": "https://localhost:8080/"
        },
        "id": "a8PouDBWSCng",
        "outputId": "05c7784d-e533-476a-93f7-9aee76bb0fca"
      },
      "outputs": [
        {
          "output_type": "execute_result",
          "data": {
            "text/plain": [
              "0.49536988907123"
            ]
          },
          "metadata": {},
          "execution_count": 21
        }
      ],
      "source": [
        "mean(l_2)"
      ]
    },
    {
      "cell_type": "code",
      "execution_count": null,
      "metadata": {
        "colab": {
          "base_uri": "https://localhost:8080/",
          "height": 357
        },
        "id": "GklVXDQBSCnl",
        "outputId": "a243fcd3-e0f6-41c8-c2ea-a9d077bf84f1"
      },
      "outputs": [
        {
          "output_type": "execute_result",
          "data": {
            "text/plain": [
              "(array([493., 256., 132.,  48.,  36.,  14.,  11.,   5.,   3.,   2.]),\n",
              " array([1.38100032e-04, 3.37918754e-01, 6.75699409e-01, 1.01348006e+00,\n",
              "        1.35126072e+00, 1.68904137e+00, 2.02682203e+00, 2.36460268e+00,\n",
              "        2.70238333e+00, 3.04016399e+00, 3.37794464e+00]),\n",
              " <a list of 10 Patch objects>)"
            ]
          },
          "metadata": {},
          "execution_count": 22
        },
        {
          "output_type": "display_data",
          "data": {
            "text/plain": [
              "<Figure size 432x288 with 1 Axes>"
            ],
            "image/png": "[encoded data removed]"
          },
          "metadata": {
            "needs_background": "light"
          }
        }
      ],
      "source": [
        "hist(l_2)"
      ]
    },
    {
      "cell_type": "code",
      "execution_count": null,
      "metadata": {
        "colab": {
          "base_uri": "https://localhost:8080/"
        },
        "id": "4H1o41SQSCnm",
        "outputId": "81ad356f-d208-4ac0-8b43-6f2f0c82619d"
      },
      "outputs": [
        {
          "output_type": "stream",
          "name": "stdout",
          "text": [
            "Estadistico =  0.006028049170369238\n",
            "  R =  463   R_exp =  462.912 \n",
            " n1 =  362 \n",
            " n2 =  638 \n",
            "Varianza =  213.11389764164164\n"
          ]
        }
      ],
      "source": [
        "R = prueba_corridas(l_2)[0]\n",
        "n1 = prueba_corridas(l_2)[1]\n",
        "n2 = prueba_corridas(l_2)[2]\n",
        "R_exp = abs(prueba_corridas(l_2)[3])\n",
        "Z = abs(prueba_corridas(l_2)[4]) \n",
        "stan_dev = abs(prueba_corridas(l_2)[5])\n",
        "\n",
        "print('Estadistico = ', Z)\n",
        "print('  R = ', R, '  R_exp = ', R_exp, '\\n n1 = ', n1, '\\n n2 = ', n2, '\\nVarianza = ', stan_dev**2)"
      ]
    },
    {
      "cell_type": "code",
      "execution_count": null,
      "metadata": {
        "id": "GqAdKnfCSCnn"
      },
      "outputs": [],
      "source": [
        "l_3=[]"
      ]
    },
    {
      "cell_type": "code",
      "execution_count": null,
      "metadata": {
        "id": "MxnF6UQASCno"
      },
      "outputs": [],
      "source": [
        "for i in range(100):\n",
        "    l_3.append(math.sin(i))"
      ]
    },
    {
      "cell_type": "code",
      "execution_count": null,
      "metadata": {
        "id": "gQE9Zy7rSCnr"
      },
      "outputs": [],
      "source": [
        "hist(l_3)"
      ]
    },
    {
      "cell_type": "code",
      "execution_count": null,
      "metadata": {
        "colab": {
          "base_uri": "https://localhost:8080/",
          "height": 246
        },
        "id": "AY7uTBpdSCnw",
        "outputId": "36a0d26a-530f-4a20-8bcd-3a0328e39f3f"
      },
      "outputs": [
        {
          "output_type": "error",
          "ename": "NameError",
          "evalue": "ignored",
          "traceback": [
            "\u001b[0;31m---------------------------------------------------------------------------\u001b[0m",
            "\u001b[0;31mNameError\u001b[0m                                 Traceback (most recent call last)",
            "\u001b[0;32m<ipython-input-29-29afded01c64>\u001b[0m in \u001b[0;36m<module>\u001b[0;34m()\u001b[0m\n\u001b[0;32m----> 1\u001b[0;31m \u001b[0mR\u001b[0m \u001b[0;34m=\u001b[0m \u001b[0mprueba_corridas\u001b[0m\u001b[0;34m(\u001b[0m\u001b[0ml_3\u001b[0m\u001b[0;34m)\u001b[0m\u001b[0;34m[\u001b[0m\u001b[0;36m0\u001b[0m\u001b[0;34m]\u001b[0m\u001b[0;34m\u001b[0m\u001b[0;34m\u001b[0m\u001b[0m\n\u001b[0m\u001b[1;32m      2\u001b[0m \u001b[0mn1\u001b[0m \u001b[0;34m=\u001b[0m \u001b[0mprueba_corridas\u001b[0m\u001b[0;34m(\u001b[0m\u001b[0ml_3\u001b[0m\u001b[0;34m)\u001b[0m\u001b[0;34m[\u001b[0m\u001b[0;36m1\u001b[0m\u001b[0;34m]\u001b[0m\u001b[0;34m\u001b[0m\u001b[0;34m\u001b[0m\u001b[0m\n\u001b[1;32m      3\u001b[0m \u001b[0mn2\u001b[0m \u001b[0;34m=\u001b[0m \u001b[0mprueba_corridas\u001b[0m\u001b[0;34m(\u001b[0m\u001b[0ml_3\u001b[0m\u001b[0;34m)\u001b[0m\u001b[0;34m[\u001b[0m\u001b[0;36m2\u001b[0m\u001b[0;34m]\u001b[0m\u001b[0;34m\u001b[0m\u001b[0;34m\u001b[0m\u001b[0m\n\u001b[1;32m      4\u001b[0m \u001b[0mR_exp\u001b[0m \u001b[0;34m=\u001b[0m \u001b[0mabs\u001b[0m\u001b[0;34m(\u001b[0m\u001b[0mprueba_corridas\u001b[0m\u001b[0;34m(\u001b[0m\u001b[0ml_3\u001b[0m\u001b[0;34m)\u001b[0m\u001b[0;34m[\u001b[0m\u001b[0;36m3\u001b[0m\u001b[0;34m]\u001b[0m\u001b[0;34m)\u001b[0m\u001b[0;34m\u001b[0m\u001b[0;34m\u001b[0m\u001b[0m\n\u001b[1;32m      5\u001b[0m \u001b[0mZ\u001b[0m \u001b[0;34m=\u001b[0m \u001b[0mabs\u001b[0m\u001b[0;34m(\u001b[0m\u001b[0mprueba_corridas\u001b[0m\u001b[0;34m(\u001b[0m\u001b[0ml_3\u001b[0m\u001b[0;34m)\u001b[0m\u001b[0;34m[\u001b[0m\u001b[0;36m4\u001b[0m\u001b[0;34m]\u001b[0m\u001b[0;34m)\u001b[0m\u001b[0;34m\u001b[0m\u001b[0;34m\u001b[0m\u001b[0m\n",
            "\u001b[0;31mNameError\u001b[0m: name 'l_3' is not defined"
          ]
        }
      ],
      "source": [
        "R = prueba_corridas(l_3)[0]\n",
        "n1 = prueba_corridas(l_3)[1]\n",
        "n2 = prueba_corridas(l_3)[2]\n",
        "R_exp = abs(prueba_corridas(l_3)[3])\n",
        "Z = abs(prueba_corridas(l_3)[4]) \n",
        "stan_dev = abs(prueba_corridas(l_3)[5])\n",
        "\n",
        "print('Estadistico = ', Z)\n",
        "print('  R = ', R, '  R_exp = ', R_exp, '\\n n1 = ', n1, '\\n n2 = ', n2, '\\nVarianza = ', stan_dev**2)"
      ]
    },
    {
      "cell_type": "code",
      "execution_count": null,
      "metadata": {
        "id": "4j6oqEVQSCnx"
      },
      "outputs": [],
      "source": [
        ""
      ]
    }
  ],
  "metadata": {
    "kernelspec": {
      "display_name": "Python 3",
      "language": "python",
      "name": "python3"
    },
    "language_info": {
      "codemirror_mode": {
        "name": "ipython",
        "version": 3
      },
      "file_extension": ".py",
      "mimetype": "text/x-python",
      "name": "python",
      "nbconvert_exporter": "python",
      "pygments_lexer": "ipython3",
      "version": "3.7.3"
    },
    "colab": {
      "name": "Pruebas de corridas.ipynb",
      "provenance": [],
      "toc_visible": true,
      "include_colab_link": true
    }
  },
  "nbformat": 4,
  "nbformat_minor": 0
}