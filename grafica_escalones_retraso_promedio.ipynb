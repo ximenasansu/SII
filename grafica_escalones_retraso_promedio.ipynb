{
  "nbformat": 4,
  "nbformat_minor": 0,
  "metadata": {
    "colab": {
      "name": "grafica_escalones_retraso_promedio.ipynb",
      "provenance": [],
      "authorship_tag": "ABX9TyNZbunbICE+Op76TumqLlc8",
      "include_colab_link": true
    },
    "kernelspec": {
      "name": "python3",
      "display_name": "Python 3"
    },
    "language_info": {
      "name": "python"
    }
  },
  "cells": [
    {
      "cell_type": "markdown",
      "metadata": {
        "id": "view-in-github",
        "colab_type": "text"
      },
      "source": [
        "<a href=\"https://colab.research.google.com/github/ximenasansu/SII/blob/main/grafica_escalones_retraso_promedio.ipynb\" target=\"_parent\"><img src=\"https://colab.research.google.com/assets/colab-badge.svg\" alt=\"Open In Colab\"/></a>"
      ]
    },
    {
      "cell_type": "code",
      "execution_count": 1,
      "metadata": {
        "colab": {
          "base_uri": "https://localhost:8080/",
          "height": 519
        },
        "id": "sLbJE6rztam9",
        "outputId": "073aee74-2490-451b-ae57-f6aee29f06f2"
      },
      "outputs": [
        {
          "output_type": "stream",
          "name": "stdout",
          "text": [
            "Retraso promedio =  1.1241\n"
          ]
        },
        {
          "output_type": "display_data",
          "data": {
            "text/plain": [
              "<Figure size 1152x576 with 1 Axes>"
            ],
            "image/png": "[encoded data removed]"
          },
          "metadata": {
            "needs_background": "light"
          }
        }
      ],
      "source": [
        "from random import expovariate\n",
        "from statistics import mean \n",
        "from math import inf as Infinity\n",
        "from matplotlib.pyplot import *\n",
        "from random import seed \n",
        "\n",
        "# Parametros\n",
        "lamda = 1.3                         # Razón de arrivos (1/Lambda)  Ojo\n",
        "mu = 2.0                            # Razón de salida (1/Mu)       Ojo\n",
        "Num_Pkts = 100                  # Numero de paquetes a simular\n",
        "#T = 100000\n",
        "count = 0                           # Contador de paquetes simulados\n",
        "t = 0\n",
        "N = 0                               # Variable de estado: numero de paquetes en el sistema\n",
        "tll = expovariate(lamda)            # Tiempo de llegada\n",
        "ts = Infinity                       # Tiempo de salida\n",
        "\n",
        "# Variables de salida\n",
        "tll_Data = []                       # Lista de tiempos de llegada\n",
        "ts_Data = []                        # Lista de tiempos de salida\n",
        "r_Data = []\n",
        "X = []\n",
        "Y = []                         # Lista de retrasos individuales\n",
        "\n",
        "while count < Num_Pkts:\n",
        "    if tll < ts:                           # Evento de llegada\n",
        "        t = tll\n",
        "        tll_Data.append(t)\n",
        "        N = N + 1.0\n",
        "        tll = t + expovariate(lamda)\n",
        "        X.append(t)\n",
        "        Y.append(N)\n",
        "        if N == 1:\n",
        "            ts = t + expovariate(mu)\n",
        "    else:                                         # Evento de salida\n",
        "        t = ts \n",
        "        ts_Data.append(t)\n",
        "        N = N - 1.0\n",
        "        count = count + 1 \n",
        "        X.append(t)\n",
        "        Y.append(N)                          # Paquetes simulados\n",
        "        if N > 0:\n",
        "            ts = t + expovariate(mu)\n",
        "        else:\n",
        "            ts = Infinity\n",
        "            \n",
        "# Estimación del retraso promedio:\n",
        "for i in range(Num_Pkts):\n",
        "#for i in range(T):\n",
        "    d = ts_Data[i] - tll_Data[i]\n",
        "    r_Data.append(d)\n",
        "print( \"Retraso promedio = \", round( mean(r_Data), 4) )\n",
        "\n",
        "fig = figure(1, figsize=(16, 8))\n",
        "step(X, Y, Linewidth=1.2, color='black')\n",
        "xlabel('Tiempo', size=16)\n",
        "ylabel('Clientes', size=16)\n",
        "show()"
      ]
    }
  ]
}