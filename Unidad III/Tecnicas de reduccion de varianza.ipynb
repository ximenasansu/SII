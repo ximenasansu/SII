{
  "cells": [
    {
      "cell_type": "markdown",
      "metadata": {
        "id": "7AJ5ciKKg-21"
      },
      "source": [
        "# <font color='blue'>Técnicas de Reducción de Varianza"
      ]
    },
    {
      "cell_type": "markdown",
      "metadata": {
        "id": "vyMhIEK8g-3B"
      },
      "source": [
        "\n",
        "En las simulaciones Monte Carlo, como en otras técnicas de muestreo <font color='red'> el error es proporcional a $\\frac{1}{\\sqrt{N}}$, siendo $N$ el tamaño de la muestra.</font>"
      ]
    },
    {
      "cell_type": "markdown",
      "metadata": {
        "id": "Nb3IgU9wg-3E"
      },
      "source": [
        "Si consideramos la **precisión** como proporcional a la desviación estándar, entonces se sigue que la cantidad de trabajo computacional requerido varía con el cuadrado de la precisión deseada.\n",
        "\n",
        "Los **métodos de reducción de varianza** buscan reducir esa constante de proporcionalidad para aumentar la precisión sin tener que aumentar el trabajo computacional.\n",
        "\n",
        "Entre esos métodos, podemos mencionar:\n",
        "\n",
        "* Variables antitéticas.\n",
        "* Muestreo Importancia.\n",
        "* Muestreo estratificado. \n",
        "* Variables de control.\n",
        "* Monte Carlo condicional."
      ]
    },
    {
      "cell_type": "markdown",
      "metadata": {
        "id": "SjGYt64og-3H"
      },
      "source": [
        "## <font color='blue'> Variables Antitéticas"
      ]
    },
    {
      "cell_type": "markdown",
      "metadata": {
        "id": "G0GRkM-Eg-3J"
      },
      "source": [
        "Esta técnica se basa en el uso del teorema:"
      ]
    },
    {
      "cell_type": "markdown",
      "metadata": {
        "id": "tHUNcQslg-3L"
      },
      "source": [
        "$$Var(\\frac{X_1+X_2}{2})=\\frac{1}{4}[Var(X_1)+Var(X_1)+2Cov(X_1+X_2)]$$"
      ]
    },
    {
      "cell_type": "markdown",
      "metadata": {
        "id": "_NB1BYeig-3M"
      },
      "source": [
        "Supongamos que $\\hat{\\theta_1}$ es un estimador insesgado del párametro $\\theta$ y que además $\\hat{\\theta_1}$ es una función de $m$ números aleatorios $R_1, ..., R_m$. Debido a que $1 - R_m$ sigue la misma distribución que $R_m$ (ambos $U(0,1)$), podemos construir otro estimador simplemente sustituyendo $R_m$ por $1-R_m$.  "
      ]
    },
    {
      "cell_type": "code",
      "execution_count": null,
      "metadata": {
        "id": "Y9u2qI9lg-3Q"
      },
      "outputs": [],
      "source": [
        ""
      ]
    },
    {
      "cell_type": "markdown",
      "metadata": {
        "id": "43YC1lh2g-3T"
      },
      "source": [
        "Consideremos la estimación de la integral:\n",
        "\n",
        " <font color='red'> $$\\mathcal{I}=\\int_0^1 \\frac{1}{1+x} dx$$"
      ]
    },
    {
      "cell_type": "markdown",
      "metadata": {
        "id": "-L-3_LlEg-3W"
      },
      "source": [
        "## Ejercicio:\n",
        "\n",
        "* Calcular el valor exacto de esta integral."
      ]
    },
    {
      "cell_type": "markdown",
      "metadata": {
        "id": "fb4B5GCdg-3Z"
      },
      "source": [
        "Podemos estimar el valor de esta integral por el método de la media muestral:\n",
        "\n",
        "$$\\mathcal{I} \\approx \\frac{1}{m} \\Big( \\frac{1}{1 + u_1} + \\frac{1}{1 + u_2} + \\frac{1}{1 + u_3} + ... + \\frac{1}{1 + u_m} \\Big)$$"
      ]
    },
    {
      "cell_type": "code",
      "execution_count": 1,
      "metadata": {
        "id": "9aDVpbYWg-3b"
      },
      "outputs": [],
      "source": [
        "import numpy as np\n",
        "import matplotlib.pyplot as plt"
      ]
    },
    {
      "cell_type": "code",
      "execution_count": 2,
      "metadata": {
        "id": "eKz_smp6g-3e"
      },
      "outputs": [],
      "source": [
        "#Definimos la función de prueba.\n",
        "def funcion(x):\n",
        "    return 1.0/(1+x) "
      ]
    },
    {
      "cell_type": "code",
      "execution_count": 3,
      "metadata": {
        "id": "Vubl7uTYg-3h",
        "outputId": "4e6d3e51-9c18-4b51-800a-d382afbe0e30",
        "colab": {
          "base_uri": "https://localhost:8080/",
          "height": 295
        }
      },
      "outputs": [
        {
          "output_type": "display_data",
          "data": {
            "text/plain": [
              "<Figure size 432x288 with 1 Axes>"
            ],
            "image/png": "[encoded data removed]"
          },
          "metadata": {
            "needs_background": "light"
          }
        }
      ],
      "source": [
        "#Graficamos la función de prueba.\n",
        "X=np.linspace(0,1,1000)\n",
        "plt.plot(X,funcion(X), color='red', label=\"$y=1/(1+x)$\")\n",
        "plt.fill_between(X,funcion(X))\n",
        "plt.legend()\n",
        "plt.xlim(0.0, 1.2)\n",
        "plt.ylim(0.0, 1.2)\n",
        "plt.grid(True)\n",
        "plt.title('Función de prueba', color='b')\n",
        "plt.xlabel('X')\n",
        "plt.ylabel('Y')\n",
        "plt.show()"
      ]
    },
    {
      "cell_type": "markdown",
      "metadata": {
        "id": "d4U6ZcR7g-3k"
      },
      "source": [
        "Podemos estimar el valor de esta integral por el método de la media muestral:\n",
        "\n",
        "$$\\mathcal{I} \\approx \\frac{1}{m} \\Big( \\frac{1}{1 + u_1} + \\frac{1}{1 + u_2} + \\frac{1}{1 + u_3} + ... + \\frac{1}{1 + u_m} \\Big)$$"
      ]
    },
    {
      "cell_type": "code",
      "execution_count": 4,
      "metadata": {
        "id": "qKY99DuSg-3l",
        "outputId": "d5567694-942a-4053-e490-4acfb6696177",
        "colab": {
          "base_uri": "https://localhost:8080/"
        }
      },
      "outputs": [
        {
          "output_type": "stream",
          "name": "stdout",
          "text": [
            "El valor de la integral es: 0.69394\n",
            "El error estándar es: 0.00256\n"
          ]
        }
      ],
      "source": [
        "def integ(func=funcion, n=3000):\n",
        "    muestreo=[]\n",
        "    suma=[]\n",
        "    for i in range(n):\n",
        "        u= np.random.random_sample()\n",
        "        muestreo.append(u)\n",
        "        y=funcion(u)\n",
        "        suma.append(y)\n",
        "\n",
        "    return np.mean(suma), np.std(suma)/np.sqrt(n)\n",
        "\n",
        "print(\"El valor de la integral es:\", round(integ()[0],5))\n",
        "print(\"El error estándar es:\", round(integ()[1],5))"
      ]
    },
    {
      "cell_type": "code",
      "execution_count": 5,
      "metadata": {
        "id": "QEk4qoIVg-3n",
        "outputId": "dc5bfad5-86e8-4876-ff76-8cf7bd1de755",
        "colab": {
          "base_uri": "https://localhost:8080/"
        }
      },
      "outputs": [
        {
          "output_type": "stream",
          "name": "stdout",
          "text": [
            "El valor de la integral es: 0.6949\n",
            "El error estándar es: 0.00256\n"
          ]
        }
      ],
      "source": [
        "def integ(func=funcion, n=3000):\n",
        "    muestreo=[]\n",
        "    suma=[]\n",
        "    for i in range(n):\n",
        "        u= np.random.random_sample()\n",
        "        muestreo.append(u)\n",
        "        y=funcion(1-u)\n",
        "        suma.append(y)\n",
        "\n",
        "    return np.mean(suma), np.std(suma)/np.sqrt(n), suma\n",
        "\n",
        "print(\"El valor de la integral es:\", round(integ()[0],5))\n",
        "print(\"El error estándar es:\", round(integ()[1],5))"
      ]
    },
    {
      "cell_type": "code",
      "execution_count": 6,
      "metadata": {
        "id": "Up0J70Lxg-3p",
        "outputId": "e3714097-3a18-43d8-994e-da52e7d90ce4",
        "colab": {
          "base_uri": "https://localhost:8080/"
        }
      },
      "outputs": [
        {
          "output_type": "stream",
          "name": "stdout",
          "text": [
            "El valor de la integral es: 0.69336\n",
            "El error estándar es: 0.00045\n"
          ]
        }
      ],
      "source": [
        "def integ(func=funcion, n=3000):\n",
        "    muestreo=[]\n",
        "    suma=[]\n",
        "    for i in range(n):\n",
        "        u= np.random.random_sample()\n",
        "        muestreo.append(u)\n",
        "        y=(funcion(u) + funcion(1-u))/2.0\n",
        "        suma.append(y)\n",
        "\n",
        "    return np.mean(suma), np.std(suma)/np.sqrt(n)\n",
        "\n",
        "print(\"El valor de la integral es:\", round(integ()[0],5))\n",
        "print(\"El error estándar es:\", round(integ()[1],5))"
      ]
    },
    {
      "cell_type": "code",
      "execution_count": 11,
      "metadata": {
        "id": "GbB775CQg-3r"
      },
      "outputs": [],
      "source": [
        "def mc_crudo(funcion, n):\n",
        "    integral=[]\n",
        "    suma=[]\n",
        "    for i in range(n):\n",
        "        u= np.random.random_sample()\n",
        "        y=(funcion(u) + funcion(1-u))/2.0\n",
        "        suma.append(y)\n",
        "        integral.append(np.mean(suma))\n",
        "        \n",
        "    return np.mean(suma), np.std(suma)/np.sqrt(n), integral\n",
        "    print(\"El valor de la integral con v antiteticas es:\", round(np.mean(suma),5))\n",
        "    print(\"El error estándar es:\", round(np.std(suma)/np.sqrt(n),5))\n",
        "    \n",
        "    "
      ]
    },
    {
      "cell_type": "code",
      "execution_count": 15,
      "metadata": {
        "id": "yvJwHBS5g-3t"
      },
      "outputs": [],
      "source": [
        "def mc_crudo1(funcion, n):\n",
        "    integral=[]\n",
        "    suma=[]\n",
        "    for i in range(n):\n",
        "        u= np.random.random_sample()\n",
        "        y=funcion(u)\n",
        "        suma.append(y)\n",
        "        integral.append(np.mean(suma))\n",
        "   \n",
        "    print(\"El valor de la integral es:\", round(np.mean(suma),5))\n",
        "    print(\"El error estándar es:\", round(np.std(suma)/np.sqrt(n),5))\n",
        "    \n",
        "    return np.mean(suma), np.std(suma)/np.sqrt(n), integral"
      ]
    },
    {
      "cell_type": "code",
      "execution_count": 16,
      "metadata": {
        "id": "9rdfnmYbg-3v",
        "outputId": "67f4d2a4-8fab-4a3a-d61c-3f39c36e0e1b",
        "colab": {
          "base_uri": "https://localhost:8080/",
          "height": 320
        }
      },
      "outputs": [
        {
          "output_type": "stream",
          "name": "stdout",
          "text": [
            "El valor de la integral es: 0.6934\n",
            "El error estándar es: 0.00446\n"
          ]
        },
        {
          "output_type": "execute_result",
          "data": {
            "text/plain": [
              "<matplotlib.legend.Legend at 0x7f1570479ad0>"
            ]
          },
          "metadata": {},
          "execution_count": 16
        },
        {
          "output_type": "display_data",
          "data": {
            "text/plain": [
              "<Figure size 432x288 with 1 Axes>"
            ],
            "image/png": "[encoded data removed]"
          },
          "metadata": {
            "needs_background": "light"
          }
        }
      ],
      "source": [
        "X1=mc_crudo1(funcion, n=1000)[2]\n",
        "X=mc_crudo(funcion, n=1000)[2]\n",
        "\n",
        "plt.plot(X, color='red', label='antiteticas')\n",
        "plt.plot(X1, color='green', label='u')\n",
        "plt.legend()"
      ]
    },
    {
      "cell_type": "markdown",
      "metadata": {
        "id": "l8Tc63odg-3x"
      },
      "source": [
        "Supongamos que $\\hat{\\theta_1}$ es un estimador insesgado del párametro $\\theta$ y que además $\\hat{\\theta_1}$ es una función de $m$ números aleatorios $R_1, ..., R_m$. Debido a que $1 - R_m$ sigue la misma distribución que $R_m$ (ambos $U(0,1)$), podemos construir otro estimador simplemente sustituyendo $R_m$ por $1-R_m$.  "
      ]
    },
    {
      "cell_type": "markdown",
      "metadata": {
        "id": "6N_MByFwg-3y"
      },
      "source": [
        "## <font color='blue'> Variables de control"
      ]
    },
    {
      "cell_type": "markdown",
      "metadata": {
        "id": "ys6nC3RZg-30"
      },
      "source": [
        "Aplicamos esta técnica cuando al estimar el parámetro $\\theta$ mediante la variable aleatoria $X$ también contamos con otra variable $Y$, con $E(Y) = \\mu_y$."
      ]
    },
    {
      "cell_type": "markdown",
      "metadata": {
        "id": "Vk6nwa_bg-31"
      },
      "source": [
        "La variable:\n",
        "\n",
        "$$Z = X + c(Y-\\mu_y)$$"
      ]
    },
    {
      "cell_type": "markdown",
      "metadata": {
        "id": "L_nDlHlfg-32"
      },
      "source": [
        "tiene el mismo valor esperado que $X$ para todo $c$."
      ]
    },
    {
      "cell_type": "markdown",
      "metadata": {
        "id": "__iJa0KQg-33"
      },
      "source": [
        "La idea de esta técnica consiste en encontrar el valor $c$ que haga la varianza lo más pequeña posible."
      ]
    },
    {
      "cell_type": "markdown",
      "metadata": {
        "id": "yNwvxPDng-35"
      },
      "source": [
        "$$V(Z)=V(x)+2cCov(X,Y)+ c^2V(Y)$$"
      ]
    },
    {
      "cell_type": "markdown",
      "metadata": {
        "id": "t08RP-GLg-36"
      },
      "source": [
        "Que tiene un mínimo para \n",
        "\n",
        "$$c= -\\frac{Cov(X,Y)}{V(Y)}$$"
      ]
    },
    {
      "cell_type": "markdown",
      "metadata": {
        "id": "XQsw2klUg-36"
      },
      "source": [
        "Y ese mínimo tiene el valor:\n",
        "    \n",
        "$$V(Z)=V(X)-\\frac{Cov(X,Y)^2}{V(Y)}$$"
      ]
    },
    {
      "cell_type": "markdown",
      "metadata": {
        "id": "Ez8TyT53g-37"
      },
      "source": [
        "Y recordando que el coeficiente de correlación entre $X$ y $Y$ es:\n",
        "\n",
        "$$r_{XY}=\\frac{Cov(X,Y)}{\\sqrt{V(X)V(Y)}}$$"
      ]
    },
    {
      "cell_type": "markdown",
      "metadata": {
        "id": "Wgef6c1Jg-38"
      },
      "source": [
        "Se tiene:\n",
        "\n",
        "$$V(Z)=V(X)(1-r_{XY})$$"
      ]
    },
    {
      "cell_type": "markdown",
      "metadata": {
        "id": "DmKRh_1wg-39"
      },
      "source": [
        "### Ejemplo\n",
        "\n",
        "Calcular $\\int_0^1 \\frac{1}{1+x^2}dx$"
      ]
    },
    {
      "cell_type": "markdown",
      "metadata": {
        "id": "ZBGaUojlg-3-"
      },
      "source": [
        "Si usamos el método de Monte Carlo crudo (o de la media muestral) para estimar esta integral, nuestro estimador es:\n",
        "    \n",
        "$$X=\\frac{\\frac{1}{1 + U_1^2}+...+\\frac{1}{1 + U_n^2}}{n}$$"
      ]
    },
    {
      "cell_type": "markdown",
      "metadata": {
        "id": "0eLkrOKpg-3-"
      },
      "source": [
        "La variable de control puede ser\n",
        "\n",
        "$$Y=\\frac{U_1+...+U_n}{n}$$"
      ]
    },
    {
      "cell_type": "code",
      "source": [
        "from scipy import stats\n",
        "from scipy.stats import norm\n",
        "import numpy as np\n",
        "import matplotlib.pyplot as plt\n",
        "\n",
        "miu = 2\n",
        "sigma = 0.7\n",
        "f = lambda x: (1/np.sqrt(2*np.pi*sigma**2))*np.exp(-(x-miu)**2/(2.0*sigma**2)) # funcion normal\n",
        "normfun = lambda x: norm.cdf(x-mu, scale=sigma)\n",
        "xmax =np.pi   \n",
        "xmin =0\n",
        "x=np.linspace(xmin, xmax, 1000)\n",
        "\n",
        "plt.figure(figsize=(16,8))\n",
        "plt.subplot(1,2,1)\n",
        "plt.plot(x, f(x), 'b', label='$x\\sin(x)$')\n",
        "plt.xlabel('x')\n",
        "plt.legend()\n",
        "\n",
        "I = (xmax) - (xmin)\n",
        "print(I)"
      ],
      "metadata": {
        "id": "B7PJ_9pZivqS",
        "outputId": "175fbe04-e2f5-4886-aa53-f53ae7e805f9",
        "colab": {
          "base_uri": "https://localhost:8080/",
          "height": 515
        }
      },
      "execution_count": 23,
      "outputs": [
        {
          "output_type": "stream",
          "name": "stdout",
          "text": [
            "3.141592653589793\n"
          ]
        },
        {
          "output_type": "display_data",
          "data": {
            "text/plain": [
              "<Figure size 1152x576 with 1 Axes>"
            ],
            "image/png": "[encoded data removed]"
          },
          "metadata": {
            "needs_background": "light"
          }
        }
      ]
    },
    {
      "cell_type": "markdown",
      "metadata": {
        "id": "CLLVFo4Lg-4A"
      },
      "source": [
        "### Ejercicio:\n",
        "\n",
        "Comprobar que $Cov(X,Y)=\\frac{\\frac{log(2)}{2}-\\frac{\\pi}{8}}{n}$\n",
        "\n",
        "y\n",
        "\n",
        "$c=-12 \\frac{log(2)}{2}-\\frac{\\pi}{8}=0.5535$"
      ]
    },
    {
      "cell_type": "code",
      "execution_count": null,
      "metadata": {
        "id": "2lZTG8C_g-4B"
      },
      "outputs": [],
      "source": [
        ""
      ]
    },
    {
      "cell_type": "markdown",
      "metadata": {
        "id": "O8CJ0d4og-4C"
      },
      "source": [
        "Aquí completamos el ejercicio."
      ]
    },
    {
      "cell_type": "code",
      "execution_count": 24,
      "metadata": {
        "id": "YjfmzA7pg-4D"
      },
      "outputs": [],
      "source": [
        "#Definimos la función de prueba.\n",
        "def funcion(x):\n",
        "    return 1.0/(1+x**2) "
      ]
    },
    {
      "cell_type": "code",
      "execution_count": 25,
      "metadata": {
        "id": "a4Rn0fv6g-4E",
        "outputId": "36d9f202-eed5-4d25-d537-a183a4a1a5bd",
        "colab": {
          "base_uri": "https://localhost:8080/"
        }
      },
      "outputs": [
        {
          "output_type": "stream",
          "name": "stdout",
          "text": [
            "El valor de la integral es: 0.78547\n",
            "El error estándar es: 0.00161\n"
          ]
        }
      ],
      "source": [
        "def integ(func=funcion, n=10000):\n",
        "    muestreo=[]\n",
        "    suma=[]\n",
        "    for i in range(n):\n",
        "        u= np.random.random_sample()\n",
        "        muestreo.append(u)\n",
        "        y=funcion(u)\n",
        "        suma.append(y)\n",
        "\n",
        "    return np.mean(suma), np.std(suma)/np.sqrt(n)\n",
        "\n",
        "print(\"El valor de la integral es:\", round(integ()[0],5))\n",
        "print(\"El error estándar es:\", round(integ()[1],5))"
      ]
    },
    {
      "cell_type": "code",
      "execution_count": 26,
      "metadata": {
        "id": "DTeLBqQEg-4F",
        "outputId": "9d7f0ba1-22b9-4573-8cdd-061a80982d8f",
        "colab": {
          "base_uri": "https://localhost:8080/"
        }
      },
      "outputs": [
        {
          "output_type": "stream",
          "name": "stdout",
          "text": [
            "El valor de la integral es: 0.78524\n",
            "El error estándar es: 0.00018\n"
          ]
        }
      ],
      "source": [
        "def integ_control(func=funcion, n=10000):\n",
        "    muestreo=[]\n",
        "    suma=[]\n",
        "    for i in range(n):\n",
        "        u= np.random.random_sample()\n",
        "        muestreo.append(u)\n",
        "        y=funcion(u) + 0.5535*(u - 0.5)\n",
        "        suma.append(y)\n",
        "\n",
        "    return np.mean(suma), np.std(suma)/np.sqrt(n)\n",
        "\n",
        "print(\"El valor de la integral es:\", round(integ_control()[0],5))\n",
        "print(\"El error estándar es:\", round(integ_control()[1],5))"
      ]
    },
    {
      "cell_type": "markdown",
      "metadata": {
        "id": "XrLzqHgeg-4G"
      },
      "source": [
        "La reducción es de un 90% aprox."
      ]
    },
    {
      "cell_type": "markdown",
      "metadata": {
        "id": "8ssm6Btog-4H"
      },
      "source": [
        "## <font color='blue'> Muestreo de Importancia"
      ]
    },
    {
      "cell_type": "markdown",
      "metadata": {
        "id": "LLMbUUK2g-4H"
      },
      "source": [
        "Si se desea estimar, a partir de la variable simulada $X$:\n",
        "\n",
        "$$\\theta = \\mathbb{E}[h(X)] = \\int h(X)f(X) dX$$"
      ]
    },
    {
      "cell_type": "markdown",
      "metadata": {
        "id": "pBTTnD5rg-4I"
      },
      "source": [
        "Observamos que $X$ se está simulando con una función de densidad $f(X)$."
      ]
    },
    {
      "cell_type": "markdown",
      "metadata": {
        "id": "XDx-RdVag-4J"
      },
      "source": [
        "Si $g(x)$ es otra densidad de probabilidad, tal que $f(x)=0$ siempre que $g(x)=0$, entonces podemos expresar $\\theta$ como:\n",
        "\n",
        "$$\\theta = \\mathbb{E_g}[\\frac{h(X)f(X)}{g(X)}] = \\int \\frac{h(X)f(X)}{g(X)} g(X) dX$$"
      ]
    },
    {
      "cell_type": "markdown",
      "metadata": {
        "id": "tbbERKQrg-4K"
      },
      "source": [
        "La idea es elegir una función $g(x)$ de modo que la variable aleatoria $\\frac{h(X)f(X)}{g(X)}$ tenga una varianza pequeña. Para ello se suele elegir una función que se parezca a $h(x)f(x)$ para que el muestreo se haga en las partes \"más importantes\" de la función."
      ]
    },
    {
      "cell_type": "markdown",
      "metadata": {
        "id": "8Y-5C4ttg-4K"
      },
      "source": [
        "## Ejemplo:\n",
        "\n",
        "Estimar $\\int_0^{\\pi} x sen(x) dx$"
      ]
    },
    {
      "cell_type": "markdown",
      "metadata": {
        "id": "tgB5PECAg-4L"
      },
      "source": [
        "Para entender el problema, primero graficamos la función a integrar."
      ]
    },
    {
      "cell_type": "markdown",
      "metadata": {
        "id": "qX1SDIUvg-4M"
      },
      "source": [
        "Example: Calculate ∫sin(x)xdx\n",
        " \n",
        "The function has a shape that is similar to Gaussian and therefore\n",
        "we choose here a Gaussian as importance sampling distribution."
      ]
    },
    {
      "cell_type": "code",
      "execution_count": null,
      "metadata": {
        "id": "b3TMKGF4g-4N"
      },
      "outputs": [],
      "source": [
        "from scipy import stats\n",
        "from scipy.stats import norm\n",
        "import numpy as np\n",
        "import matplotlib.pyplot as plt"
      ]
    },
    {
      "cell_type": "code",
      "execution_count": null,
      "metadata": {
        "id": "ys4k1RaDg-4O"
      },
      "outputs": [],
      "source": [
        "mu = 2\n",
        "sig = 0.7\n",
        "\n",
        "f = lambda x: np.sin(x)*x           # función de prueba\n",
        "\n",
        "infun = lambda x: np.sin(x)-x*np.cos(x)    #integral de la función de prueba\n",
        "\n",
        "p = lambda x: (1/np.sqrt(2*np.pi*sig**2))*np.exp(-(x-mu)**2/(2.0*sig**2)) # funcion normal: elegida por el parecido con f.\n",
        "\n",
        "normfun = lambda x: norm.cdf(x-mu, scale=sig)"
      ]
    },
    {
      "cell_type": "code",
      "execution_count": null,
      "metadata": {
        "id": "GTFzCDJwg-4P"
      },
      "outputs": [],
      "source": [
        "xmax =np.pi   #\n",
        "xmin =0\n",
        " \n",
        "x=np.linspace(xmin, xmax, 1000)\n",
        "\n",
        "plt.figure(figsize=(18,8))\n",
        "plt.subplot(1,2,1)\n",
        "plt.plot(x, f(x), 'b', label='$x\\sin(x)$')\n",
        "#plt.plot(x, p(x), 'r', label='Normal')\n",
        "plt.xlabel('x')\n",
        "plt.legend()"
      ]
    },
    {
      "cell_type": "markdown",
      "metadata": {
        "id": "YMiBWO6yg-4Q"
      },
      "source": [
        "Podemos calcular el valor exacto de la integral:"
      ]
    },
    {
      "cell_type": "code",
      "execution_count": null,
      "metadata": {
        "id": "h6YtwYgwg-4R"
      },
      "outputs": [],
      "source": [
        "I = infun(xmax) - infun(xmin)\n",
        "print(I)"
      ]
    },
    {
      "cell_type": "markdown",
      "metadata": {
        "id": "_rFWQGeIg-4S"
      },
      "source": [
        "Estimamos la integral por Monte Carlo Crudo:"
      ]
    },
    {
      "cell_type": "code",
      "execution_count": null,
      "metadata": {
        "id": "RE7YZFCTg-4T"
      },
      "outputs": [],
      "source": [
        "N =1000   # Tamaño de la muestra\n",
        "\n",
        "I_mc = np.zeros(1000)\n",
        "\n",
        "for k in np.arange(0,1000):\n",
        "  x = np.random.uniform(low=xmin, high=xmax, size=N)\n",
        "\n",
        "  I_mc[k] = (xmax-xmin)*np.mean(f(x))\n",
        "    \n",
        "print(np.mean(I_mc))"
      ]
    },
    {
      "cell_type": "markdown",
      "metadata": {
        "id": "nz85RsJpg-4U"
      },
      "source": [
        "Y también la estimamos por muestreo importancia, usando la función normal."
      ]
    },
    {
      "cell_type": "code",
      "execution_count": null,
      "metadata": {
        "id": "F4B8p4P4g-4V"
      },
      "outputs": [],
      "source": [
        "Iis = np.zeros(1000)\n",
        "for k in np.arange(0,1000):\n",
        "                                                  # xis~N(mu,sig^2)\n",
        "  xis = mu + sig*np.random.randn(N,1)\n",
        "  xis = xis[ (xis<xmax) & (xis>xmin)] \n",
        "                                                   # normalizacion de gaussian from 0..pi\n",
        "  normal = normfun (np.pi) - normfun (0)           # Nota: La integral de la función de densidad  en [0 pi] es 1\n",
        "  Iis[k] = np.mean (f (xis) / p (xis)) * normal    # Por lo tanto, multiplicar por un coeficiente.\n",
        "\n",
        "print(np.mean(Iis[k]))\n",
        "\n",
        "plt.figure(figsize=(18,8))\n",
        "plt.subplot(1,2,2)\n",
        "plt.hist(Iis,30, histtype='step', label='Muestreo Importancia')\n",
        "plt.hist(I_mc, 30, color='r',histtype='step', label='MC Crudo')\n",
        "plt.vlines(np.pi, 0, 100, color='g', linestyle='dashed')\n",
        "plt.legend()\n",
        "plt.show()"
      ]
    },
    {
      "cell_type": "code",
      "execution_count": null,
      "metadata": {
        "id": "ISi2GNTkg-4X"
      },
      "outputs": [],
      "source": [
        ""
      ]
    },
    {
      "cell_type": "code",
      "execution_count": null,
      "metadata": {
        "id": "aj2Ce2Ecg-4Y"
      },
      "outputs": [],
      "source": [
        ""
      ]
    },
    {
      "cell_type": "code",
      "execution_count": null,
      "metadata": {
        "id": "VeX2HuaOg-4Y"
      },
      "outputs": [],
      "source": [
        ""
      ]
    },
    {
      "cell_type": "markdown",
      "metadata": {
        "id": "MNDg_0YSg-4Z"
      },
      "source": [
        "## <font color='blue'> Jakknife"
      ]
    },
    {
      "cell_type": "code",
      "execution_count": null,
      "metadata": {
        "id": "TWjJTDjCg-4a"
      },
      "outputs": [],
      "source": [
        "import random\n",
        "import statistics \n",
        "import matplotlib.pyplot as plt"
      ]
    },
    {
      "cell_type": "code",
      "execution_count": null,
      "metadata": {
        "id": "KFvSZfZVg-4b"
      },
      "outputs": [],
      "source": [
        "PopData = list()\n",
        "\n",
        "random.seed(5)\n",
        "\n",
        "for i in range(100):\n",
        "    DataElem = 10 * random.random()\n",
        "    PopData.append(DataElem)"
      ]
    },
    {
      "cell_type": "code",
      "execution_count": null,
      "metadata": {
        "id": "d9TUoOGYg-4c"
      },
      "outputs": [],
      "source": [
        "PopData"
      ]
    },
    {
      "cell_type": "code",
      "execution_count": null,
      "metadata": {
        "id": "udl3tuIZg-4d"
      },
      "outputs": [],
      "source": [
        "def CVCalc(Dat):\n",
        "    CVCalc = statistics.stdev(Dat)/statistics.mean(Dat) \n",
        "    return CVCalc"
      ]
    },
    {
      "cell_type": "code",
      "execution_count": null,
      "metadata": {
        "id": "Yqvi9N_Sg-4e"
      },
      "outputs": [],
      "source": [
        "CVPopData = CVCalc(PopData)\n",
        "print(CVPopData)"
      ]
    },
    {
      "cell_type": "code",
      "execution_count": null,
      "metadata": {
        "id": "T4oSS4ohg-4f"
      },
      "outputs": [],
      "source": [
        "N = len(PopData)\n",
        "JackVal = list()\n",
        "PseudoVal = list()\n",
        "for i in range(N-1):\n",
        "    JackVal.append(0)\n",
        "for i in range(N):\n",
        "    PseudoVal.append(0)\n",
        "\n",
        "for i in range(N):\n",
        "    for j in range(N):\n",
        "        if(j < i): \n",
        "            JackVal[j] = PopData[j]\n",
        "        else:\n",
        "            if(j > i):\n",
        "                JackVal[j-1]= PopData[j]\n",
        "    PseudoVal[i] = N*CVCalc(PopData)-(N-1)*CVCalc(JackVal)"
      ]
    },
    {
      "cell_type": "code",
      "execution_count": null,
      "metadata": {
        "id": "lbjnMVfBg-4g"
      },
      "outputs": [],
      "source": [
        "plt.hist(PseudoVal)\n",
        "plt.show()"
      ]
    },
    {
      "cell_type": "code",
      "execution_count": null,
      "metadata": {
        "id": "byqOzEsNg-4h"
      },
      "outputs": [],
      "source": [
        "MeanPseudoVal=statistics.mean(PseudoVal)\n",
        "print(MeanPseudoVal)"
      ]
    },
    {
      "cell_type": "code",
      "execution_count": null,
      "metadata": {
        "id": "-SRMWIl-g-4i"
      },
      "outputs": [],
      "source": [
        "VariancePseudoVal=statistics.variance(PseudoVal)\n",
        "print(VariancePseudoVal)"
      ]
    },
    {
      "cell_type": "code",
      "execution_count": null,
      "metadata": {
        "id": "Grclc1_Pg-4i"
      },
      "outputs": [],
      "source": [
        "MeanPseudoVal=statistics.mean(PseudoVal)\n",
        "print(MeanPseudoVal)"
      ]
    },
    {
      "cell_type": "code",
      "execution_count": null,
      "metadata": {
        "id": "kAmyV5mxg-4j"
      },
      "outputs": [],
      "source": [
        ""
      ]
    },
    {
      "cell_type": "code",
      "execution_count": null,
      "metadata": {
        "id": "2_94PmzNg-4k"
      },
      "outputs": [],
      "source": [
        ""
      ]
    },
    {
      "cell_type": "markdown",
      "metadata": {
        "id": "iNND9G5og-4l"
      },
      "source": [
        "## <font color='blue'> Bootstrap"
      ]
    },
    {
      "cell_type": "code",
      "execution_count": null,
      "metadata": {
        "id": "VR9v_ALrg-4l"
      },
      "outputs": [],
      "source": [
        "import random\n",
        "import numpy as np \n",
        "import matplotlib.pyplot as plt"
      ]
    },
    {
      "cell_type": "code",
      "execution_count": null,
      "metadata": {
        "id": "U7VhsNWcg-4m"
      },
      "outputs": [],
      "source": [
        "PopData = list()\n",
        "\n",
        "random.seed(7)\n",
        "\n",
        "for i in range(1000):\n",
        "    DataElem = 50 * random.random()\n",
        "    PopData.append(DataElem)"
      ]
    },
    {
      "cell_type": "code",
      "execution_count": null,
      "metadata": {
        "id": "fPiPK1F0g-4n"
      },
      "outputs": [],
      "source": [
        "PopData"
      ]
    },
    {
      "cell_type": "code",
      "execution_count": null,
      "metadata": {
        "id": "4E-qtu0Tg-4o"
      },
      "outputs": [],
      "source": [
        "PopSample = random.choices(PopData, k=100)"
      ]
    },
    {
      "cell_type": "code",
      "execution_count": null,
      "metadata": {
        "id": "m7sjLJFeg-4p"
      },
      "outputs": [],
      "source": [
        "PopSampleMean = list()\n",
        "for i in range(10000):  \n",
        "    SampleI = random.choices(PopData, k=100)\n",
        "    PopSampleMean.append(np.mean(SampleI))\n",
        "\n",
        "plt.hist(PopSampleMean)\n",
        "plt.show()"
      ]
    },
    {
      "cell_type": "code",
      "execution_count": null,
      "metadata": {
        "id": "9hZ7Pc1pg-4q"
      },
      "outputs": [],
      "source": [
        "MeanPopSampleMean = np.mean(PopSampleMean)\n",
        "print(\"The mean of the Bootstrap estimator is \",MeanPopSampleMean)"
      ]
    },
    {
      "cell_type": "code",
      "execution_count": null,
      "metadata": {
        "id": "2BBM8laGg-4r"
      },
      "outputs": [],
      "source": [
        "MeanPopData = np.mean(PopData)\n",
        "print(\"The mean of the population is \",MeanPopData)"
      ]
    },
    {
      "cell_type": "code",
      "execution_count": null,
      "metadata": {
        "id": "AeWtw2t6g-4s"
      },
      "outputs": [],
      "source": [
        "MeanPopSample = np.mean(PopSample)\n",
        "print(\"The mean of the simple random sample is \",MeanPopSample)"
      ]
    }
  ],
  "metadata": {
    "kernelspec": {
      "display_name": "Python 3",
      "language": "python",
      "name": "python3"
    },
    "language_info": {
      "codemirror_mode": {
        "name": "ipython",
        "version": 3
      },
      "file_extension": ".py",
      "mimetype": "text/x-python",
      "name": "python",
      "nbconvert_exporter": "python",
      "pygments_lexer": "ipython3",
      "version": "3.7.3"
    },
    "colab": {
      "name": "Tecnicas de reduccion de varianza.ipynb",
      "provenance": []
    }
  },
  "nbformat": 4,
  "nbformat_minor": 0
}