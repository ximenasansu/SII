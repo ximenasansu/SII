{
  "cells": [
    {
      "cell_type": "markdown",
      "metadata": {
        "id": "-jw29ELBc5i4"
      },
      "source": [
        "# <font color='blue'> Análisis Estadístico de Parámetros de Estado Estable "
      ]
    },
    {
      "cell_type": "markdown",
      "metadata": {
        "id": "KKLZz8EZc5jG"
      },
      "source": [
        "Por lo general, los estudios de simulación se realizan para determinar el valor de cierta cantidad $\\theta$ relacionada con el modelo estocástico particular. Una simulación del sistema en cuestión produce los datos de salida $X$, una variable aleatoria cuyo valor esperado es la cantidad de interés $\\theta$, y se realiza durante $n$ ejecuciones. "
      ]
    },
    {
      "cell_type": "markdown",
      "metadata": {
        "id": "HKhl6Gwrc5jK"
      },
      "source": [
        "El promedio de estos $n$ valores, "
      ]
    },
    {
      "cell_type": "markdown",
      "metadata": {
        "id": "hv-gJBVcc5jM"
      },
      "source": [
        "<font color='red'>$$\\bar{X} = \\sum_{i=1}^n \\frac{X_i}{n}$$"
      ]
    },
    {
      "cell_type": "markdown",
      "metadata": {
        "id": "3BBHHXFrc5jO"
      },
      "source": [
        "sirve como estimador, o aproximador de $\\theta$. Este promedio aritmético es la **media muestral**."
      ]
    },
    {
      "cell_type": "markdown",
      "metadata": {
        "id": "rvpRFPUgc5jQ"
      },
      "source": [
        "Para determinar la \"bondad\" de $\\bar{X}$ como estimador de la media poblacional $\\theta$, consideramos el error cuadrático medio:"
      ]
    },
    {
      "cell_type": "markdown",
      "metadata": {
        "id": "F00TN-5sc5jS"
      },
      "source": [
        "$$\\mathbb{E}[(\\bar{X}-\\theta)^2]=\\mathbb{Var}(\\bar{X})=\\frac{\\sigma^2}{n}$$"
      ]
    },
    {
      "cell_type": "markdown",
      "metadata": {
        "id": "3MGQAT7-c5jV"
      },
      "source": [
        "donde $\\mathbb{E}[\\bar{X}]=\\theta$ y $\\mathbb{Var}(X_i)=\\sigma^2$"
      ]
    },
    {
      "cell_type": "markdown",
      "metadata": {
        "id": "a6L-o24kc5jY"
      },
      "source": [
        "Entonces, $\\bar{X}$ es un buen estimador de $\\theta$ cuando $\\frac{\\sigma}{\\sqrt{n}}$ es pequeño."
      ]
    },
    {
      "cell_type": "markdown",
      "metadata": {
        "id": "w6NnCiPPc5je"
      },
      "source": [
        "La dificultad de este indicador de bondad es que por lo general no se conoce la varianza poblacional $\\sigma^2$, así que también debe estimarse."
      ]
    },
    {
      "cell_type": "markdown",
      "metadata": {
        "id": "G-HuBc6Oc5jg"
      },
      "source": [
        "Para ello se usa la varianza muestral, $S^2$:"
      ]
    },
    {
      "cell_type": "markdown",
      "metadata": {
        "id": "CXl-j5o3c5jj"
      },
      "source": [
        "<font color='red'>$$S^2=\\frac{\\sum_{i=1}^n (X_i-\\bar{X})^2}{n-1}$$"
      ]
    },
    {
      "cell_type": "markdown",
      "metadata": {
        "id": "pDvbIJevc5jl"
      },
      "source": [
        "$S^2$ es la **varianza poblacional** y $s=\\sqrt{S^2}$ es la **desviación estándar muestral**."
      ]
    },
    {
      "cell_type": "markdown",
      "metadata": {
        "id": "BNGWoy5vc5jn"
      },
      "source": [
        "De modo que la estimación del error cuadrático medio es:\n",
        "\n",
        "$$ECM = \\frac{S^2}{n}$$"
      ]
    },
    {
      "cell_type": "markdown",
      "metadata": {
        "id": "jCbDlNxTc5jq"
      },
      "source": [
        "De modo que la estimación del error estándar es:\n",
        "\n",
        "<font color='red'>$$e=\\frac{S}{\\sqrt{n}}$$"
      ]
    },
    {
      "cell_type": "markdown",
      "metadata": {
        "id": "-XYues90c5jr"
      },
      "source": [
        "### <font color='blue'> Ejercicio"
      ]
    },
    {
      "cell_type": "markdown",
      "metadata": {
        "id": "sfXZViksc5ju"
      },
      "source": [
        "Estimemos el valor de la integral $\\int_0^1 \\sqrt( \\arctan x ) dx$."
      ]
    },
    {
      "cell_type": "markdown",
      "metadata": {
        "id": "h4srFuLXc5jx"
      },
      "source": [
        "Modificar el ejercicio ya realizado para obtener una estimación de la integral y una medida de su bondad. "
      ]
    },
    {
      "cell_type": "code",
      "execution_count": 1,
      "metadata": {
        "id": "MdBmJnPFc5j4"
      },
      "outputs": [],
      "source": [
        "import numpy as np\n",
        "import matplotlib.pyplot as plt"
      ]
    },
    {
      "cell_type": "code",
      "execution_count": 2,
      "metadata": {
        "id": "ouaN29QFc5j8"
      },
      "outputs": [],
      "source": [
        "#Definimos la función de prueba.\n",
        "def funcion(x):\n",
        "    return np.sqrt(np.arctan(x)) "
      ]
    },
    {
      "cell_type": "code",
      "execution_count": 3,
      "metadata": {
        "id": "BaO_9Xjbc5j-",
        "outputId": "884fac65-5ea2-436e-fd1e-7ebc8aa6baae",
        "colab": {
          "base_uri": "https://localhost:8080/",
          "height": 295
        }
      },
      "outputs": [
        {
          "output_type": "display_data",
          "data": {
            "text/plain": [
              "<Figure size 432x288 with 1 Axes>"
            ],
            "image/png": "[encoded data removed]"
          },
          "metadata": {
            "needs_background": "light"
          }
        }
      ],
      "source": [
        "#Graficamos la función de prueba.\n",
        "X=np.linspace(0,1,1000)\n",
        "plt.plot(X,funcion(X), color='red', label=\"$y=1/(1+x)$\")\n",
        "#plt.fill_between(X,funcion(X))\n",
        "plt.legend()\n",
        "plt.xlim(0.0, 1.2)\n",
        "plt.ylim(0.0, 1.2)\n",
        "plt.grid(True)\n",
        "plt.title('Función de prueba', color='b')\n",
        "plt.xlabel('X')\n",
        "plt.ylabel('Y')\n",
        "plt.show()"
      ]
    },
    {
      "cell_type": "code",
      "execution_count": 4,
      "metadata": {
        "id": "EV7LSSdac5kA",
        "outputId": "64dbf882-e2a0-4325-9000-7d593156a0e8",
        "colab": {
          "base_uri": "https://localhost:8080/"
        }
      },
      "outputs": [
        {
          "output_type": "stream",
          "name": "stdout",
          "text": [
            "El valor de la integral es: 0.63376\n",
            "El error estándar es: 0.00205\n"
          ]
        }
      ],
      "source": [
        "def integ(func=funcion, n=10000):\n",
        "    muestreo=[]\n",
        "    suma=[]\n",
        "    for i in range(n):\n",
        "        u= np.random.random_sample()\n",
        "        muestreo.append(u)\n",
        "        y=funcion(u)\n",
        "        suma.append(y)\n",
        "\n",
        "    return np.mean(suma), np.std(suma)/np.sqrt(n)\n",
        "\n",
        "print(\"El valor de la integral es:\", round(integ()[0],5))\n",
        "print(\"El error estándar es:\", round(integ()[1],5))"
      ]
    },
    {
      "cell_type": "code",
      "execution_count": 5,
      "metadata": {
        "id": "Ht5HAYtMc5kC",
        "outputId": "22dc8cb1-fedc-4f67-9e9e-85798997a217",
        "colab": {
          "base_uri": "https://localhost:8080/"
        }
      },
      "outputs": [
        {
          "output_type": "execute_result",
          "data": {
            "text/plain": [
              "(0.6148992692518344, 0.020271683686411947)"
            ]
          },
          "metadata": {},
          "execution_count": 5
        }
      ],
      "source": [
        "integ(n=100)"
      ]
    },
    {
      "cell_type": "markdown",
      "metadata": {
        "id": "Zk8WtQXXc5kE"
      },
      "source": [
        "### Método para determinar cuando detenerse al generar nuevos datos"
      ]
    },
    {
      "cell_type": "markdown",
      "metadata": {
        "id": "Fo5S81xic5kF"
      },
      "source": [
        "1. Elegir un valor aceptable $d$ para la desviación estándar del estimador.\n",
        "\n",
        "2. Generar al menos 30 datos.\n",
        "\n",
        "3. Continuar generando más datos, hasta detenerse cuando se hayan generado $k$ valores y $\\frac{S}{\\sqrt{k}}<d$, donde $S$ es la desviación estándar muestral basada en estos $k$ valores.\n",
        "\n",
        "4. La estimación de $\\theta$ está dada por $\\bar{X}=\\sum_{i=1}^k \\frac{X-i}{k}$."
      ]
    },
    {
      "cell_type": "markdown",
      "metadata": {
        "id": "5_moaa-Jc5kI"
      },
      "source": [
        "# <font color='blue'> Intervalos de Confianza"
      ]
    },
    {
      "cell_type": "markdown",
      "metadata": {
        "id": "lMxp1EhPc5kJ"
      },
      "source": [
        "El intervalo de confianza a $((1-\\alpha) \\times 100)$ % para una población de media $\\mu$ está dado por la fórmula:"
      ]
    },
    {
      "cell_type": "markdown",
      "metadata": {
        "id": "nyoWwgsCc5kJ"
      },
      "source": [
        "$$\\bar{x} \\pm t \\times \\frac{s}{\\sqrt{n}},$$"
      ]
    },
    {
      "cell_type": "markdown",
      "metadata": {
        "id": "_uNLK7fpc5kK"
      },
      "source": [
        "donde:\n",
        "\n",
        "$t$ es una variable aleatoria que tiene una distribución t de Student con $(n-1)$ grados de libertad.\n",
        "\n",
        "$\\bar{x}$ es la media muestral\n",
        "\n",
        "$s$ es la desviación estándar muestral\n",
        "\n",
        "$n$ es el tamaño de la muestra\n",
        "\n",
        "$\\alpha$ es el nivel de significancia \n",
        "\n",
        "$(1 - \\alpha)$ es el nivel de confianza"
      ]
    },
    {
      "cell_type": "code",
      "execution_count": 6,
      "metadata": {
        "id": "nbfLYSpoc5kR"
      },
      "outputs": [],
      "source": [
        "import statistics as stat\n",
        "import math"
      ]
    },
    {
      "cell_type": "code",
      "execution_count": 7,
      "metadata": {
        "id": "J7RiJI3mc5kS"
      },
      "outputs": [],
      "source": [
        "muestra = [3.2, 3, 2.8, 2.9, 3.1]"
      ]
    },
    {
      "cell_type": "code",
      "execution_count": 8,
      "metadata": {
        "id": "2kqEiHIsc5kU",
        "outputId": "a908440f-6ea2-4015-d28b-6658bdba9dd4",
        "colab": {
          "base_uri": "https://localhost:8080/"
        }
      },
      "outputs": [
        {
          "output_type": "stream",
          "name": "stdout",
          "text": [
            "Intervalo de confianza: 2.8 3.2\n"
          ]
        }
      ],
      "source": [
        "n=len(muestra)             # cantidad de datos\n",
        "mean=stat.mean(muestra)    # media muestral\n",
        "s=stat.stdev(muestra)      # desviacion estandar muestral\n",
        "\n",
        "t=2.776                    # para un nivel de confianza al 95%\n",
        "\n",
        "# usamos las formulas\n",
        "ic1 = mean - t*(s/math.sqrt(n))     \n",
        "ic2 = mean + t*(s/math.sqrt(n))\n",
        "\n",
        "print(\"Intervalo de confianza:\", round(ic1, 2), round(ic2, 2))"
      ]
    },
    {
      "cell_type": "markdown",
      "metadata": {
        "id": "zTW4Dh2Cc5kW"
      },
      "source": [
        "### Ejercicio:\n",
        "\n",
        "1. Hacer una función que devuelva el intervalo de confianza.\n",
        "\n",
        "2. Calcular los intervalos de confianza a 80, 90, 95, 98 y 99% con la muestra:\n",
        "\n",
        "  $\\{3.33, \\; 3.15,\\; 2.91,\\; 3.05,\\; 2.75 \\}$"
      ]
    },
    {
      "cell_type": "code",
      "execution_count": 10,
      "metadata": {
        "id": "o8bX7UqPc5kY",
        "outputId": "3d7469d5-534b-4728-ac20-00a55e3569b8",
        "colab": {
          "base_uri": "https://localhost:8080/"
        }
      },
      "outputs": [
        {
          "output_type": "stream",
          "name": "stdout",
          "text": [
            "los tintervalos de confianza son:\n",
            "99%:\n",
            "Intervalo de confianza: [2.58, 3.5]\n",
            "98%:\n",
            "Intervalo de confianza: [2.67, 3.41]\n",
            "95%:\n",
            "Intervalo de confianza: [2.76, 3.31]\n",
            "90%:\n",
            "Intervalo de confianza: [2.83, 3.25]\n",
            "80%:\n",
            "Intervalo de confianza: [2.89, 3.19]\n"
          ]
        }
      ],
      "source": [
        "def int_conf(muestra,t):\n",
        "    n=len(muestra)             \n",
        "    mean=stat.mean(muestra)   \n",
        "    s=stat.stdev(muestra)      \n",
        "\n",
        "    ic1 = mean - t*(s/math.sqrt(n))     # formulas\n",
        "    ic2 = mean + t*(s/math.sqrt(n))\n",
        "\n",
        "    print(f'Intervalo de confianza: [{round(ic1, 2)}, {round(ic2, 2)}]')\n",
        "\n",
        "muestra= [3.33, 3.15, 2.91, 3.05,2.75]    #tamaño de muestra 5 y 4 grados de libertad \n",
        "print('99%:')\n",
        "int_conf(muestra,4.604)\n",
        "print('98%:')\n",
        "int_conf(muestra,3.747)\n",
        "print('95%:')\n",
        "int_conf(muestra,2.776)\n",
        "print('90%:')\n",
        "int_conf(muestra,2.132)\n",
        "print('80%:')\n",
        "int_conf(muestra,1.533)"
      ]
    }
  ],
  "metadata": {
    "kernelspec": {
      "display_name": "Python 3",
      "language": "python",
      "name": "python3"
    },
    "language_info": {
      "codemirror_mode": {
        "name": "ipython",
        "version": 3
      },
      "file_extension": ".py",
      "mimetype": "text/x-python",
      "name": "python",
      "nbconvert_exporter": "python",
      "pygments_lexer": "ipython3",
      "version": "3.7.3"
    },
    "colab": {
      "name": "Análisis Estadistico.ipynb",
      "provenance": []
    }
  },
  "nbformat": 4,
  "nbformat_minor": 0
}