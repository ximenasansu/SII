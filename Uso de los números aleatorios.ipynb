{
  "cells": [
    {
      "cell_type": "markdown",
      "metadata": {
        "id": "gwlgicg6TA6c"
      },
      "source": [
        "# Uso de los números aleatorios"
      ]
    },
    {
      "cell_type": "markdown",
      "metadata": {
        "id": "aEXSKlxgTA6l"
      },
      "source": [
        "## 1. Introducción al Módulo random"
      ]
    },
    {
      "cell_type": "markdown",
      "metadata": {
        "id": "LAoiO5U_TA6q"
      },
      "source": [
        "El módulo random de la librería estándar de Python incluye un conjunto de funciones que permiten obtener de distintos modos \n",
        "números pseudoaleatorios a través del algoritmo [Mersenne Twister](https://es.wikipedia.org/wiki/Mersenne_twister)."
      ]
    },
    {
      "cell_type": "code",
      "execution_count": 1,
      "metadata": {
        "id": "xZS0npd8TA6s"
      },
      "outputs": [],
      "source": [
        "#importamos el módulo que vamos a usar \n",
        "\n",
        "import random   "
      ]
    },
    {
      "cell_type": "markdown",
      "metadata": {
        "id": "OisHv56bTA6y"
      },
      "source": [
        "Las funciones de los módulos se invocan con el formato: módulo.función().\n",
        "\n",
        "En el módulo random existe la función random, que devuelve un número aleatorio que sigue una distribución uniforme. \n",
        "\n",
        "Así, para obtener $x \\sim U(0,1)$:"
      ]
    },
    {
      "cell_type": "code",
      "execution_count": 8,
      "metadata": {
        "id": "9mhiLpCiTA63",
        "outputId": "e55b4231-da51-4887-b051-55a4ab490239",
        "colab": {
          "base_uri": "https://localhost:8080/"
        }
      },
      "outputs": [
        {
          "output_type": "stream",
          "name": "stdout",
          "text": [
            "0.19712893547060162\n"
          ]
        }
      ],
      "source": [
        "x = random.random()  #Cada ejecución dará un número distinto.\n",
        "print(x)"
      ]
    },
    {
      "cell_type": "markdown",
      "metadata": {
        "id": "pE-przVwTA65"
      },
      "source": [
        "Se puede usar algún bucle si se desea generar una secuencia $x_i \\sim U(0,1)$ con $i = 1, 2, 3,..., N$:"
      ]
    },
    {
      "cell_type": "code",
      "execution_count": 9,
      "metadata": {
        "id": "jVjWegRRTA6_",
        "outputId": "f9b2cb1a-1fbc-4f20-ad16-01d426c07fa6",
        "colab": {
          "base_uri": "https://localhost:8080/"
        }
      },
      "outputs": [
        {
          "output_type": "stream",
          "name": "stdout",
          "text": [
            "0.0812 0.1055 0.4831 0.4532 0.8021 0.3159 0.9070 0.4103 0.6275 0.4342 \n"
          ]
        }
      ],
      "source": [
        "for i in range(10):\n",
        "    print('%05.4f' % random.random(), end=' ')  #El código en rojo indica la cantidad de dígitos y de decimales a mostrar.\n",
        "print()"
      ]
    },
    {
      "cell_type": "code",
      "execution_count": 10,
      "metadata": {
        "id": "pogbM_-mTA7E",
        "outputId": "00a9a99e-9582-4298-822a-a512eb0c8bfd",
        "colab": {
          "base_uri": "https://localhost:8080/"
        }
      },
      "outputs": [
        {
          "output_type": "stream",
          "name": "stdout",
          "text": [
            "0.2930\n",
            "0.4907\n",
            "0.1854\n",
            "0.0158\n",
            "0.9115\n",
            "0.6639\n",
            "0.2675\n",
            "0.6343\n",
            "0.5166\n",
            "0.2901\n",
            "\n"
          ]
        }
      ],
      "source": [
        "for i in range(10):\n",
        "    print('%05.4f' % random.random(), sep=\"\\t\")\n",
        "print()"
      ]
    },
    {
      "cell_type": "markdown",
      "metadata": {
        "id": "LWkUOs-DTA7K"
      },
      "source": [
        "La función seed() fija el valor de la semilla en la generación de la secuencia de números aleatorios. \n",
        "Esto es útil cuando se quieren utilizar los mismos datos de entrada en una simulación."
      ]
    },
    {
      "cell_type": "code",
      "execution_count": 11,
      "metadata": {
        "id": "rmNdUf2VTA7N",
        "outputId": "a8805174-007a-41ed-9dc9-49bc89a07b8d",
        "colab": {
          "base_uri": "https://localhost:8080/"
        }
      },
      "outputs": [
        {
          "output_type": "stream",
          "name": "stdout",
          "text": [
            "0.1344 0.8474 0.7638 0.2551 0.4954 0.4495 0.6516 0.7887 0.0939 0.0283 0.8358 0.4328 0.7623 0.0021 0.4454 0.7215 0.2288 0.9453 0.9014 0.0306 \n"
          ]
        }
      ],
      "source": [
        "random.seed(1) #primero fijamos la semilla\n",
        "\n",
        "for i in range(20):\n",
        "    print('%05.4f' % random.random(), end=' ')\n",
        "print()"
      ]
    },
    {
      "cell_type": "markdown",
      "metadata": {
        "id": "5KtTuidETA7P"
      },
      "source": [
        "## Ejercicio 1: \n",
        "    a)Usar la función random() para simular 1 volado.\n",
        "    b)Usar la función random() para simular 1000 volados.\n",
        "    c)Determinar de b) la probabilidad de que ocurra \"sol\" en un volado. "
      ]
    },
    {
      "cell_type": "code",
      "source": [
        "numero=random.randint(1,2)\n",
        "if numero==1:\n",
        "   lado='aguila'\n",
        "if numero==2:\n",
        "   lado='sol'\n",
        "print(lado)"
      ],
      "metadata": {
        "id": "Dm-j_YlzTkkt",
        "outputId": "ac9eb350-d41f-4eaf-a704-bcceec65e32f",
        "colab": {
          "base_uri": "https://localhost:8080/"
        }
      },
      "execution_count": 18,
      "outputs": [
        {
          "output_type": "stream",
          "name": "stdout",
          "text": [
            "cara\n"
          ]
        }
      ]
    },
    {
      "cell_type": "code",
      "source": [
        "aguila=0\n",
        "sol=0\n",
        "for i in range(10000):\n",
        "  numero=random.randint(1,2)\n",
        "  if numero==1:\n",
        "    aguila+=1\n",
        "  if numero==2:\n",
        "    sol+=1\n",
        "print(\"aguila:\",aguila,\"sol:\",sol)\n"
      ],
      "metadata": {
        "id": "-aAa9BD0W5V6",
        "outputId": "c421d20a-b8ef-4408-b06e-53a5146bcbbc",
        "colab": {
          "base_uri": "https://localhost:8080/"
        }
      },
      "execution_count": 44,
      "outputs": [
        {
          "output_type": "stream",
          "name": "stdout",
          "text": [
            "aguila: 5022 sol: 4978\n"
          ]
        }
      ]
    },
    {
      "cell_type": "code",
      "source": [
        "aguila=0\n",
        "sol=0\n",
        "for i in range(1000):\n",
        "  numero=random.randint(1,2)\n",
        "  if numero==1:\n",
        "    aguila+=1\n",
        "  if numero==2:\n",
        "    sol+=1\n",
        "    solp=(sol/1000)*100\n",
        "print(\"la probabilidad que salga sol es:\",solp)"
      ],
      "metadata": {
        "id": "uy5BnQ8OZmMP",
        "outputId": "ce569800-c7a6-429b-b2e6-9cb1ce4f1fa7",
        "colab": {
          "base_uri": "https://localhost:8080/"
        }
      },
      "execution_count": 52,
      "outputs": [
        {
          "output_type": "stream",
          "name": "stdout",
          "text": [
            "la probabilidad que salga sol es: 49.3\n"
          ]
        }
      ]
    },
    {
      "cell_type": "markdown",
      "metadata": {
        "id": "AQgiY5-5TA7R"
      },
      "source": [
        "La función uniform() devuelve un número float incluido entre los valores indicados."
      ]
    },
    {
      "cell_type": "code",
      "execution_count": 53,
      "metadata": {
        "id": "pgFdlDknTA7T",
        "outputId": "4df0b248-08bd-4d24-8749-316b9aeb9c55",
        "colab": {
          "base_uri": "https://localhost:8080/"
        }
      },
      "outputs": [
        {
          "output_type": "stream",
          "name": "stdout",
          "text": [
            "29.4973 43.5274 27.1319 4.8396 39.0248 48.4396 37.2828 13.0161 30.2685 26.3056 \n"
          ]
        }
      ],
      "source": [
        "for i in range(10):\n",
        "    print('%5.4f' %random.uniform(1, 50), end=' ')\n",
        "print()"
      ]
    },
    {
      "cell_type": "markdown",
      "metadata": {
        "id": "1ndAMQqBTA7V"
      },
      "source": [
        "La función randint() devuelve un número entero incluido entre los valores indicados. \n",
        "Los valores de los límites inferior y superior también pueden aparecer entre los valores devueltos."
      ]
    },
    {
      "cell_type": "code",
      "execution_count": 54,
      "metadata": {
        "id": "CMiiw-RUTA7W",
        "outputId": "ac6a0b81-7701-4454-d6b8-e52405f9289c",
        "colab": {
          "base_uri": "https://localhost:8080/"
        }
      },
      "outputs": [
        {
          "output_type": "stream",
          "name": "stdout",
          "text": [
            "-99 -50 -18 -33 -94 30 -2 37 68 69 -60 98 -28 -19 -47 11 18 75 92 41 \n"
          ]
        }
      ],
      "source": [
        "for i in range(20):\n",
        "    print(random.randint(-100, 100), end=' ')\n",
        "print()"
      ]
    },
    {
      "cell_type": "markdown",
      "metadata": {
        "id": "FmGpupDFTA7Y"
      },
      "source": [
        "## Ejercicio 2:\n",
        "    a) Simular un sorteo de los colores blanco, negro, rojo, azul y verde.\n",
        "    b) Simular 5 sorteos con sustitución."
      ]
    },
    {
      "cell_type": "code",
      "source": [
        "lista = [\"blanco\", \"negro\", \"rojo\", \"azul\", \"verde\"]\n",
        "print (random.choice(lista))"
      ],
      "metadata": {
        "id": "ExHuUb7lfvPO",
        "outputId": "57da8c65-80e6-4076-d737-199b176c16e1",
        "colab": {
          "base_uri": "https://localhost:8080/"
        }
      },
      "execution_count": 77,
      "outputs": [
        {
          "output_type": "stream",
          "name": "stdout",
          "text": [
            "verde\n"
          ]
        }
      ]
    },
    {
      "cell_type": "code",
      "source": [
        "lista = [\"blanco\", \"negro\", \"rojo\", \"azul\",\"verde\"]\n",
        "for color in lista:\n",
        "      print(random.choice(lista))"
      ],
      "metadata": {
        "id": "tDTduEE6iGNW",
        "outputId": "d95d5d5e-63d5-4eb1-b517-01cf6dae3a33",
        "colab": {
          "base_uri": "https://localhost:8080/"
        }
      },
      "execution_count": 91,
      "outputs": [
        {
          "output_type": "stream",
          "name": "stdout",
          "text": [
            "negro\n",
            "blanco\n",
            "blanco\n",
            "negro\n",
            "verde\n"
          ]
        }
      ]
    },
    {
      "cell_type": "markdown",
      "metadata": {
        "id": "cbb5nPDNTA7c"
      },
      "source": [
        "La función randrange() devuelve enteros que van desde un valor inicial a otro final \n",
        "separados entre sí un número de valores determinados."
      ]
    },
    {
      "cell_type": "code",
      "execution_count": 92,
      "metadata": {
        "id": "U9oi6K9XTA7e",
        "outputId": "808f26c1-0186-4da9-cbbb-0357bc60aa9c",
        "colab": {
          "base_uri": "https://localhost:8080/"
        }
      },
      "outputs": [
        {
          "output_type": "stream",
          "name": "stdout",
          "text": [
            "6 15 3 15 0 12 12 3 0 6 18 0 6 15 18 15 6 0 15 18 \n"
          ]
        }
      ],
      "source": [
        "for i in range(20):\n",
        "    print(random.randrange(0, 20, 3), end=' ')\n",
        "print()"
      ]
    },
    {
      "cell_type": "markdown",
      "metadata": {
        "id": "7I-hOa1WTA7i"
      },
      "source": [
        "# 2. Estimación del número $\\pi$"
      ]
    },
    {
      "cell_type": "code",
      "execution_count": 93,
      "metadata": {
        "id": "lKQ4tCsRTA7l"
      },
      "outputs": [],
      "source": [
        "import matplotlib.pyplot as plt\n",
        "import numpy as np"
      ]
    },
    {
      "cell_type": "code",
      "execution_count": 94,
      "metadata": {
        "id": "Bm85qTQtTA7n",
        "outputId": "26046c7a-a288-4c9a-a89c-aa8c22f420f4",
        "colab": {
          "base_uri": "https://localhost:8080/",
          "height": 514
        }
      },
      "outputs": [
        {
          "output_type": "display_data",
          "data": {
            "text/plain": [
              "<Figure size 576x576 with 1 Axes>"
            ],
            "image/png": "[encoded data removed]"
          },
          "metadata": {
            "needs_background": "light"
          }
        }
      ],
      "source": [
        "x = np.linspace(0, 1, 100)\n",
        "y = np.sqrt(1 - x**2)               # Ecuación del círculo en el primer cuadrante \n",
        "\n",
        "\n",
        "x_1 = random.random()\n",
        "y_1 = random.random()\n",
        "\n",
        "fig = plt.figure(1, figsize=(8, 8))        # Aquí fijamos el formato de la gráfica para que sea cuadrada.\n",
        "plt.plot(x, y, color=\"red\", markersize=1) \n",
        "plt.scatter(x_1, y_1, s=20, c=\"blue\")\n",
        "plt.title(\"Estimación de $\\pi$\")\n",
        "plt.xlabel(\"X\")\n",
        "plt.ylabel(\"Y\")\n",
        "plt.grid()\n",
        "plt.show()"
      ]
    },
    {
      "cell_type": "markdown",
      "metadata": {
        "id": "U32UEbHcTA7o"
      },
      "source": [
        "# Tarea 1. \n",
        "    Estimar el valor de pi usando la función random"
      ]
    },
    {
      "cell_type": "code",
      "source": [
        "import numpy\n",
        "N= 1000\n",
        "x= numpy.random.uniform(low=-1, high=1, size=[N,1])\n",
        "y= numpy.random.uniform(low=-1, high=1, size=[N,1])\n",
        "adencirc= x**2+y**2<1\n",
        "pi= 4*numpy.sum(adencirc)/N\n",
        "print(\"pi:\", pi)\n"
      ],
      "metadata": {
        "id": "y7R2nzvb-cCo",
        "outputId": "1a0fc3a8-ea59-4cb9-b4a5-1d08f94596ca",
        "colab": {
          "base_uri": "https://localhost:8080/"
        }
      },
      "execution_count": 151,
      "outputs": [
        {
          "output_type": "stream",
          "name": "stdout",
          "text": [
            "pi: 3.056\n"
          ]
        }
      ]
    },
    {
      "cell_type": "markdown",
      "metadata": {
        "id": "lHNMZPKcTA7r"
      },
      "source": [
        "## La aproximación analítica"
      ]
    },
    {
      "cell_type": "markdown",
      "metadata": {
        "id": "2BRfdRG1TA71"
      },
      "source": [
        "Partamos de la ecuación:\n",
        "\n",
        "##     $\\pi = 4\\arctan 1$\n",
        "\n",
        "y usemos la aproximación de Taylor para expandir en una serie de potencias.\n",
        "\n",
        "Recordar:\n",
        "\n",
        "$f(x) = f(0) + f´(x)x + \\frac{1}{2}f´´(0)x^2 + ...$\n",
        "\n",
        "$Si f(x) = \\arctan x$ entonces:\n",
        "\n",
        "$f´(x) = \\frac{d \\arctan x}{dx} = \\frac{1}{1 + x^2} \\rightarrow f´(0) = 1$\n",
        "\n",
        "$f´´(x) = \\frac{d^2 \\arctan x}{d^2x} = - \\frac{2x}{(1 + x^2)^2} \\rightarrow f´´(0) = 0$\n",
        "\n",
        "...\n",
        "\n",
        "$f^{2i + 1}(x) = (-1)^{i} \\frac{(2i)!}{(1 + x^2)^{2i + 1}} \\rightarrow f^{2i + 1}(0) = (-1)(2i)!$\n",
        "\n",
        "$f^{2i}(x) = 0$\n",
        "\n",
        "Entonces:\n",
        "\n",
        "$\\arctan x = \\sum_{i = 0} (-1)^{i} \\frac{x^{2i + 1}}{2i + 1}$\n",
        "\n",
        "Por tanto:\n",
        "\n",
        "## $\\pi = \\sum_{i = 0} (-1)^{i} \\frac{4}{2i + 1}$"
      ]
    },
    {
      "cell_type": "code",
      "execution_count": 103,
      "metadata": {
        "id": "mFkZY4VGTA74",
        "outputId": "bd7ff3f0-0b20-4c64-bf0e-57858aebf60d",
        "colab": {
          "base_uri": "https://localhost:8080/"
        }
      },
      "outputs": [
        {
          "output_type": "stream",
          "name": "stdout",
          "text": [
            "3999999 3.141652\n"
          ]
        }
      ],
      "source": [
        "def pi_taylor(n):\n",
        "    pi = 0\n",
        "    for i in range(n):\n",
        "        pi = pi + 4.0/(2*i+1)*(-1)**i\n",
        "print(i, pi)"
      ]
    },
    {
      "cell_type": "code",
      "execution_count": 104,
      "metadata": {
        "id": "0BiPf4RcTA75"
      },
      "outputs": [],
      "source": [
        "pi_taylor(10)"
      ]
    },
    {
      "cell_type": "code",
      "execution_count": 109,
      "metadata": {
        "id": "IRietnO4TA77"
      },
      "outputs": [],
      "source": [
        "def pi_Taylor(n):\n",
        "    pi = 0\n",
        "    L =[]\n",
        "    for i in range(n):\n",
        "        pi = pi + 4.0/(2*i+1)*(-1)**i\n",
        "        L.append(pi)\n",
        "    fig = plt.figure(1, figsize=(8, 8))        \n",
        "    plt.plot(L, color=\"red\", markersize=1)\n",
        "    plt.xlabel(\"Iteraciones\")\n",
        "    plt.ylabel(\"Estimación\")\n",
        "    plt.grid()\n",
        "    plt.show()"
      ]
    },
    {
      "cell_type": "code",
      "execution_count": 110,
      "metadata": {
        "id": "gUKJiOmDTA78",
        "outputId": "ee86e09a-29a0-496c-f929-4fa4ac66d5c7",
        "colab": {
          "base_uri": "https://localhost:8080/",
          "height": 497
        }
      },
      "outputs": [
        {
          "output_type": "display_data",
          "data": {
            "text/plain": [
              "<Figure size 576x576 with 1 Axes>"
            ],
            "image/png": "[encoded data removed]"
          },
          "metadata": {
            "needs_background": "light"
          }
        }
      ],
      "source": [
        "pi_Taylor(200)"
      ]
    },
    {
      "cell_type": "markdown",
      "metadata": {
        "id": "qjS04CdATA79"
      },
      "source": [
        "## Ejercicio 3:\n",
        "\n",
        "Graficar las salidas obtenidas en la Tarea 1"
      ]
    },
    {
      "cell_type": "code",
      "source": [
        "x_ad= x[adencirc]\n",
        "y_ad= y[adencirc]\n",
        "plt.figure(figsize=[5,5])\n",
        "plt.scatter(x, y, s=1)\n",
        "plt.scatter(x_ad, y_ad, color=\"r\", s=1)\n",
        "plt.show()"
      ],
      "metadata": {
        "id": "o0U-rFKNAOKh",
        "outputId": "b56d72be-e7bd-4bdf-8e9c-57be32033124",
        "colab": {
          "base_uri": "https://localhost:8080/",
          "height": 320
        }
      },
      "execution_count": 152,
      "outputs": [
        {
          "output_type": "display_data",
          "data": {
            "text/plain": [
              "<Figure size 360x360 with 1 Axes>"
            ],
            "image/png": "[encoded data removed]"
          },
          "metadata": {
            "needs_background": "light"
          }
        }
      ]
    },
    {
      "cell_type": "markdown",
      "metadata": {
        "id": "pjOfcr3oTA8A"
      },
      "source": [
        "## Continuamos"
      ]
    },
    {
      "cell_type": "code",
      "execution_count": 153,
      "metadata": {
        "id": "Il7uAq4rTA8B",
        "outputId": "f69fedc1-6cbc-4d7e-8b51-ec7e81b0d95c",
        "colab": {
          "base_uri": "https://localhost:8080/",
          "height": 514
        }
      },
      "outputs": [
        {
          "output_type": "display_data",
          "data": {
            "text/plain": [
              "<Figure size 576x576 with 1 Axes>"
            ],
            "image/png": "[encoded data removed]"
          },
          "metadata": {
            "needs_background": "light"
          }
        }
      ],
      "source": [
        "x = np.linspace(0, 1, 100)\n",
        "y = np.sqrt(1 - x**2)               # Ecuación del círculo en el primer cuadrante \n",
        "\n",
        "\n",
        "x_1 = random.random()\n",
        "y_1 = random.random()\n",
        "\n",
        "fig = plt.figure(1, figsize=(8, 8))        # Aquí fijamos el formato de la gráfica para que sea cuadrada.\n",
        "plt.plot(x, y, color=\"red\", markersize=1) \n",
        "plt.scatter(x_1, y_1, s=20, c=\"blue\")\n",
        "plt.title(\"Estimación de $\\pi$\")\n",
        "plt.xlabel(\"X\")\n",
        "plt.ylabel(\"Y\")\n",
        "plt.grid()\n",
        "plt.show()"
      ]
    },
    {
      "cell_type": "code",
      "execution_count": 154,
      "metadata": {
        "id": "2TpBjFHITA8C"
      },
      "outputs": [],
      "source": [
        "def pi_mc(n):\n",
        "    pi = 0\n",
        "    counter = 0\n",
        "    for i in range(n):\n",
        "        x = random.random()\n",
        "        y = random.random()\n",
        "        if x**2 + y**2 <1:\n",
        "            counter = counter + 1\n",
        "        pi = 4.0*float(counter)/(i + 1)\n",
        "        print(i, pi)"
      ]
    },
    {
      "cell_type": "code",
      "execution_count": 155,
      "metadata": {
        "id": "ndV0sTDFTA8D",
        "outputId": "93ed5d8b-2f5a-428b-a370-a0ac783bf705",
        "colab": {
          "base_uri": "https://localhost:8080/"
        }
      },
      "outputs": [
        {
          "output_type": "stream",
          "name": "stdout",
          "text": [
            "0 4.0\n",
            "1 4.0\n",
            "2 2.6666666666666665\n",
            "3 3.0\n",
            "4 3.2\n",
            "5 3.3333333333333335\n",
            "6 3.4285714285714284\n",
            "7 3.0\n",
            "8 3.111111111111111\n",
            "9 3.2\n"
          ]
        }
      ],
      "source": [
        "pi_mc(10)"
      ]
    },
    {
      "cell_type": "code",
      "execution_count": 157,
      "metadata": {
        "id": "zK2n_KciTA8E"
      },
      "outputs": [],
      "source": [
        "def pi_mc(n):\n",
        "    pi = 0\n",
        "    lx = []\n",
        "    ly = []\n",
        "    counter = 0\n",
        "    for i in range(n):\n",
        "        x = random.random()\n",
        "        y = random.random()\n",
        "        if x**2 + y**2 <1:\n",
        "            counter = counter + 1\n",
        "            lx.append(counter)\n",
        "            ly.append(4.0*float(counter)/(i + 1))\n",
        "        \n",
        "        pi = 4.0*float(counter)/(i + 1)\n",
        "        \n",
        "        e = np.absolute((pi - np.pi)/np.pi)\n",
        "    print(\"pi =\", pi)\n",
        "    print(\"error =\", e)\n",
        "    \n",
        "    fig = plt.figure(1, figsize=(8, 8))        \n",
        "    plt.xlabel(\"Iteraciones\")\n",
        "    plt.ylabel(\"Estimación de $\\pi$\")\n",
        "    plt.grid()\n",
        "    plt.plot(lx, ly, color=\"blue\", markersize=1)\n",
        "    plt.show()"
      ]
    },
    {
      "cell_type": "code",
      "execution_count": 158,
      "metadata": {
        "id": "35AEQyx9TA8G",
        "outputId": "7c757201-eb49-41eb-f7c2-ae62b9d10f9f",
        "colab": {
          "base_uri": "https://localhost:8080/",
          "height": 532
        }
      },
      "outputs": [
        {
          "output_type": "stream",
          "name": "stdout",
          "text": [
            "pi = 3.132\n",
            "error = 0.0030534364723675406\n"
          ]
        },
        {
          "output_type": "display_data",
          "data": {
            "text/plain": [
              "<Figure size 576x576 with 1 Axes>"
            ],
            "image/png": "[encoded data removed]"
          },
          "metadata": {
            "needs_background": "light"
          }
        }
      ],
      "source": [
        "pi_mc(1000)"
      ]
    },
    {
      "cell_type": "markdown",
      "metadata": {
        "id": "BPCUGR74TA8H"
      },
      "source": [
        "Si se tiene, para cada punto aleatorio:\n",
        "    \n",
        "$X_i = 1$ si cae dentro del circulo y\n",
        "\n",
        "$X_i = 0$ si cae fuera"
      ]
    },
    {
      "cell_type": "markdown",
      "metadata": {
        "id": "C6vapGQ4TA8I"
      },
      "source": [
        "## Ejercicio 4:\n",
        "\n",
        "a) Calcular $E[X_i]$ y $V[X_i]$\n",
        "\n",
        "\n"
      ]
    },
    {
      "cell_type": "markdown",
      "metadata": {
        "id": "4yAUp_4hTA8I"
      },
      "source": [
        "Para el experimento de simulación, definimos $Z_N = \\frac{X_1 + X_2 + ... + X_N}{N}$"
      ]
    },
    {
      "cell_type": "markdown",
      "metadata": {
        "id": "mBh8aWVATA8J"
      },
      "source": [
        "## Ejercicio 5:\n",
        "a) Calcular  $E[Z_N]$ y $V[Z_N]$\n",
        "b) ¿Cuál debe ser el valor de $N$ para que el error sea de 0.01?"
      ]
    },
    {
      "cell_type": "markdown",
      "metadata": {
        "id": "SAtq6nPhTA8K"
      },
      "source": [
        "# Integrales"
      ]
    },
    {
      "cell_type": "code",
      "execution_count": null,
      "metadata": {
        "id": "wuAP3vEQTA8L"
      },
      "outputs": [],
      "source": [
        "def riemannplot(f, a, b, ra, rb, n):\n",
        "    # f es la función \n",
        "    # a y b son los limites del eje x para graficar la funcion f\n",
        "    # ra y rb son los limites del intervalo en el eje x del que queremos calcular la suma\n",
        "    # n es el numero de rectangulos que calcularemos\n",
        "\n",
        "    atenuacion = (b-a)/100\n",
        "    x = np.arange(a, b+atenuacion, atenuacion)\n",
        "    \n",
        "    plt.plot(x, f(x), color='red')\n",
        "\n",
        "    delta_x = (rb-ra)/n\n",
        "    riemannx = np.arange(ra, rb, delta_x)\n",
        "    riemanny = f(riemannx)\n",
        "    riemann_sum = sum(riemanny*delta_x)\n",
        "\n",
        "    plt.bar(riemannx,riemanny,width=delta_x,alpha=0.5,edgecolor = 'black',facecolor='green')\n",
        "   \n",
        "    plt.xlabel('x')\n",
        "    plt.ylabel('f(x)')\n",
        "    \n",
        "    plt.title('Suma de Riemann por la izquierda de f(x)')\n",
        "    plt.figtext(0.1,-0.05, \"Suma de Riemann: %.5f \" %(riemann_sum), color='b')\n",
        "    plt.savefig('riemann.png')\n",
        "    plt.show()"
      ]
    },
    {
      "cell_type": "code",
      "execution_count": null,
      "metadata": {
        "id": "pehpyiTxTA8O"
      },
      "outputs": [],
      "source": [
        "def f(x):\n",
        "    return np.sqrt(np.arctan(x))"
      ]
    },
    {
      "cell_type": "code",
      "execution_count": null,
      "metadata": {
        "id": "JdF9_y64TA8P"
      },
      "outputs": [],
      "source": [
        "riemannplot(f, 0, 1.001, 0, 1.001, 20)"
      ]
    },
    {
      "cell_type": "code",
      "execution_count": null,
      "metadata": {
        "id": "_PcolRZwTA8Q"
      },
      "outputs": [],
      "source": [
        ""
      ]
    }
  ],
  "metadata": {
    "kernelspec": {
      "display_name": "Python 3",
      "language": "python",
      "name": "python3"
    },
    "language_info": {
      "codemirror_mode": {
        "name": "ipython",
        "version": 3
      },
      "file_extension": ".py",
      "mimetype": "text/x-python",
      "name": "python",
      "nbconvert_exporter": "python",
      "pygments_lexer": "ipython3",
      "version": "3.7.3"
    },
    "colab": {
      "name": "Uso de los números aleatorios.ipynb",
      "provenance": []
    }
  },
  "nbformat": 4,
  "nbformat_minor": 0
}