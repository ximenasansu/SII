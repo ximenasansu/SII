{
  "cells": [
    {
      "cell_type": "markdown",
      "metadata": {
        "id": "NJ1kHVIjaifp"
      },
      "source": [
        "# Pruebas de Autocorelación"
      ]
    },
    {
      "cell_type": "markdown",
      "metadata": {
        "id": "3Ff-42Scaif7"
      },
      "source": [
        "En esta prueba, dados los datos $x_1, x_2,x_3,...,x_n$, se prueba la independencia de los datos, analizando los coeficientes de correlación, $r_k$, de: \n",
        "\n",
        "$r_1$, de:\n",
        "\n",
        "$x_1, x_2,x_3,...,x_{n-1}$ con $x_2, x_3,x_4,...,x_n$\n",
        "\n",
        "$r_2$, de:\n",
        "\n",
        "$x_1, x_2,x_3,...,x_{n-2}$ con $x_3, x_4,x_5,...,x_n$\n",
        "\n",
        "...\n",
        "\n",
        "En general:\n",
        "\n",
        "$r_k$, de:\n",
        "\n",
        "$x_1, x_2,x_3,...,x_{n-k}$ con $x_{k+1}, x_{k+2},x_{k+3},..x_n$"
      ]
    },
    {
      "cell_type": "markdown",
      "metadata": {
        "id": "bB2NawHNaigB"
      },
      "source": [
        "Si los datos son independientes, se espera que $r_k$ sea poco significativo. Pero, más que al cálculo de todo $r_k$ se usan pruebas estadísticas, como la de [Ljung-Box](https://es.wikipedia.org/wiki/Prueba_de_Ljung-Box) implementada en la librería [statsmodeles](https://www.statsmodels.org/dev/generated/statsmodels.stats.diagnostic.acorr_ljungbox.html) de Python. "
      ]
    },
    {
      "cell_type": "markdown",
      "metadata": {
        "id": "Ih-6OPuGaigE"
      },
      "source": [
        "<img src=\"https://uploads.desmos.com/activitybuilder/b22f74a4cc71eed2d04eb203e7696860\">"
      ]
    },
    {
      "cell_type": "markdown",
      "metadata": {
        "id": "alh5OBFqaigG"
      },
      "source": [
        "Ver las fórmulas de [correlación](https://es.wikipedia.org/wiki/Coeficiente_de_correlaci%C3%B3n_de_Pearson)."
      ]
    },
    {
      "cell_type": "code",
      "execution_count": 1,
      "metadata": {
        "id": "MR3M3cu0aigI",
        "outputId": "27a351ce-caab-4474-e88d-a6fdcb37fa58",
        "colab": {
          "base_uri": "https://localhost:8080/"
        }
      },
      "outputs": [
        {
          "output_type": "stream",
          "name": "stderr",
          "text": [
            "/usr/local/lib/python3.7/dist-packages/statsmodels/tools/_testing.py:19: FutureWarning: pandas.util.testing is deprecated. Use the functions in the public API at pandas.testing instead.\n",
            "  import pandas.util.testing as tm\n"
          ]
        }
      ],
      "source": [
        "import matplotlib.pyplot as plt \n",
        "import numpy as np \n",
        "from statsmodels.graphics import tsaplots\n",
        "#import statsmodels.api as sm"
      ]
    },
    {
      "cell_type": "code",
      "execution_count": null,
      "metadata": {
        "id": "1UMl5B2kaigO"
      },
      "outputs": [],
      "source": [
        ""
      ]
    },
    {
      "cell_type": "code",
      "execution_count": 2,
      "metadata": {
        "id": "xfS_rXiIaigR",
        "outputId": "cc286bb6-467d-49b5-8f3d-02945b01e626",
        "colab": {
          "base_uri": "https://localhost:8080/",
          "height": 295
        }
      },
      "outputs": [
        {
          "output_type": "display_data",
          "data": {
            "text/plain": [
              "<Figure size 432x288 with 1 Axes>"
            ],
            "image/png": "[encoded data removed]"
          },
          "metadata": {
            "needs_background": "light"
          }
        }
      ],
      "source": [
        "data = np.array([1.0,20,3.0,4.0,5.0,6.0,7.0,8.0,9.0,10.0,11.0,12.0,13.0,14.0,15.0,16.0,17.0,18.0,19.0,20.0]) \n",
        "  \n",
        "plt.title(\"Autocorrelation Plot\") \n",
        " \n",
        "plt.xlabel(\"Lags\") \n",
        " \n",
        "plt.acorr(data, maxlags = 10) \n",
        " \n",
        " \n",
        "plt.show()"
      ]
    },
    {
      "cell_type": "code",
      "execution_count": null,
      "metadata": {
        "id": "eZqv7y_jaigW",
        "outputId": "5428de67-a453-4959-d29f-70c3a64c9fbb"
      },
      "outputs": [
        {
          "data": {
            "image/png": "[encoded data removed]",
            "text/plain": [
              "<Figure size 432x288 with 1 Axes>"
            ]
          },
          "metadata": {
            "needs_background": "light"
          },
          "output_type": "display_data"
        }
      ],
      "source": [
        "from statsmodels.graphics.tsaplots import plot_acf\n",
        "plot_acf(data)\n",
        "plt.show()"
      ]
    },
    {
      "cell_type": "code",
      "execution_count": null,
      "metadata": {
        "id": "dJ1eAhc5aigb",
        "outputId": "039ad4f1-52b9-42c4-9b35-4403768bdc8b"
      },
      "outputs": [
        {
          "data": {
            "image/png": "[encoded data removed]",
            "text/plain": [
              "<Figure size 432x288 with 1 Axes>"
            ]
          },
          "metadata": {
            "needs_background": "light"
          },
          "output_type": "display_data"
        }
      ],
      "source": [
        "np.random.seed(30) \n",
        "  \n",
        "data = np.random.randn(20) \n",
        " \n",
        "plt.title(\"Autocorrelation Plot\") \n",
        " \n",
        "plt.xlabel(\"Lags\") \n",
        " \n",
        "plt.acorr(data, maxlags = 10) \n",
        " \n",
        " \n",
        "plt.show() "
      ]
    },
    {
      "cell_type": "code",
      "execution_count": null,
      "metadata": {
        "id": "gSMYA8xRaige"
      },
      "outputs": [],
      "source": [
        "an_array = [1, 2, 3, 4, 5, 6]\n",
        "autocorrelation = np.correlate(an_array, an_array, mode=\"full\")"
      ]
    },
    {
      "cell_type": "code",
      "execution_count": null,
      "metadata": {
        "id": "erNsIiodaigh"
      },
      "outputs": [],
      "source": [
        "autocorrelation = autocorrelation[autocorrelation.size//2:]"
      ]
    },
    {
      "cell_type": "code",
      "execution_count": null,
      "metadata": {
        "id": "ytgHnuxFaigj",
        "outputId": "912529a4-37d8-45e0-e649-18eacabc381e"
      },
      "outputs": [
        {
          "name": "stdout",
          "output_type": "stream",
          "text": [
            "[91 70 50 32 17  6]\n"
          ]
        }
      ],
      "source": [
        "print(autocorrelation)"
      ]
    },
    {
      "cell_type": "code",
      "execution_count": null,
      "metadata": {
        "id": "L-ToI0TYaigl"
      },
      "outputs": [],
      "source": [
        "from statsmodels.stats.diagnostic import acorr_ljungbox"
      ]
    },
    {
      "cell_type": "code",
      "execution_count": null,
      "metadata": {
        "id": "l0m7PgTaaign",
        "outputId": "c8bccc10-ae4e-4b4a-dc18-566c668aa0fb"
      },
      "outputs": [
        {
          "name": "stdout",
          "output_type": "stream",
          "text": [
            "(array([ 3.05632553,  9.70979107, 13.90080074]), array([0.08042335, 0.00779015, 0.00304334]))\n"
          ]
        }
      ],
      "source": [
        "re = acorr_ljungbox(data, lags=3)\n",
        "print(re)"
      ]
    },
    {
      "cell_type": "code",
      "execution_count": null,
      "metadata": {
        "id": "x8JhGemfaigp"
      },
      "outputs": [],
      "source": [
        ""
      ]
    }
  ],
  "metadata": {
    "kernelspec": {
      "display_name": "Python 3",
      "language": "python",
      "name": "python3"
    },
    "language_info": {
      "codemirror_mode": {
        "name": "ipython",
        "version": 3
      },
      "file_extension": ".py",
      "mimetype": "text/x-python",
      "name": "python",
      "nbconvert_exporter": "python",
      "pygments_lexer": "ipython3",
      "version": "3.7.3"
    },
    "colab": {
      "name": "Pruebas de autocorrelacion.ipynb",
      "provenance": []
    }
  },
  "nbformat": 4,
  "nbformat_minor": 0
}