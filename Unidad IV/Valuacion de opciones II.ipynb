{
  "cells": [
    {
      "cell_type": "markdown",
      "metadata": {
        "id": "hEyNX1afm3tO"
      },
      "source": [
        "# <font color='blue'> Movimiento browniano "
      ]
    },
    {
      "cell_type": "markdown",
      "metadata": {
        "id": "D-SdqYMum3t4"
      },
      "source": [
        "La colección de variables aleatorias $X(t), t \\geq 0$ es un **movimiento browniano** de parámetros $\\mu$ y $\\sigma^2$ si satisface:  \n",
        "\n",
        "* $X(0)$ es una constante dada.\n",
        "\n",
        "* Para todo $y$ y $t$ positivos, la variable aleatoria $X(t+y)-X(y)$ es independiente de los valores del proceso hasta el  tiempo $y$ y tiene una distribución normal con media $μt$ y varianza $t \\sigma^2$ "
      ]
    },
    {
      "cell_type": "markdown",
      "metadata": {
        "id": "pe2uLbG6m3t7"
      },
      "source": [
        "Comentarios.\n",
        "\n",
        "* El proceso queda determinado solo por el valor presente y ninguno del pasado el que determina los valores futuros.\n",
        "* $X(t)$ es, con probabilidad 1, una función continua de $t$.\n",
        "* Pero no es diferenciable.\n",
        "* EL movimiento browniano es el límite de modelos más simples, como las caminatas aleatorias (del modelo binomial)."
      ]
    },
    {
      "cell_type": "markdown",
      "metadata": {
        "id": "-OXr_u4zm3t-"
      },
      "source": [
        "### <font color='blue'> Movimiento Browniano Geometrico"
      ]
    },
    {
      "cell_type": "markdown",
      "metadata": {
        "id": "NFWDdk8Vm3uB"
      },
      "source": [
        "Sea  $X(t), t \\geq 0$ un movimiento browniano de parámetros $\\mu$ y $\\sigma^2$, y sea:\n",
        "    \n",
        "$$S(t)=e^{X(t)}, t \\geq 0$$\n",
        "\n",
        "El proceso $S(t), t \\geq 0$ se dice que es un movimiento browniano geometrico con parámetros $\\mu$ y $\\sigma^2$. \n",
        "    "
      ]
    },
    {
      "cell_type": "markdown",
      "metadata": {
        "id": "SaG2Z6Htm3uG"
      },
      "source": [
        "Entonces:\n",
        "\n",
        "$$\\log \\Bigg( \\frac{S(t+y)}{S(y)} \\Bigg)$$\n",
        "\n",
        "es independiente del proceso y tiene distribución normal con media $\\mu t$ y varianza $\\sigma^2 t$."
      ]
    },
    {
      "cell_type": "markdown",
      "metadata": {
        "id": "Vt8A9ng5m3uP"
      },
      "source": [
        "#### Modelación de las acciones."
      ]
    },
    {
      "cell_type": "markdown",
      "metadata": {
        "id": "67WmG5L7m3vQ"
      },
      "source": [
        "Si $P_t$ es el precio de una acción en el tiempo $t$, entonces el rendimiento logaritmizado \n",
        "es $R_t = \\log(\\frac{P_t}{P_{t-1}})$, para $t=1,2,3...$ y normalmente ocurre que:\n",
        "\n",
        "$$R_t \\sim N(\\mu, \\sigma)$$"
      ]
    },
    {
      "cell_type": "markdown",
      "metadata": {
        "id": "nT7OAy7Hm3vX"
      },
      "source": [
        "El uso del rendimiento logaritmizado se justifica como una buena aproximación:\n",
        "\n",
        "$$R_t \\approx \\frac{P_t - P_{t-1}}{P_{t-1}}$$ \n",
        "\n",
        "debido a que el orden de los rendimientos es de $10^{-3}$ y se hace uso de $\\log (1 + x) \\approx x$."
      ]
    },
    {
      "cell_type": "markdown",
      "metadata": {
        "id": "DBSP1-tbm3vd"
      },
      "source": [
        "Ahora, si se reescribe la cantidad $\\frac{P_t}{P_0}$ como:\n",
        "\n",
        "$$\\frac{P_t}{P_0} = \\frac{P_t}{P_{t-1}} \\cdot \\frac{P_{t-1}}{P_{t-2}} \\cdot \\frac{P_{t-2}}{P_{t-3}} \\cdot ... \\cdot \\frac{P_2}{P_1} \\cdot \\frac{P_1}{P_0} $$"
      ]
    },
    {
      "cell_type": "markdown",
      "metadata": {
        "id": "VqH16TJ8m3vj"
      },
      "source": [
        "Al tomar el logaritmo:\n",
        "\n",
        "$$\\log( \\frac{P_t}{P_0}) = R_t + R_{t-1} + ... + R_2 + R_1$$"
      ]
    },
    {
      "cell_type": "markdown",
      "metadata": {
        "id": "vcArzCqSm3vo"
      },
      "source": [
        "Si suponemos que los rendimientos $R_i$ son independientes y tienen una misma distribución, \n",
        "con $E[R_i]= \\mu$ y $V[R_i]=\\sigma^2$, entonces para $t$ grande, por el teorema central del límite esto \n",
        "sigue una distribución normal (para más de 30 días) y se tendrá:"
      ]
    },
    {
      "cell_type": "markdown",
      "metadata": {
        "id": "8cqZPGe8m3vq"
      },
      "source": [
        "$$E \\Bigg[\\log \\frac{P_t}{P_o} \\Bigg]= E[R_t]+E[R_{t-1}]+...+E[R_1]= t\\mu$$\n",
        "\n",
        "\n",
        "$$V \\Bigg[\\log \\frac{P_t}{P_o} \\Bigg]= V[R_t]+V[R_{t-1}]+...+V[R_1]= t\\sigma^2$$"
      ]
    },
    {
      "cell_type": "markdown",
      "metadata": {
        "id": "agp3qKjYm3vw"
      },
      "source": [
        "Y se tendría que:\n",
        "\n",
        "$$\\log \\Bigg( \\frac{P_t}{P_0} \\Bigg) \\sim N(\\mu t, \\sigma \\sqrt t)$$"
      ]
    },
    {
      "cell_type": "markdown",
      "metadata": {
        "id": "m0BGcAEXm3v0"
      },
      "source": [
        "Por lo que se puede escribir:\n",
        "\n",
        "$$P_t=P_0 e^{\\mu t +\\sigma \\beta_t}$$"
      ]
    },
    {
      "cell_type": "markdown",
      "metadata": {
        "id": "ezkfWAGfm3v7"
      },
      "source": [
        "donde $\\beta_t$ es un movimiento browniano en $(0,t)$ y $E[\\beta_t]=0$ y $V[\\beta_t]=t$"
      ]
    },
    {
      "cell_type": "markdown",
      "metadata": {
        "id": "MbQmaiDUm3wI"
      },
      "source": [
        "Y la igualdad anterior también se puede escribir como:\n",
        "\n",
        "$$P_t=P_0 e^{\\mu t + \\sigma \\sqrt t z}$$\n",
        "\n",
        "donde $z \\sim N(0,1)$."
      ]
    },
    {
      "cell_type": "markdown",
      "metadata": {
        "id": "qvtGFiYDm3wK"
      },
      "source": [
        "Esta última ecuación nos permite ya construir una simulación."
      ]
    },
    {
      "cell_type": "code",
      "execution_count": 1,
      "metadata": {
        "id": "ZV52RUoUm3wL"
      },
      "outputs": [],
      "source": [
        "from random import gauss\n",
        "from math import exp\n",
        "import matplotlib.pyplot as plt"
      ]
    },
    {
      "cell_type": "code",
      "execution_count": 2,
      "metadata": {
        "id": "y6gp_wOsm3wP"
      },
      "outputs": [],
      "source": [
        "mu=0.001 \n",
        "sigma=0.04  #sigma\n",
        "p0=10\n",
        "t=30"
      ]
    },
    {
      "cell_type": "code",
      "execution_count": 3,
      "metadata": {
        "id": "mTiOnw4im3wT"
      },
      "outputs": [],
      "source": [
        "def trayectoria(mu,sigma,p0,t):\n",
        "    l=[p0]\n",
        "    pt=p0\n",
        "    for i in range(t):\n",
        "        pt=pt*exp(mu + sigma*gauss(0,1))\n",
        "        l.append(pt)\n",
        "    return l"
      ]
    },
    {
      "cell_type": "code",
      "execution_count": 4,
      "metadata": {
        "id": "0HycP8dwm3wX"
      },
      "outputs": [],
      "source": [
        "l=trayectoria(mu, sigma,p0,t)"
      ]
    },
    {
      "cell_type": "code",
      "execution_count": 5,
      "metadata": {
        "id": "x_kUfmtbm3wa",
        "outputId": "084effc7-d014-41f0-8950-c27656b57a64",
        "colab": {
          "base_uri": "https://localhost:8080/"
        }
      },
      "outputs": [
        {
          "output_type": "stream",
          "name": "stdout",
          "text": [
            "[10, 10.251214089001348, 10.01068363062848, 9.592311173985134, 9.326426037128172, 8.817728358442801, 8.558243198212693, 8.17037977444971, 8.577219324901675, 8.415071169481015, 8.52765339847553, 8.063482212210562, 7.6351776137521865, 7.623409986807645, 7.454622320842585, 7.265346144496999, 7.512566919716792, 7.812932488097378, 7.935623062523723, 7.7904151302431135, 8.240219486808082, 8.4991474925362, 8.88210840983891, 8.587401188828874, 8.016387159374759, 7.9493623404860205, 8.144493238110531, 7.705036904881804, 7.111151734395273, 7.070265664580673, 7.051597326769365]\n"
          ]
        }
      ],
      "source": [
        "print(l)"
      ]
    },
    {
      "cell_type": "code",
      "execution_count": 6,
      "metadata": {
        "id": "EMXi0A6km3we",
        "outputId": "2f08475b-4752-4f64-e105-9b4711997c1e",
        "colab": {
          "base_uri": "https://localhost:8080/",
          "height": 265
        }
      },
      "outputs": [
        {
          "output_type": "display_data",
          "data": {
            "text/plain": [
              "<Figure size 432x288 with 1 Axes>"
            ],
            "image/png": "[encoded data removed]"
          },
          "metadata": {
            "needs_background": "light"
          }
        }
      ],
      "source": [
        "\n",
        "plt.plot(l)\n",
        "plt.show()"
      ]
    },
    {
      "cell_type": "code",
      "execution_count": 7,
      "metadata": {
        "id": "FYcICAKQm3wg"
      },
      "outputs": [],
      "source": [
        "mu=0.001\n",
        "sigma=0.04\n",
        "p0=10\n",
        "t=200"
      ]
    },
    {
      "cell_type": "code",
      "execution_count": 8,
      "metadata": {
        "id": "HyOhmRnEm3wh",
        "outputId": "48aba36c-2c0f-4214-cf3e-e21066046ba6",
        "colab": {
          "base_uri": "https://localhost:8080/",
          "height": 265
        }
      },
      "outputs": [
        {
          "output_type": "display_data",
          "data": {
            "text/plain": [
              "<Figure size 432x288 with 1 Axes>"
            ],
            "image/png": "[encoded data removed]"
          },
          "metadata": {
            "needs_background": "light"
          }
        }
      ],
      "source": [
        "for i in range(10):\n",
        "    l=trayectoria(mu,sigma,p0,t)\n",
        "    plt.plot(l)\n",
        "plt.show()"
      ]
    },
    {
      "cell_type": "code",
      "source": [
        "mu=0.0001    #con mu y sigma pequeña\n",
        "sigma=0.004  \n",
        "p0=10\n",
        "t=200\n",
        "for i in range(10):\n",
        "    l=trayectoria(mu,sigma,p0,t)\n",
        "    plt.plot(l)\n",
        "plt.show()"
      ],
      "metadata": {
        "id": "p3lBd12fnvge",
        "outputId": "13a4efd7-590a-445c-cce0-73ee8ea3f473",
        "colab": {
          "base_uri": "https://localhost:8080/",
          "height": 265
        }
      },
      "execution_count": 10,
      "outputs": [
        {
          "output_type": "display_data",
          "data": {
            "text/plain": [
              "<Figure size 432x288 with 1 Axes>"
            ],
            "image/png": "[encoded data removed]"
          },
          "metadata": {
            "needs_background": "light"
          }
        }
      ]
    },
    {
      "cell_type": "markdown",
      "metadata": {
        "id": "656VM4FRm3wi"
      },
      "source": [
        "#### Ejercicio \n",
        "\n",
        "Estudiar el comportamiento de las trayectorias al variar $\\mu$ y $\\sigma$."
      ]
    },
    {
      "cell_type": "markdown",
      "metadata": {
        "id": "qLew7Sptm3wm"
      },
      "source": [
        "Entonces, sabiendo que $P_t=P_0 e^{\\mu t +\\sigma \\beta_t}=P_t=P_0 e^{\\mu t + \\sigma \\sqrt t z}$, \n",
        "¿cuál es el valor esperado de $P_t$?\n",
        "\n",
        "Tendríamos:"
      ]
    },
    {
      "cell_type": "markdown",
      "metadata": {
        "id": "XzUfcn3lm3wo"
      },
      "source": [
        "$$E[P_t]=E[P_0 e^{\\mu t + \\sigma \\sqrt t z}] = P_0 E[e^{\\mu t + \\sigma \\sqrt t z}]$$"
      ]
    },
    {
      "cell_type": "markdown",
      "metadata": {
        "id": "2RWyh9CNm3wp"
      },
      "source": [
        "Y para poder evaluar esto, necesitamos utilizar la función generadora de momentos:\n",
        "    \n",
        "$$\\mu_x(s)=e^{\\mu s + \\frac{\\sigma^2 s^2}{2}}$$"
      ]
    },
    {
      "cell_type": "markdown",
      "metadata": {
        "id": "BV8xKc1gm3wq"
      },
      "source": [
        "De manera que:\n",
        "    \n",
        "$$E[P_t]=P_0 e^{(\\mu + \\frac{\\sigma}{2})t}$$"
      ]
    },
    {
      "cell_type": "markdown",
      "metadata": {
        "id": "HKhTyNIwm3wr"
      },
      "source": [
        "Y la varianza:\n",
        "    \n",
        "$$V[P_t]=P_0^2e^{2\\mu t}(e^{2t\\sigma^2}-e^{t\\sigma^2})$$"
      ]
    },
    {
      "cell_type": "markdown",
      "metadata": {
        "id": "jWbzzrZ0m3ws"
      },
      "source": [
        "Pero la cuestión práctica es: ¿Dados los precios de una acción, $P_0, P_1,...,P_t$, ¿cómo estimar $\\mu$ y $\\sigma$?"
      ]
    },
    {
      "cell_type": "markdown",
      "metadata": {
        "id": "EQgkO4QGm3ws"
      },
      "source": [
        "Recordando que:\n",
        "\n",
        "$$R_t \\sim N(\\mu, \\sigma)$$\n",
        "\n",
        "y\n",
        "\n",
        "$$\\hat{\\mu} = \\frac{\\sum_{t=1}^{T}R_t}{T}$$\n",
        "\n",
        "y\n",
        "\n",
        "$$\\hat{\\sigma}=\\sqrt{\\frac{1}{T-1} \\sum_{t=1}^T (R_t - \\hat{\\mu})^2}$$"
      ]
    },
    {
      "cell_type": "markdown",
      "metadata": {
        "id": "2567B8Pnm3wt"
      },
      "source": [
        "En la práctica, dados:\n",
        "$$P_0, P_1, P_2, P_3, ...$$\n",
        "\n",
        "Calculamos:\n",
        "    \n",
        "$$R_1=\\log(\\frac{P_1}{P_0})$$\n",
        "\n",
        "$$R_1=\\log(\\frac{P_2}{P_1})$$\n",
        "\n",
        "$$R_1=\\log(\\frac{P_3}{P_2})$$\n",
        "\n",
        "$$R_1=\\log(\\frac{P_4}{P_3})$$\n",
        "\n",
        "$$...$$"
      ]
    },
    {
      "cell_type": "markdown",
      "metadata": {
        "id": "6szbDmeam3wu"
      },
      "source": [
        "Y calculamos la media y la desviación estándar de estos valores, y podemos observar que:\n",
        "\n",
        "* Si $\\hat{\\mu} + \\frac{\\hat{\\sigma}}{2} > 0$, la acción tiende a crecer.\n",
        "\n",
        "* Si $\\hat{\\mu} + \\frac{\\hat{\\sigma}}{2} \\approx 0$, la acción tiende a permanecer constante.\n",
        "\n",
        "* Si $\\hat{\\mu} + \\frac{\\hat{\\sigma}}{2} < 0$, la acción tiende a decrecer."
      ]
    },
    {
      "cell_type": "markdown",
      "metadata": {
        "id": "DhsfzL4Lm3ww"
      },
      "source": [
        "Y podemos implementar esto con el siguiente código, usando la librería investpy."
      ]
    },
    {
      "cell_type": "code",
      "execution_count": null,
      "metadata": {
        "id": "v3sQqQfUm3wx"
      },
      "outputs": [],
      "source": [
        "from statistics import mean,stdev,pstdev\n",
        "from math import log\n",
        "import pandas_datareader as pdr\n",
        "import datetime\n",
        "import pandas as pd\n",
        "import matplotlib.pyplot as plt\n",
        "import investpy"
      ]
    },
    {
      "cell_type": "markdown",
      "metadata": {
        "id": "rUobeL8Vm3wy"
      },
      "source": [
        "Pero antes, recordemos un poco de Pandas"
      ]
    },
    {
      "cell_type": "markdown",
      "metadata": {
        "id": "RulzRFklm3wz"
      },
      "source": [
        "Cargamos los datos y los guardamos."
      ]
    },
    {
      "cell_type": "code",
      "execution_count": null,
      "metadata": {
        "id": "wF97zU5Em3wz"
      },
      "outputs": [],
      "source": [
        "df=investpy.get_stock_historical_data(stock=\"DIS\",country=\"Mexico\",from_date=\"01/01/2022\", to_date=\"31/05/2022\")\n",
        "\n",
        "df.to_csv(\"datos.csv\")"
      ]
    },
    {
      "cell_type": "markdown",
      "metadata": {
        "id": "xz-2q7-Gm3w1"
      },
      "source": [
        "Podemos usar las funciones de Pandas para analizar los datos."
      ]
    },
    {
      "cell_type": "code",
      "execution_count": null,
      "metadata": {
        "id": "-H-eBWHzm3w6"
      },
      "outputs": [],
      "source": [
        "type(df) # Checamos el tipo de dato"
      ]
    },
    {
      "cell_type": "code",
      "execution_count": null,
      "metadata": {
        "id": "nvAXcstwm3w7"
      },
      "outputs": [],
      "source": [
        "df.shape # Este es un atributo, no una función. Devuelve (número de renglones, número de columnas)"
      ]
    },
    {
      "cell_type": "code",
      "execution_count": null,
      "metadata": {
        "id": "FSxFriQQm3w9"
      },
      "outputs": [],
      "source": [
        "df"
      ]
    },
    {
      "cell_type": "code",
      "execution_count": null,
      "metadata": {
        "id": "igyWn22em3w-"
      },
      "outputs": [],
      "source": [
        "print(df.head()) # La función head() muestra los primeros 5 renglones del data frame"
      ]
    },
    {
      "cell_type": "markdown",
      "metadata": {
        "id": "3vnHvS-Cm3w_"
      },
      "source": [
        "Generalmente, comenzamos a analizar un data frame conociendo su tamaño y la información que contiene."
      ]
    },
    {
      "cell_type": "code",
      "execution_count": null,
      "metadata": {
        "id": "j247MbBym3w_"
      },
      "outputs": [],
      "source": [
        "df.columns # Da el nombre de las columnas"
      ]
    },
    {
      "cell_type": "markdown",
      "metadata": {
        "id": "3Y_RILHsm3xA"
      },
      "source": [
        "Cada columna debe ser del mismo tipo, pero un renglón puede tener objetos de diferentes tipos."
      ]
    },
    {
      "cell_type": "code",
      "execution_count": null,
      "metadata": {
        "id": "8lfWuPkem3xB"
      },
      "outputs": [],
      "source": [
        "df.dtypes # Da el tipo de objeto que guardan las columnas"
      ]
    },
    {
      "cell_type": "code",
      "execution_count": null,
      "metadata": {
        "id": "rpN19Tdjm3xC"
      },
      "outputs": [],
      "source": [
        "df.info() # Esta función da información más amplia"
      ]
    },
    {
      "cell_type": "markdown",
      "metadata": {
        "id": "kgk8e5NDm3xD"
      },
      "source": [
        "Podemos elegir columnas en particular para visualizar."
      ]
    },
    {
      "cell_type": "code",
      "execution_count": null,
      "metadata": {
        "id": "-06yjluxm3xD"
      },
      "outputs": [],
      "source": [
        "c_df=df['Close'] # Elejimos la columna y la guardamos como una nueva variable"
      ]
    },
    {
      "cell_type": "code",
      "execution_count": null,
      "metadata": {
        "id": "wrCipspUm3xE"
      },
      "outputs": [],
      "source": [
        "c_df.head() # mostramos los primeros 5 renglones"
      ]
    },
    {
      "cell_type": "code",
      "execution_count": null,
      "metadata": {
        "id": "TqJst0PUm3xF"
      },
      "outputs": [],
      "source": [
        "c_df.tail() # mostramos los últimos 5 renglones"
      ]
    },
    {
      "cell_type": "code",
      "execution_count": null,
      "metadata": {
        "id": "BPMb0t18m3xG"
      },
      "outputs": [],
      "source": [
        "o_df=df.Open # También podemos elegir la columna nombrandola directamente"
      ]
    },
    {
      "cell_type": "code",
      "execution_count": null,
      "metadata": {
        "id": "AQjZA9Tam3xI"
      },
      "outputs": [],
      "source": [
        "o_df.head()"
      ]
    },
    {
      "cell_type": "code",
      "execution_count": null,
      "metadata": {
        "id": "AR5zKFZvm3xM"
      },
      "outputs": [],
      "source": [
        "subset=df[['Open','Close']] # Para especificar varias columnas usamos corchetes dobles"
      ]
    },
    {
      "cell_type": "code",
      "execution_count": null,
      "metadata": {
        "id": "Ogl4anJPm3xN"
      },
      "outputs": [],
      "source": [
        "subset.head()"
      ]
    },
    {
      "cell_type": "code",
      "execution_count": null,
      "metadata": {
        "id": "YBckD7-1m3xO"
      },
      "outputs": [],
      "source": [
        "subset.head(n=10) # podemos ver más renglones"
      ]
    },
    {
      "cell_type": "code",
      "execution_count": null,
      "metadata": {
        "id": "nN9_ZmU4m3xS"
      },
      "outputs": [],
      "source": [
        "subset.tail()"
      ]
    },
    {
      "cell_type": "code",
      "execution_count": null,
      "metadata": {
        "id": "IeL7kVd0m3xU"
      },
      "outputs": [],
      "source": [
        "subset # se puede imprimir todo"
      ]
    },
    {
      "cell_type": "code",
      "execution_count": null,
      "metadata": {
        "id": "y6LOIaQHm3xU"
      },
      "outputs": [],
      "source": [
        "subset.ix[0] # revisar: iloc, loe"
      ]
    },
    {
      "cell_type": "code",
      "execution_count": null,
      "metadata": {
        "id": "QmX-NQz0m3xV"
      },
      "outputs": [],
      "source": [
        "df[50:55]['Close']"
      ]
    },
    {
      "cell_type": "markdown",
      "metadata": {
        "id": "Na62_AfPm3xW"
      },
      "source": [
        "Podemos graficar los precios y calcular las estadisticas de los rendimientos logaritmizados"
      ]
    },
    {
      "cell_type": "code",
      "execution_count": null,
      "metadata": {
        "id": "FV_C5uwrm3xX"
      },
      "outputs": [],
      "source": [
        "datos=investpy.get_stock_historical_data(stock=\"DIS\",country=\"Mexico\",from_date=\"24/05/2021\", to_date=\"24/05/2022\")\n",
        "\n",
        "datos.to_csv(\"datos.csv\")\n",
        "\n",
        "\n",
        "datos=pd.read_csv(\"datos.csv\",header=0,index_col=\"Date\",parse_dates=True) #le peidmos leer los datos del csv \n",
        "\n",
        "\n",
        "ts=datos[\"Close\"] #que tome los valores de precio de cierre de la acci+on \n",
        "print(ts)\n",
        "\n",
        "lp=[] #creamos una lista vacia para los precios \n",
        "\n",
        "for i in range(len(ts)):\n",
        "     lp.append(ts.iloc[i])\n",
        "plt.plot(lp) #grafica de los precios\n",
        "plt.show()\n",
        "\n",
        "#calcular los rendimientos\n",
        "\n",
        "lr=[] #lista de rendimientos\n",
        "for i in range(1,len(lp)):\n",
        "     lr.append((lp[i-1]/lp[i])-1) #para lso rendimientos usamos la formula de el precio de cierre anterior entre el precio de cierre actual menos 1\n",
        "\n",
        "print(f\"\\n El rendimiento medio es: {mean(lr)},\\n La desviación muestral es: {stdev(lr)} \\n La desviación poblacional es: {pstdev(lr)}\")\n",
        "\n",
        "\n"
      ]
    },
    {
      "cell_type": "markdown",
      "metadata": {
        "id": "hCYOHD_rm3xY"
      },
      "source": [
        "Y podemos visualizar el rendimiento"
      ]
    },
    {
      "cell_type": "code",
      "execution_count": null,
      "metadata": {
        "id": "iFFdpxGOm3xZ"
      },
      "outputs": [],
      "source": [
        "lr=[]\n",
        "for i in range(1,len(lp)):\n",
        "    lr.append(log(lp[i]/lp[i-1]))\n",
        "plt.plot(lr)\n",
        "plt.show()\n",
        "print(mean(lr), stdev(lr))"
      ]
    },
    {
      "cell_type": "markdown",
      "metadata": {
        "id": "UEUJqaF3m3xa"
      },
      "source": [
        "Y graficarlos juntos, mostrará las fluctuaciones en los mismos puntos"
      ]
    },
    {
      "cell_type": "code",
      "execution_count": null,
      "metadata": {
        "id": "HwuubeGDm3xb"
      },
      "outputs": [],
      "source": [
        "fig, ax=plt.subplots(2,1,figsize=(16,8), sharex=True)\n",
        "ax[0].plot(lp)\n",
        "ax[1].plot(lr)"
      ]
    },
    {
      "cell_type": "code",
      "execution_count": null,
      "metadata": {
        "id": "zmqh33Uvm3xb"
      },
      "outputs": [],
      "source": [
        ""
      ]
    },
    {
      "cell_type": "markdown",
      "metadata": {
        "id": "BCth3WUwm3xc"
      },
      "source": [
        "#### Opciones"
      ]
    },
    {
      "cell_type": "markdown",
      "metadata": {
        "id": "A3TFUJ30m3xd"
      },
      "source": [
        "Entonces, Tenemos que $P_t=P_0 e^{\\mu t +\\sigma \\beta_t}$"
      ]
    },
    {
      "cell_type": "markdown",
      "metadata": {
        "id": "vL64sBIlm3xe"
      },
      "source": [
        "De manera que:\n",
        "    \n",
        "$$E[P_t]=P_0 e^{(\\mu + \\frac{\\sigma}{2})t}$$"
      ]
    },
    {
      "cell_type": "markdown",
      "metadata": {
        "id": "C_rPrQeHm3xe"
      },
      "source": [
        "Podemos reescribir el precio como:\n",
        "    \n",
        "$$P_t=P_0 e^{(\\mu - \\frac{\\sigma}{2})t + \\sigma \\beta_t}$$"
      ]
    },
    {
      "cell_type": "markdown",
      "metadata": {
        "id": "8dEc_Yoim3xf"
      },
      "source": [
        "O más convenientemente como:\n",
        "\n",
        "<font color='blue'>$$P_t=P_0 e^{(\\mu - \\frac{\\sigma}{2})t + \\sigma \\sqrt{t} z}$$\n",
        "    \n",
        "con $z \\sim N(0, 1)$"
      ]
    },
    {
      "cell_type": "markdown",
      "metadata": {
        "id": "-zm9KwX2m3xg"
      },
      "source": [
        "Ahora con:\n",
        "    \n",
        "$$E[P_t]=P_0 e^{\\mu t}$$"
      ]
    },
    {
      "cell_type": "markdown",
      "metadata": {
        "id": "zq_83NB3m3xk"
      },
      "source": [
        "Para el caso de una opción europea (contrato a tiempo fijo), con precio de ejercicio k, al tiempo t. \n",
        "Se tienen las alternativas:\n",
        "    \n",
        "* Si $p>k$ se compra\n",
        "* Si $p \\leq k$ no se compra"
      ]
    },
    {
      "cell_type": "markdown",
      "metadata": {
        "id": "t5bfsgQfm3xl"
      },
      "source": [
        "El valor esperado de la ganancia es:\n",
        "\n",
        "$$E[(P_t - k)^t]$$"
      ]
    },
    {
      "cell_type": "markdown",
      "metadata": {
        "id": "yGS547a6m3xl"
      },
      "source": [
        "Y aquí va un desarrollo matemático..."
      ]
    },
    {
      "cell_type": "code",
      "execution_count": null,
      "metadata": {
        "id": "bx_9772cm3xm"
      },
      "outputs": [],
      "source": [
        ""
      ]
    },
    {
      "cell_type": "code",
      "execution_count": null,
      "metadata": {
        "id": "PntgOGHEm3xn"
      },
      "outputs": [],
      "source": [
        "from random import gauss\n",
        "from math import exp, sqrt"
      ]
    },
    {
      "cell_type": "code",
      "execution_count": null,
      "metadata": {
        "id": "zwEWeAfqm3xp"
      },
      "outputs": [],
      "source": [
        "def f(p0, t0, t, mu, sigma):\n",
        "    h=(mu - (sigma**2)/2)*(t-t0) + sigma*sqrt(t-t0)*gauss(0,1)\n",
        "#    h=(mu - (sigma**2)/2)*(t-t0) + sigma*gauss(0, sqrt(t-t0))\n",
        "    p=p0*exp(h)\n",
        "    return p"
      ]
    },
    {
      "cell_type": "code",
      "execution_count": null,
      "metadata": {
        "id": "xTyBT4MXm3xr"
      },
      "outputs": [],
      "source": [
        "n = 1000000\n",
        "mu = 0.004\n",
        "sigma = 0.03\n",
        "p0 = 10\n",
        "suma = 0\n",
        "\n",
        "for i in range(n):\n",
        "    p30 = f(p0, 0, 30, mu, sigma)\n",
        "    p70 = f(p30, 30, 70, mu, sigma)\n",
        "    suma = suma + 100*(p70 - p30)/p30\n",
        "print(suma/n)"
      ]
    },
    {
      "cell_type": "code",
      "execution_count": null,
      "metadata": {
        "id": "96GADzCHm3xs"
      },
      "outputs": [],
      "source": [
        ""
      ]
    }
  ],
  "metadata": {
    "kernelspec": {
      "display_name": "Python 3",
      "language": "python",
      "name": "python3"
    },
    "language_info": {
      "codemirror_mode": {
        "name": "ipython",
        "version": 3
      },
      "file_extension": ".py",
      "mimetype": "text/x-python",
      "name": "python",
      "nbconvert_exporter": "python",
      "pygments_lexer": "ipython3",
      "version": "3.7.3"
    },
    "colab": {
      "name": "Valuacion de opciones II.ipynb",
      "provenance": []
    }
  },
  "nbformat": 4,
  "nbformat_minor": 0
}