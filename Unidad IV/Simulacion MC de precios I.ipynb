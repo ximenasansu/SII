{
  "cells": [
    {
      "cell_type": "markdown",
      "metadata": {
        "id": "vNo9wKbdroWC"
      },
      "source": [
        "# <font color='blue'> Simulación Monte Carlo del Precio de Acciones"
      ]
    },
    {
      "cell_type": "markdown",
      "metadata": {
        "id": "9z96YkZvroWO"
      },
      "source": [
        "Podemos partir definiendo que el Movimiento Browniano Geométrico sigue la ecuación diferencial estocastica:\n",
        "\n",
        "$$dS = \\mu S dt + \\sigma S dW_t$$\n",
        "\n",
        "donde:\n",
        "\n",
        "$S$: Precio de la acción\n",
        "\n",
        "$\\mu$: coeficiente de deriva, esto es, el promedio de los rendimientos sobre un periodo o el rendimiento esperado instántaneo.\n",
        "\n",
        "$\\sigma$: coeficiente de difusión, esto es, la volatilidad.\n",
        "\n",
        "$W_t$: Movimiento browniano\n",
        "    "
      ]
    },
    {
      "cell_type": "markdown",
      "metadata": {
        "id": "sI11CJzfroWR"
      },
      "source": [
        "Esta ecuación admite una solución, dada por:\n",
        "\n",
        "$$S(t)=S_0 e^{(\\mu -\\frac{1}{2}\\sigma^2)t+\\sigma W_t}$$\n",
        "\n",
        "donde $S_0=S(0)$ es el precio inicial."
      ]
    },
    {
      "cell_type": "markdown",
      "metadata": {
        "id": "5JnqD2mVroWU"
      },
      "source": [
        "Para fines de la simulación, usamos la fórmula recursiva:\n",
        "    \n",
        "$$S(t_{i+1})=S(t_i)exp(\\mu - \\frac{1}{2}\\sigma^2)(t_{i+1}- t_i) + \\sigma \\sqrt{t_{i+1}-t_i} Z_{i+1}$$\n",
        "\n",
        "donde $Z_i$ es una variable aleatoria normal estándar e $i=1,2,3,...T$ es el índice de tiempo."
      ]
    },
    {
      "cell_type": "code",
      "execution_count": 1,
      "metadata": {
        "id": "VgqZvQPEroWW"
      },
      "outputs": [],
      "source": [
        "import matplotlib.pyplot as plt\n",
        "import warnings\n",
        "\n",
        "plt.style.use('seaborn')\n",
        "# plt.style.use('seaborn-colorblind') #alternativa\n",
        "plt.rcParams['figure.figsize'] = [8, 4.5]\n",
        "plt.rcParams['figure.dpi'] = 300\n",
        "warnings.simplefilter(action='ignore', category=FutureWarning)"
      ]
    },
    {
      "cell_type": "code",
      "execution_count": 2,
      "metadata": {
        "id": "pddhRE0froWb"
      },
      "outputs": [],
      "source": [
        "%matplotlib inline\n",
        "%config InlineBackend.figure_format = 'retina'"
      ]
    },
    {
      "cell_type": "markdown",
      "metadata": {
        "id": "yIfd9ZOuroWd"
      },
      "source": [
        "Usamos yfinance para descargar datos de yahoo finance"
      ]
    },
    {
      "cell_type": "code",
      "execution_count": null,
      "metadata": {
        "id": "QfPh-JoDroWj"
      },
      "outputs": [],
      "source": [
        "import numpy as np\n",
        "import pandas as pd\n",
        "import yfinance as yf"
      ]
    },
    {
      "cell_type": "markdown",
      "metadata": {
        "id": "UmPBcS1JroWm"
      },
      "source": [
        "Definimos los parametros de los datos. Usamos acciones de Microsoft."
      ]
    },
    {
      "cell_type": "code",
      "execution_count": 4,
      "metadata": {
        "id": "BH24_EbkroWq"
      },
      "outputs": [],
      "source": [
        "#RISKY_ASSET = 'MSFT'\n",
        "#START_DATE = '2019-01-01'\n",
        "#END_DATE = '2019-07-31'"
      ]
    },
    {
      "cell_type": "code",
      "execution_count": 5,
      "metadata": {
        "id": "f-iELYs1roWs"
      },
      "outputs": [],
      "source": [
        "RISKY_ASSET = 'MSFT'\n",
        "START_DATE = '2022-01-01'\n",
        "END_DATE = '2022-05-31'"
      ]
    },
    {
      "cell_type": "markdown",
      "metadata": {
        "id": "bc7lWN8OroWv"
      },
      "source": [
        "Los cargamos en un data frame de pandas"
      ]
    },
    {
      "cell_type": "code",
      "execution_count": null,
      "metadata": {
        "id": "CYfhF0E5roWw"
      },
      "outputs": [],
      "source": [
        "df = yf.download(RISKY_ASSET, start=START_DATE, end=END_DATE, adjusted=True)\n",
        "print(f'Descargados {df.shape[0]} renglones de datos.')"
      ]
    },
    {
      "cell_type": "markdown",
      "metadata": {
        "id": "QWR_HW_6roW1"
      },
      "source": [
        "Calculamos los rendimientos diarios"
      ]
    },
    {
      "cell_type": "markdown",
      "metadata": {
        "id": "WcMF_ZGVroW3"
      },
      "source": [
        "Usamos los métodos: \n",
        "\n",
        "dropna(), que filtrar los valores de una estructura de datos pandas para dejar solo aquellos no nulos.\n",
        "\n",
        "pct_change(), que calcula el porcentaje de cambio entre la entrada actual y la anterior"
      ]
    },
    {
      "cell_type": "code",
      "execution_count": null,
      "metadata": {
        "id": "ituhf4x4roW4"
      },
      "outputs": [],
      "source": [
        "adj_close = df['Adj Close']\n",
        "returns = adj_close.pct_change().dropna()   \n",
        "\n",
        "ax = returns.plot()\n",
        "ax.set_title(f'{RISKY_ASSET} rendimientos: {START_DATE} - {END_DATE}', \n",
        "             fontsize=16)\n",
        "\n",
        "\n",
        "plt.tight_layout()\n",
        "#plt.savefig('imagen1.png')\n",
        "plt.show()\n",
        "\n",
        "print(f'Rendimiento promedio: {100 * returns.mean():.2f}%')"
      ]
    },
    {
      "cell_type": "markdown",
      "metadata": {
        "id": "-L19SJlqroW9"
      },
      "source": [
        "Graficamos el histograma para darnos una idea de si realmente siguen una distribución normal o no."
      ]
    },
    {
      "cell_type": "code",
      "execution_count": null,
      "metadata": {
        "id": "0j3G1axbroW-"
      },
      "outputs": [],
      "source": [
        "plt.hist(x=returns, rwidth=0.85, bins=30)\n",
        "plt.title('Histograma de los rendimientos')\n",
        "plt.xlabel('Rendimientos')\n",
        "plt.ylabel('Frecuencia')\n",
        "\n",
        "plt.show()"
      ]
    },
    {
      "cell_type": "markdown",
      "metadata": {
        "id": "E3fsiDrtroXA"
      },
      "source": [
        "Ahora dividimos el conjunto de datos en dos: un conjunto de entrenamiento y uno de prueba."
      ]
    },
    {
      "cell_type": "code",
      "execution_count": null,
      "metadata": {
        "id": "WYO48BiuroXC"
      },
      "outputs": [],
      "source": [
        "train = returns['2021-01-01':'2022-04-30']\n",
        "test = returns['2022-05-01':'2022-06-07']"
      ]
    },
    {
      "cell_type": "markdown",
      "metadata": {
        "id": "8j9VSKHkroXE"
      },
      "source": [
        "Definimos los parámetros de la simulación"
      ]
    },
    {
      "cell_type": "code",
      "execution_count": null,
      "metadata": {
        "id": "_s2e58TOroXF"
      },
      "outputs": [],
      "source": [
        "T = len(test)   # longitud del periodo de predicción\n",
        "N = len(test)   # número de incrementos unitarios en el periodo de predicción\n",
        "S_0 = adj_close[train.index[-1]]  # precio inicial\n",
        "N_SIM = 100\n",
        "\n",
        "# Obtenemos los parametros del subconjunto de entrenamiento\n",
        "\n",
        "mu = train.mean()    \n",
        "sigma = train.std()"
      ]
    },
    {
      "cell_type": "markdown",
      "metadata": {
        "id": "EI6UMBHWroXH"
      },
      "source": [
        "Antes de continuar comparamos gráfica e histograma"
      ]
    },
    {
      "cell_type": "code",
      "execution_count": null,
      "metadata": {
        "id": "v8CZX2kproXJ"
      },
      "outputs": [],
      "source": [
        "mu, sigma"
      ]
    },
    {
      "cell_type": "code",
      "execution_count": null,
      "metadata": {
        "id": "frWFVgltroXK"
      },
      "outputs": [],
      "source": [
        "from scipy import stats"
      ]
    },
    {
      "cell_type": "code",
      "execution_count": null,
      "metadata": {
        "id": "azZwo27nroXL"
      },
      "outputs": [],
      "source": [
        "x_hat = np.linspace(min(returns), max(returns), num=100)\n",
        "y_hat = stats.norm.pdf(x_hat, mu, sigma)\n",
        "\n",
        "fig, ax = plt.subplots(figsize=(7,4))\n",
        "ax.plot(x_hat, y_hat, linewidth=2, label='normal')\n",
        "ax.hist(x=returns, density=True, bins=30, color=\"#3182bd\", alpha=0.85)\n",
        "ax.set_title('Distribución de rendimientos')\n",
        "ax.set_xlabel('Rendimientos')\n",
        "ax.set_ylabel('Frecuencia')\n",
        "ax.legend();"
      ]
    },
    {
      "cell_type": "markdown",
      "metadata": {
        "id": "6SyZ11KMroXP"
      },
      "source": [
        "También podemos utilizar una gráfica cuantil-cuantil"
      ]
    },
    {
      "cell_type": "code",
      "execution_count": null,
      "metadata": {
        "id": "_rNaz5NwroXQ"
      },
      "outputs": [],
      "source": [
        "import pylab "
      ]
    },
    {
      "cell_type": "code",
      "execution_count": null,
      "metadata": {
        "id": "S896YHGIroXR"
      },
      "outputs": [],
      "source": [
        "stats.probplot(returns, dist=\"norm\", plot=pylab)\n",
        "pylab.show()"
      ]
    },
    {
      "cell_type": "code",
      "execution_count": null,
      "metadata": {
        "id": "ao_-om_JroXV"
      },
      "outputs": [],
      "source": [
        "from scipy.stats import kstest"
      ]
    },
    {
      "cell_type": "code",
      "execution_count": null,
      "metadata": {
        "id": "mI1kkvwCroXW"
      },
      "outputs": [],
      "source": [
        "kstest(returns, 'norm', args=(mu, sigma))"
      ]
    },
    {
      "cell_type": "code",
      "execution_count": null,
      "metadata": {
        "id": "F55LmvCVroXX"
      },
      "outputs": [],
      "source": [
        ""
      ]
    },
    {
      "cell_type": "markdown",
      "metadata": {
        "id": "qA8pHGdEroXX"
      },
      "source": [
        "Definimos la función para la simulación"
      ]
    },
    {
      "cell_type": "code",
      "execution_count": null,
      "metadata": {
        "id": "AGbGSOSuroXY"
      },
      "outputs": [],
      "source": [
        "def simulate_gbm(s_0, mu, sigma, n_sims, T, N, random_seed=242):\n",
        "\n",
        "    np.random.seed(random_seed)  # fijamos la semilla\n",
        "    \n",
        "    dt = T/N                     # incremento temporal\n",
        "    dW = np.random.normal(scale = np.sqrt(dt), size=(n_sims, N))\n",
        "    W = np.cumsum(dW, axis=1)\n",
        "    \n",
        "    time_step = np.linspace(dt, T, N)\n",
        "    time_steps = np.broadcast_to(time_step, (n_sims, N))\n",
        "    \n",
        "    S_t = s_0 * np.exp((mu - 0.5 * sigma**2) * time_steps + sigma * W)   # Matriz (n_sim, T+1)\n",
        "    S_t = np.insert(S_t, 0, s_0, axis=1)                 #Los reglones son trayectorias , columnas son tiempo\n",
        "    \n",
        "    return S_t"
      ]
    },
    {
      "cell_type": "markdown",
      "metadata": {
        "id": "2CmG4FuuroXZ"
      },
      "source": [
        "Corremos la simulación"
      ]
    },
    {
      "cell_type": "code",
      "execution_count": null,
      "metadata": {
        "id": "O4BYOPtoroXa"
      },
      "outputs": [],
      "source": [
        "gbm_simulations = simulate_gbm(S_0, mu, sigma, N_SIM, T, N)"
      ]
    },
    {
      "cell_type": "markdown",
      "metadata": {
        "id": "poMRQhMDroXc"
      },
      "source": [
        "Y graficamos los resultados"
      ]
    },
    {
      "cell_type": "code",
      "execution_count": null,
      "metadata": {
        "id": "7oekH1jkroXd"
      },
      "outputs": [],
      "source": [
        "last_train_date = train.index[-1].date()\n",
        "first_test_date = test.index[0].date()\n",
        "last_test_date = test.index[-1].date()\n",
        "plot_title = (f'{RISKY_ASSET} Simulation 'f'({first_test_date}:{last_test_date})')\n",
        "\n",
        "selected_indices = adj_close[last_train_date:last_test_date].index\n",
        "index = [date.date() for date in selected_indices]\n",
        "\n",
        "gbm_simulations_df = pd.DataFrame(np.transpose(gbm_simulations),   # se ponen datos simulados en un DF para visualizarlos\n",
        "                                  index=index)\n",
        "\n",
        "# Grafica\n",
        "ax = gbm_simulations_df.plot(alpha=0.2, legend=False) # alpha hace transparentes las lineas\n",
        "line_1, = ax.plot(index, gbm_simulations_df.mean(axis=1), \n",
        "                  color='red')\n",
        "line_2, = ax.plot(index, adj_close[last_train_date:last_test_date], \n",
        "                  color='blue')\n",
        "ax.set_title(plot_title, fontsize=16)\n",
        "ax.legend((line_1, line_2), ('media', 'real'))\n",
        "\n",
        "plt.tight_layout()\n",
        "#plt.savefig('imagen2.png')\n",
        "plt.show()"
      ]
    },
    {
      "cell_type": "markdown",
      "metadata": {
        "id": "NIY2pt3proXe"
      },
      "source": [
        "#### Observaciones"
      ]
    },
    {
      "cell_type": "markdown",
      "metadata": {
        "id": "ISQYBUbSroXf"
      },
      "source": [
        "* Recordar que, como para cualquier Monte Carlo, entre más muestras, mejor resultado se obtiene.\n",
        "* El método MC usa un proceso de discretización para simular fenómenos continuos.\n",
        "* Aquí se trabaja con vectores, lo cual evita bucles tipo for, que pueden ser ineficientes para este tipo de simulaciones.\n"
      ]
    },
    {
      "cell_type": "markdown",
      "metadata": {
        "id": "eMgdQwJsroXg"
      },
      "source": [
        "Podemos revisar el tiempo de simulación:"
      ]
    },
    {
      "cell_type": "code",
      "execution_count": null,
      "metadata": {
        "id": "xxwxm8Z1roXh"
      },
      "outputs": [],
      "source": [
        "%timeit gbm_simulations = simulate_gbm(S_0, mu, sigma, N_SIM, T, N)"
      ]
    },
    {
      "cell_type": "markdown",
      "metadata": {
        "id": "QtXmAM4hroXh"
      },
      "source": [
        "El módulo timeit cronometra fragmentos pequeños de código"
      ]
    },
    {
      "cell_type": "markdown",
      "metadata": {
        "id": "-nsFyDTZroXi"
      },
      "source": [
        "#### Reducción de varianza"
      ]
    },
    {
      "cell_type": "markdown",
      "metadata": {
        "id": "paDHa8TVroXj"
      },
      "source": [
        "Podemos utilizar la técnica de variables antiteticas para reducir la varianza en el código anterior.\n",
        "\n",
        "Para eso, hay que observar que las trayectorias fueron producidas generando variables aleatorias \n",
        "con distribución normal estándar $[ \\epsilon_1, ..., \\epsilon_t]$.\n",
        "\n",
        "Así, dividiremos la muestra en dos y a una mitad le asignaremos las variables antitéticas $[ -\\epsilon_1, ..., -\\epsilon_t]$ y usarmemos el mismo estimador estadistico."
      ]
    },
    {
      "cell_type": "markdown",
      "metadata": {
        "id": "CtxMhGyhroXk"
      },
      "source": [
        "Reescribimos la función, agregando un argumento. "
      ]
    },
    {
      "cell_type": "code",
      "execution_count": null,
      "metadata": {
        "id": "kEseVg0groXn"
      },
      "outputs": [],
      "source": [
        "def simulate_gbm(s_0, mu, sigma, n_sims, T, N, random_seed=42, antithetic_var=False):\n",
        "\n",
        "    np.random.seed(random_seed)\n",
        "    \n",
        "    # incremento de tiempo\n",
        "    dt = T/N\n",
        "    \n",
        "    # Movimiento Browniano con variables antiteticas\n",
        "    if antithetic_var:\n",
        "        dW_ant = np.random.normal(scale = np.sqrt(dt), \n",
        "                                  size=(int(n_sims/2), N + 1))\n",
        "        dW = np.concatenate((dW_ant, -dW_ant), axis=0)\n",
        "    else: \n",
        "        dW = np.random.normal(scale = np.sqrt(dt), \n",
        "                              size=(n_sims, N + 1))\n",
        "  \n",
        "    # evolucion del proceso\n",
        "    S_t = s_0 * np.exp(np.cumsum((mu - 0.5 * sigma ** 2) * dt + sigma * dW, \n",
        "                                 axis=1)) \n",
        "    S_t[:, 0] = s_0\n",
        "    \n",
        "    return S_t"
      ]
    },
    {
      "cell_type": "markdown",
      "metadata": {
        "id": "5AO3j4BDroXp"
      },
      "source": [
        "Ahora comparamos los tiempos"
      ]
    },
    {
      "cell_type": "code",
      "execution_count": null,
      "metadata": {
        "id": "tJ6v0oR2roXq"
      },
      "outputs": [],
      "source": [
        "%timeit gbm_simulations = simulate_gbm(S_0, mu, sigma, N_SIM, T, N)  # sin variables antiteticas"
      ]
    },
    {
      "cell_type": "code",
      "execution_count": null,
      "metadata": {
        "id": "D9UNMso7roXt"
      },
      "outputs": [],
      "source": [
        "%timeit gbm_simulations = simulate_gbm(S_0, mu, sigma, N_SIM, T, N, antithetic_var=True) # con variables antiteticas"
      ]
    },
    {
      "cell_type": "code",
      "execution_count": null,
      "metadata": {
        "id": "RkrHccDZroXu"
      },
      "outputs": [],
      "source": [
        ""
      ]
    },
    {
      "cell_type": "code",
      "execution_count": null,
      "metadata": {
        "id": "UJD7HKKjroXv"
      },
      "outputs": [],
      "source": [
        ""
      ]
    },
    {
      "cell_type": "code",
      "execution_count": null,
      "metadata": {
        "id": "bTvANaAfroXw"
      },
      "outputs": [],
      "source": [
        ""
      ]
    },
    {
      "cell_type": "markdown",
      "metadata": {
        "id": "5zCyERQproXw"
      },
      "source": [
        "# Opciones Europeas"
      ]
    },
    {
      "cell_type": "markdown",
      "metadata": {
        "id": "G3_nDtnHroXx"
      },
      "source": [
        "Una opción europea es aquella opción financiera donde el comprador de la misma podrá ejercerla solo cuando llegue el vencimiento del contrato."
      ]
    },
    {
      "cell_type": "markdown",
      "metadata": {
        "id": "OK3ZDzxbroXy"
      },
      "source": [
        "Para este caso existen fórmulas analiticas para el precio de las opciones. Nosotros usaremos estas fórmulas para la simulación (revisar):"
      ]
    },
    {
      "cell_type": "markdown",
      "metadata": {
        "id": "CxSfdqiGroXz"
      },
      "source": [
        "Call:\n",
        "\n",
        "$$C(S_t,t)=N(d_1)S_t-N(d_2)Ke^{-r(T-t)}$$"
      ]
    },
    {
      "cell_type": "markdown",
      "metadata": {
        "id": "U70TAg_9roX0"
      },
      "source": [
        "Put:\n",
        "\n",
        "$$P(S_t,t)=-N(-d_2)Ke^{-r(T-t)} - N(-d_1)S_t$$"
      ]
    },
    {
      "cell_type": "markdown",
      "metadata": {
        "id": "_YX1FKPwroX1"
      },
      "source": [
        "donde\n",
        "\n",
        "$$d_1=\\frac{1}{\\sigma \\sqrt{T-t}}[ln(\\frac{S_t}{K})+(r+\\frac{\\sigma^2}{2})(T-t)]$$\n",
        "\n",
        "\n",
        "$$d_2=d_1-\\sigma \\sqrt{T-t}$$"
      ]
    },
    {
      "cell_type": "markdown",
      "metadata": {
        "id": "O04OVDXeroX2"
      },
      "source": [
        "Notación:\n",
        "\n",
        "* S_0: precio inicial de la acción\n",
        "* K: precio Strike\n",
        "* r: tasa libre de riesgo anual\n",
        "* $\\sigma$: volatilidad\n",
        "* T: Tiempo\n",
        "* N: número de incrementos de las simulaciones"
      ]
    },
    {
      "cell_type": "markdown",
      "metadata": {
        "id": "r79qA_rproX3"
      },
      "source": [
        "El precio de la opción es"
      ]
    },
    {
      "cell_type": "markdown",
      "metadata": {
        "id": "D3j1wWUhroX4"
      },
      "source": [
        "Call:\n",
        "    \n",
        "$$max(S_T-K, 0)$$"
      ]
    },
    {
      "cell_type": "markdown",
      "metadata": {
        "id": "oIIbOq-uroX5"
      },
      "source": [
        "Put:\n",
        "\n",
        "$$max(K-S_T, 0)$$"
      ]
    },
    {
      "cell_type": "code",
      "execution_count": null,
      "metadata": {
        "id": "1UgUPeZJroX6"
      },
      "outputs": [],
      "source": [
        "import numpy as np\n",
        "from scipy.stats import norm"
      ]
    },
    {
      "cell_type": "code",
      "execution_count": null,
      "metadata": {
        "id": "EvjiqvosroX7"
      },
      "outputs": [],
      "source": [
        "S_0 = 100\n",
        "K = 100\n",
        "r = 0.05\n",
        "sigma = 0.50\n",
        "T = 1 # 1 año\n",
        "N = 252 # 252 días en un año\n",
        "dt = T / N # paso de tiempo\n",
        "N_SIMS = 1000000 # numero de simulaciones \n",
        "discount_factor = np.exp(-r * T)"
      ]
    },
    {
      "cell_type": "code",
      "execution_count": null,
      "metadata": {
        "id": "Hwj9tZ9ProX8"
      },
      "outputs": [],
      "source": [
        ""
      ]
    },
    {
      "cell_type": "code",
      "execution_count": null,
      "metadata": {
        "id": "Kzzi2r2iroX9"
      },
      "outputs": [],
      "source": [
        "def black_scholes_analytical(S_0, K, T, r, sigma, type='call'):\n",
        "    \n",
        "    d1 = (np.log(S_0 / K) + (r + 0.5 * sigma ** 2) * T) / (sigma * np.sqrt(T))\n",
        "    d2 = (np.log(S_0 / K) + (r - 0.5 * sigma ** 2) * T) / (sigma * np.sqrt(T))\n",
        "    \n",
        "    if type == 'call':\n",
        "        val = (S_0 * norm.cdf(d1, 0, 1) - K * np.exp(-r * T) * norm.cdf(d2, 0, 1))\n",
        "    elif type == 'put':\n",
        "        val = (K * np.exp(-r * T) * norm.cdf(-d2, 0, 1) - S_0 * norm.cdf(-d1, 0, 1))\n",
        "    else:\n",
        "        raise ValueError('Wrong input for type!')\n",
        "        \n",
        "    return val"
      ]
    },
    {
      "cell_type": "code",
      "execution_count": null,
      "metadata": {
        "id": "BpWidXkUroYB"
      },
      "outputs": [],
      "source": [
        "black_scholes_analytical(S_0=S_0, K=K, T=T, r=r, sigma=sigma, type='call')"
      ]
    },
    {
      "cell_type": "markdown",
      "metadata": {
        "id": "4lrWBOD2roYC"
      },
      "source": [
        "Simulamos por MC el precio:"
      ]
    },
    {
      "cell_type": "code",
      "execution_count": null,
      "metadata": {
        "id": "xRQpraberoYD"
      },
      "outputs": [],
      "source": [
        "gbm_sims = simulate_gbm(s_0=S_0, mu=r, sigma=sigma, n_sims=N_SIMS, T=T, N=N)"
      ]
    },
    {
      "cell_type": "markdown",
      "metadata": {
        "id": "ziHmCRrDroYF"
      },
      "source": [
        "Se usa el factor de descuento para calcular el valor presente del payoff"
      ]
    },
    {
      "cell_type": "code",
      "execution_count": null,
      "metadata": {
        "id": "Jmswsu0wroYH"
      },
      "outputs": [],
      "source": [
        "premium = discount_factor * np.mean(np.maximum(0, gbm_sims[:, -1] - K))"
      ]
    },
    {
      "cell_type": "code",
      "execution_count": null,
      "metadata": {
        "id": "gdJy2tThroYI"
      },
      "outputs": [],
      "source": [
        "premium"
      ]
    },
    {
      "cell_type": "markdown",
      "metadata": {
        "id": "TMduxajlroYJ"
      },
      "source": [
        "Comentar: revisar librería Quantlib"
      ]
    },
    {
      "cell_type": "markdown",
      "metadata": {
        "id": "cG_LGTsiroYK"
      },
      "source": [
        "## Opciones americanas"
      ]
    },
    {
      "cell_type": "markdown",
      "metadata": {
        "id": "H_57utCGroYK"
      },
      "source": [
        "Las opciones americanas se caracterizan porque se pueden ejercer en cualquier momento del periodo $[0, T]$.\n",
        "\n",
        "Al utilizar el método de Monte Carlo para opciones europeas, el periodo de tiempo se discretizó y se calculó el valor de los precios para el final de cada subperiodo. \n",
        "\n",
        "Se puede valuar una opción americana calculando el valor para subperiodos y eligiendo entre ellos el que da el valor óptimo. \n",
        "\n",
        "Al proceder así, se dice que la opción americana (que puede ejercerse en cualquier momento) se ha aproximado mediante una Opción Bermuda (que puede ejercerse solo en ciertos valores del tiempo)."
      ]
    },
    {
      "cell_type": "code",
      "execution_count": null,
      "metadata": {
        "id": "9USdJ-RDroYL"
      },
      "outputs": [],
      "source": [
        "import numpy as np\n",
        "from scipy.stats import norm"
      ]
    },
    {
      "cell_type": "markdown",
      "metadata": {
        "id": "MJqGp1mMroYM"
      },
      "source": [
        "Usamos la simulación MC que ya hemos utilizado."
      ]
    },
    {
      "cell_type": "code",
      "execution_count": null,
      "metadata": {
        "id": "zORy63jTroYN"
      },
      "outputs": [],
      "source": [
        "def simulate_gbm(s_0, mu, sigma, n_sims, T, N, random_seed=242):\n",
        "\n",
        "    np.random.seed(random_seed)  # fijamos la semilla\n",
        "    \n",
        "    dt = T/N                     # incremento temporal\n",
        "    dW = np.random.normal(scale = np.sqrt(dt), size=(n_sims, N))\n",
        "    W = np.cumsum(dW, axis=1)\n",
        "    \n",
        "    time_step = np.linspace(dt, T, N)\n",
        "    time_steps = np.broadcast_to(time_step, (n_sims, N))\n",
        "    \n",
        "    S_t = s_0 * np.exp((mu - 0.5 * sigma**2) * time_steps + sigma * W)   # Matriz (n_sim, T+1)\n",
        "    S_t = np.insert(S_t, 0, s_0, axis=1)                 #Los reglones son trayectorias , columnas son tiempo\n",
        "    \n",
        "    return S_t"
      ]
    },
    {
      "cell_type": "markdown",
      "metadata": {
        "id": "lQstyyBOroYO"
      },
      "source": [
        "Y podemos comparar con el cáluclo analítico"
      ]
    },
    {
      "cell_type": "code",
      "execution_count": null,
      "metadata": {
        "id": "Rpt5cD5eroYP"
      },
      "outputs": [],
      "source": [
        "def black_scholes_analytical(S_0, K, T, r, sigma, type='call'):\n",
        "    \n",
        "    d1 = (np.log(S_0 / K) + (r + 0.5 * sigma ** 2) * T) / (sigma * np.sqrt(T))\n",
        "    d2 = (np.log(S_0 / K) + (r - 0.5 * sigma ** 2) * T) / (sigma * np.sqrt(T))\n",
        "    \n",
        "    if type == 'call':\n",
        "        val = (S_0 * norm.cdf(d1, 0, 1) - K * np.exp(-r * T) * norm.cdf(d2, 0, 1))\n",
        "    elif type == 'put':\n",
        "        val = (K * np.exp(-r * T) * norm.cdf(-d2, 0, 1) - S_0 * norm.cdf(-d1, 0, 1))\n",
        "    else:\n",
        "        raise ValueError('Wrong input for type!')\n",
        "        \n",
        "    return val"
      ]
    },
    {
      "cell_type": "markdown",
      "metadata": {
        "id": "PsJWa15zroYQ"
      },
      "source": [
        "[Longstaff y Schwartz (2001)](https://people.math.ethz.ch/~hjfurrer/teaching/LongstaffSchwartzAmericanOptionsLeastSquareMonteCarlo.pdf) presentan una manera de aproximar la esperanza condicionada en fragmentos del tiempo total, realizando en cada período una regresión por mínimos cuadrados sobre un conjunto finito de funciones de las variables de estado relevantes. La regresión es posible ya que se cuenta con la información de varios caminos al mismo tiempo (información transversal), por lo que la esperanza se estima realizando una regresión del valor del flujo de fondos que se obtiene por continuar descontado sobre los valores de las variables relevantes para los diferentes caminos de simulación. El valor estimado de la regresión es eficiente e insesgado de la esperanza condicionada y permite estimar con precisión la regla de parada óptima para la opción."
      ]
    },
    {
      "cell_type": "code",
      "execution_count": null,
      "metadata": {
        "id": "LFE9Tf_yroYR"
      },
      "outputs": [],
      "source": [
        "def lsmc_american_option(S_0, K, T, N, r, sigma, n_sims, option_type, poly_degree, random_seed=42):\n",
        "    dt = T / N\n",
        "    discount_factor = np.exp(-r * dt)\n",
        "\n",
        "    gbm_simulations = simulate_gbm(s_0=S_0, mu=r, sigma=sigma, \n",
        "                                   n_sims=n_sims, T=T, N=N,\n",
        "                                   random_seed=random_seed)\n",
        "\n",
        "    if option_type == 'call':\n",
        "        payoff_matrix = np.maximum(\n",
        "            gbm_simulations - K, np.zeros_like(gbm_simulations))\n",
        "    elif option_type == 'put':\n",
        "        payoff_matrix = np.maximum(\n",
        "            K - gbm_simulations, np.zeros_like(gbm_simulations))\n",
        "\n",
        "    value_matrix = np.zeros_like(payoff_matrix)\n",
        "    value_matrix[:, -1] = payoff_matrix[:, -1]\n",
        "\n",
        "    for t in range(N - 1, 0, -1):\n",
        "        regression = np.polyfit(\n",
        "            gbm_simulations[:, t], value_matrix[:, t + 1] * discount_factor, poly_degree)\n",
        "        continuation_value = np.polyval(regression, gbm_simulations[:, t])\n",
        "        value_matrix[:, t] = np.where(payoff_matrix[:, t] > continuation_value,\n",
        "                                      payoff_matrix[:, t],\n",
        "                                      value_matrix[:, t + 1] * discount_factor)\n",
        "\n",
        "    option_premium = np.mean(value_matrix[:, 1] * discount_factor)\n",
        "    return option_premium"
      ]
    },
    {
      "cell_type": "code",
      "execution_count": null,
      "metadata": {
        "id": "v98wR0slroYU"
      },
      "outputs": [],
      "source": [
        "S_0 = 36\n",
        "K = 40\n",
        "r = 0.06\n",
        "sigma = 0.2\n",
        "T = 1 # 1 year\n",
        "N = 50 \n",
        "dt = T / N \n",
        "n_sims = 10 ** 5 \n",
        "discount_factor = np.exp(-r * dt)\n",
        "option_type = 'put'\n",
        "poly_degree = 5 "
      ]
    },
    {
      "cell_type": "code",
      "execution_count": null,
      "metadata": {
        "id": "GyBCLUfmroYV"
      },
      "outputs": [],
      "source": [
        "prima_opcion=lsmc_american_option(S_0, K, T, N, r, sigma, n_sims, option_type, poly_degree)"
      ]
    },
    {
      "cell_type": "code",
      "execution_count": null,
      "metadata": {
        "id": "lWV0POdVroYZ"
      },
      "outputs": [],
      "source": [
        "print(f'La prima de la opcion americana {OPTION_TYPE} es {option_premium:.3f}')"
      ]
    },
    {
      "cell_type": "code",
      "execution_count": null,
      "metadata": {
        "id": "psTbY5_ZroYa"
      },
      "outputs": [],
      "source": [
        "black_scholes_analytical(S_0=S_0, K=K, T=T, r=r, sigma=sigma, \n",
        "                         type='put')"
      ]
    },
    {
      "cell_type": "code",
      "execution_count": null,
      "metadata": {
        "id": "ejH8lmthroYb"
      },
      "outputs": [],
      "source": [
        "european_call_price = black_scholes_analytical(S_0=S_0, K=K, T=T, \n",
        "                                               r=r, sigma=sigma)\n",
        "american_call_price = lsmc_american_option(S_0=S_0, K=K, T=T, N=N, r=r, \n",
        "                                           sigma=sigma, n_sims=N_SIMS, \n",
        "                                           option_type='call', \n",
        "                                           poly_degree=POLY_DEGREE)\n",
        "print(f\"La prima de la call europea es {european_call_price:.3f}, y la de la call americana (usando {N_SIMS} simulaciones) es {american_call_price:.3f}\")"
      ]
    },
    {
      "cell_type": "code",
      "execution_count": null,
      "metadata": {
        "id": "v1ILTyxOroYc"
      },
      "outputs": [],
      "source": [
        ""
      ]
    }
  ],
  "metadata": {
    "kernelspec": {
      "display_name": "Python 3",
      "language": "python",
      "name": "python3"
    },
    "language_info": {
      "codemirror_mode": {
        "name": "ipython",
        "version": 3
      },
      "file_extension": ".py",
      "mimetype": "text/x-python",
      "name": "python",
      "nbconvert_exporter": "python",
      "pygments_lexer": "ipython3",
      "version": "3.7.3"
    },
    "colab": {
      "name": "Simulacion MC de precios I.ipynb",
      "provenance": []
    }
  },
  "nbformat": 4,
  "nbformat_minor": 0
}