{
  "cells": [
    {
      "cell_type": "markdown",
      "metadata": {
        "id": "aeTzu_3bLMTx"
      },
      "source": [
        "# Uso de los números aleatorios"
      ]
    },
    {
      "cell_type": "markdown",
      "metadata": {
        "id": "fXICwBDCLMT9"
      },
      "source": [
        "## 1. Introducción al Módulo random"
      ]
    },
    {
      "cell_type": "markdown",
      "metadata": {
        "id": "vWkv002GLMT_"
      },
      "source": [
        "El módulo random de la librería estándar de Python incluye un conjunto de funciones que permiten obtener de distintos modos \n",
        "números pseudoaleatorios a través del algoritmo [Mersenne Twister](https://es.wikipedia.org/wiki/Mersenne_twister)."
      ]
    },
    {
      "cell_type": "code",
      "execution_count": 3,
      "metadata": {
        "id": "VZvUH5PJLMUB"
      },
      "outputs": [],
      "source": [
        "#importamos el módulo que vamos a usar \n",
        "\n",
        "import random\n",
        "import numpy as np\n",
        "import matplotlib.pyplot as plt"
      ]
    },
    {
      "cell_type": "markdown",
      "metadata": {
        "id": "TX31vIUFLMUG"
      },
      "source": [
        "Las funciones de los módulos se invocan con el formato: módulo.función().\n",
        "\n",
        "En el módulo random existe la función random, que devuelve un número aleatorio que sigue una distribución uniforme. \n",
        "\n",
        "Así, para obtener $x \\sim U(0,1)$:"
      ]
    },
    {
      "cell_type": "code",
      "execution_count": 4,
      "metadata": {
        "id": "qmp6WGULLMUJ",
        "outputId": "a6f9776d-596e-45a1-9ea6-7e0507dac604",
        "colab": {
          "base_uri": "https://localhost:8080/"
        }
      },
      "outputs": [
        {
          "output_type": "stream",
          "name": "stdout",
          "text": [
            "0.912058892784584\n"
          ]
        }
      ],
      "source": [
        "x = random.random()  #Cada ejecución dará un número distinto.\n",
        "print(x)"
      ]
    },
    {
      "cell_type": "markdown",
      "metadata": {
        "id": "rQ6QTIHGLMUL"
      },
      "source": [
        "Se puede usar algún bucle si se desea generar una secuencia $x_i \\sim U(0,1)$ con $i = 1, 2, 3,..., N$:"
      ]
    },
    {
      "cell_type": "code",
      "execution_count": 5,
      "metadata": {
        "id": "pMy-kNBGLMUQ",
        "outputId": "8ec7568b-33df-4dbb-8e57-97feceae8d38",
        "colab": {
          "base_uri": "https://localhost:8080/"
        }
      },
      "outputs": [
        {
          "output_type": "stream",
          "name": "stdout",
          "text": [
            "0.8992 0.5957 0.7924 0.9866 0.9408 0.6649 0.3370 0.0258 0.6600 0.7906 \n"
          ]
        }
      ],
      "source": [
        "for i in range(10):\n",
        "    print('%05.4f' % random.random(), end=' ')  #El código en rojo indica la cantidad de dígitos y de decimales a mostrar.\n",
        "print()"
      ]
    },
    {
      "cell_type": "code",
      "execution_count": 6,
      "metadata": {
        "id": "tU_mh4-VLMUU",
        "outputId": "0a5f13ec-8a54-4e88-e8e5-45b1578e152d",
        "colab": {
          "base_uri": "https://localhost:8080/"
        }
      },
      "outputs": [
        {
          "output_type": "stream",
          "name": "stdout",
          "text": [
            "0.7876\n",
            "0.3197\n",
            "0.1821\n",
            "0.3914\n",
            "0.8229\n",
            "0.6020\n",
            "0.5424\n",
            "0.3047\n",
            "0.4983\n",
            "0.4460\n",
            "\n"
          ]
        }
      ],
      "source": [
        "for i in range(10):\n",
        "    print('%05.4f' % random.random(), sep=\"\\t\")\n",
        "print()"
      ]
    },
    {
      "cell_type": "markdown",
      "metadata": {
        "id": "JgjlSPCRLMUY"
      },
      "source": [
        "La función seed() fija el valor de la semilla en la generación de la secuencia de números aleatorios. \n",
        "Esto es útil cuando se quieren utilizar los mismos datos de entrada en una simulación."
      ]
    },
    {
      "cell_type": "code",
      "execution_count": 7,
      "metadata": {
        "id": "1eoIniftLMUb",
        "outputId": "54937652-962c-4de6-d5cf-67ab6f5e7bfe",
        "colab": {
          "base_uri": "https://localhost:8080/"
        }
      },
      "outputs": [
        {
          "output_type": "stream",
          "name": "stdout",
          "text": [
            "0.1344 0.8474 0.7638 0.2551 0.4954 0.4495 0.6516 0.7887 0.0939 0.0283 0.8358 0.4328 0.7623 0.0021 0.4454 0.7215 0.2288 0.9453 0.9014 0.0306 \n"
          ]
        }
      ],
      "source": [
        "random.seed(1) #primero fijamos la semilla\n",
        "\n",
        "for i in range(20):\n",
        "    print('%05.4f' % random.random(), end=' ')\n",
        "print()"
      ]
    },
    {
      "cell_type": "markdown",
      "metadata": {
        "id": "OFCacL82LMUd"
      },
      "source": [
        "La función uniform() devuelve un número float incluido entre los valores indicados."
      ]
    },
    {
      "cell_type": "code",
      "execution_count": 8,
      "metadata": {
        "id": "GeWcrR06LMUe",
        "outputId": "5f679bc2-93bb-4fa5-9c6b-21a67d7ef934",
        "colab": {
          "base_uri": "https://localhost:8080/"
        }
      },
      "outputs": [
        {
          "output_type": "stream",
          "name": "stdout",
          "text": [
            "2.2468 27.5292 47.0183 19.6790 11.6134 21.6837 2.4230 11.8629 22.4565 25.2948 \n"
          ]
        }
      ],
      "source": [
        "for i in range(10):\n",
        "    print('%5.4f' %random.uniform(1, 50), end=' ')\n",
        "print()"
      ]
    },
    {
      "cell_type": "markdown",
      "metadata": {
        "id": "6yHtsXYxLMUg"
      },
      "source": [
        "La función randint() devuelve un número entero incluido entre los valores indicados. \n",
        "Los valores de los límites inferior y superior también pueden aparecer entre los valores devueltos."
      ]
    },
    {
      "cell_type": "code",
      "execution_count": 9,
      "metadata": {
        "id": "Upsl2R9qLMUi",
        "outputId": "1242780e-fc69-4a2f-8e67-059a9515fced",
        "colab": {
          "base_uri": "https://localhost:8080/"
        }
      },
      "outputs": [
        {
          "output_type": "stream",
          "name": "stdout",
          "text": [
            "-1 0 -1 1 -1 0 0 -1 0 1 1 -1 -1 1 1 0 -1 1 0 1 \n"
          ]
        }
      ],
      "source": [
        "for i in range(20):\n",
        "    print(random.randint(-1, 1), end=' ')\n",
        "print()"
      ]
    },
    {
      "cell_type": "markdown",
      "metadata": {
        "id": "NnaOpV4rLMUn"
      },
      "source": [
        "La función randrange() devuelve enteros que van desde un valor inicial a otro final \n",
        "separados entre sí un número de valores determinados."
      ]
    },
    {
      "cell_type": "code",
      "execution_count": 11,
      "metadata": {
        "id": "5Q8XiGnuLMUp",
        "outputId": "ec4a1c50-56d1-4908-d879-5e1a6bfb7cce",
        "colab": {
          "base_uri": "https://localhost:8080/"
        }
      },
      "outputs": [
        {
          "output_type": "stream",
          "name": "stdout",
          "text": [
            "0 12 16 0 4 16 12 8 12 0 12 0 8 16 16 16 12 4 4 16 \n"
          ]
        }
      ],
      "source": [
        "for i in range(20):\n",
        "    print(random.randrange(0, 20, 4), end=' ')\n",
        "print()"
      ]
    },
    {
      "cell_type": "code",
      "execution_count": 14,
      "metadata": {
        "id": "pQ3IESJPLMUq"
      },
      "outputs": [],
      "source": [
        ""
      ]
    },
    {
      "cell_type": "markdown",
      "metadata": {
        "id": "Yc2bhRggLMUs"
      },
      "source": [
        "La función random.choice() se utiliza para seleccionar elementos al azar de una lista."
      ]
    },
    {
      "cell_type": "code",
      "execution_count": 12,
      "metadata": {
        "id": "gsceInquLMUt"
      },
      "outputs": [],
      "source": [
        "Lista = ['Rome','New York','London','Berlin','Moskov', 'Los Angeles','Paris','Madrid','Tokio','Toronto']"
      ]
    },
    {
      "cell_type": "code",
      "execution_count": 13,
      "metadata": {
        "id": "UG9isOqRLMUv",
        "outputId": "68990a4d-f1d4-4e6c-b3f8-1be1397a2530",
        "colab": {
          "base_uri": "https://localhost:8080/"
        }
      },
      "outputs": [
        {
          "output_type": "stream",
          "name": "stdout",
          "text": [
            "La ciudad elegida es -  Berlin\n"
          ]
        }
      ],
      "source": [
        "Ciudad = random.choice(Lista) \n",
        "print (\"La ciudad elegida es - \", Ciudad)"
      ]
    },
    {
      "cell_type": "code",
      "execution_count": 14,
      "metadata": {
        "id": "Sla4CxPFLMUw",
        "outputId": "18cf00a0-0eb7-42b6-f05e-a5fccb8e6259",
        "colab": {
          "base_uri": "https://localhost:8080/"
        }
      },
      "outputs": [
        {
          "output_type": "stream",
          "name": "stdout",
          "text": [
            "La ciudad elegida es -  Rome\n",
            "La ciudad elegida es -  Berlin\n",
            "La ciudad elegida es -  Tokio\n",
            "La ciudad elegida es -  Tokio\n",
            "La ciudad elegida es -  Berlin\n",
            "La ciudad elegida es -  Paris\n",
            "La ciudad elegida es -  Tokio\n",
            "La ciudad elegida es -  Los Angeles\n",
            "La ciudad elegida es -  Toronto\n",
            "La ciudad elegida es -  Los Angeles\n"
          ]
        }
      ],
      "source": [
        "for i in range(10):\n",
        "    Ciudad = random.choice(Lista) \n",
        "    print (\"La ciudad elegida es - \", Ciudad)"
      ]
    },
    {
      "cell_type": "markdown",
      "metadata": {
        "id": "pWFXcbvZLMUy"
      },
      "source": [
        "La función sample() devuelve de una lista de elementos un determinado número de elementos diferentes elegidos al azar."
      ]
    },
    {
      "cell_type": "code",
      "execution_count": 15,
      "metadata": {
        "id": "0oIADY53LMUz",
        "outputId": "43fe6b8f-2e84-4b18-876a-239dc298c618",
        "colab": {
          "base_uri": "https://localhost:8080/"
        }
      },
      "outputs": [
        {
          "output_type": "stream",
          "name": "stdout",
          "text": [
            "['Madrid', 'Moskov', 'Rome', 'Berlin', 'Los Angeles', 'Tokio', 'New York', 'London', 'Toronto']\n"
          ]
        }
      ],
      "source": [
        "print(random.sample(Lista, 9))"
      ]
    },
    {
      "cell_type": "markdown",
      "metadata": {
        "id": "hjaIt7H2LMU1"
      },
      "source": [
        "La función shuffle() 'mezcla' o cambia aleatoriamente el orden de los elementos de una lista antes de realizar la selección de alguno de ellos. "
      ]
    },
    {
      "cell_type": "code",
      "execution_count": 16,
      "metadata": {
        "id": "-GAYkR4qLMU2",
        "outputId": "eccc7c0c-d120-4003-9b63-ced06e2d6763",
        "colab": {
          "base_uri": "https://localhost:8080/"
        }
      },
      "outputs": [
        {
          "output_type": "stream",
          "name": "stdout",
          "text": [
            "mezcla1 ['Tokio', 'Berlin', 'Los Angeles', 'New York', 'Moskov', 'London', 'Toronto', 'Madrid', 'Rome', 'Paris']\n"
          ]
        }
      ],
      "source": [
        "random.shuffle(Lista)\n",
        "print('mezcla1', Lista)"
      ]
    },
    {
      "cell_type": "markdown",
      "metadata": {
        "id": "WVBjZOmfLMU3"
      },
      "source": [
        "## Ejercicio:\n",
        "\n",
        "1. Elegir al azar una ciudad de la Lista despues de hacer una mezcla.\n",
        "2. Elegir al azar tres ciudades después de una mezcla."
      ]
    },
    {
      "cell_type": "code",
      "source": [
        "random.shuffle(Lista)\n",
        "print(random.sample(Lista,1))"
      ],
      "metadata": {
        "id": "ZVDVRogKOCw6",
        "outputId": "64a00b47-b7ff-45f6-9c44-6a7699fccca2",
        "colab": {
          "base_uri": "https://localhost:8080/"
        }
      },
      "execution_count": 17,
      "outputs": [
        {
          "output_type": "stream",
          "name": "stdout",
          "text": [
            "['Paris']\n"
          ]
        }
      ]
    },
    {
      "cell_type": "code",
      "source": [
        "random.shuffle(Lista)\n",
        "print(random.sample(Lista,3))"
      ],
      "metadata": {
        "id": "KL85DwUmOZRr",
        "outputId": "f2a2ded8-6fe1-4c0b-ef66-52fe5d1d023a",
        "colab": {
          "base_uri": "https://localhost:8080/"
        }
      },
      "execution_count": 18,
      "outputs": [
        {
          "output_type": "stream",
          "name": "stdout",
          "text": [
            "['Paris', 'Rome', 'Madrid']\n"
          ]
        }
      ]
    },
    {
      "cell_type": "markdown",
      "metadata": {
        "id": "d8j2b2U2LMU4"
      },
      "source": [
        "La función random.gaus() genera una muestra de números aleatorios normalmente distribuidos."
      ]
    },
    {
      "cell_type": "code",
      "execution_count": 19,
      "metadata": {
        "id": "pFFRDcYzLMU5",
        "outputId": "5826b503-9b22-4c21-a9d0-a754835f42d0",
        "colab": {
          "base_uri": "https://localhost:8080/",
          "height": 265
        }
      },
      "outputs": [
        {
          "output_type": "display_data",
          "data": {
            "text/plain": [
              "<Figure size 432x288 with 1 Axes>"
            ],
            "image/png": "[encoded data removed]"
          },
          "metadata": {
            "needs_background": "light"
          }
        }
      ],
      "source": [
        "#Generamos una lista de 100 números aleatorios normalmente distribuidos.\n",
        "\n",
        "nums = []\n",
        "mu = 100\n",
        "sigma = 50\n",
        "\n",
        "for i in range(100):\n",
        "    temp = random.gauss(mu, sigma)\n",
        "    nums.append(temp)\n",
        "\n",
        "plt.plot(nums)\n",
        "plt.show()"
      ]
    },
    {
      "cell_type": "code",
      "execution_count": 24,
      "metadata": {
        "id": "IbivgCLqLMU7",
        "outputId": "d400a71c-61af-4e41-e9c2-96158afc978b",
        "colab": {
          "base_uri": "https://localhost:8080/",
          "height": 265
        }
      },
      "outputs": [
        {
          "output_type": "display_data",
          "data": {
            "text/plain": [
              "<Figure size 432x288 with 1 Axes>"
            ],
            "image/png": "[encoded data removed]"
          },
          "metadata": {
            "needs_background": "light"
          }
        }
      ],
      "source": [
        "# Construimos el histograma de una muestra de 10000 números aleatorios normalmente distribuidos\n",
        "\n",
        "nums = []\n",
        "mu = 100\n",
        "sigma = 50\n",
        "\n",
        "for i in range(10000):\n",
        "    temp = random.gauss(mu, sigma)\n",
        "    nums.append(temp)\n",
        "\n",
        "plt.hist(nums, bins=300)\n",
        "plt.show()\n"
      ]
    },
    {
      "cell_type": "markdown",
      "metadata": {
        "id": "la2lEr6KLMU8"
      },
      "source": [
        "## Ejercicio:\n",
        "\n",
        "1. Generar muestras e histograma de las funciones: \n",
        "    triangular(), betavariate(), expovariate(), gammavariate(), \n",
        "    lognormvariate(), normalvariate(), vonmisesvariate(), paretovariate() y weibullvariate()"
      ]
    },
    {
      "cell_type": "code",
      "source": [
        "nums = []\n",
        "mu = 100\n",
        "sigma = 50\n",
        "\n",
        "for i in range(10000):\n",
        "    temp = random.triangular(-100,200,50)\n",
        "    nums.append(temp)\n",
        "\n",
        "plt.hist(nums, bins=300)\n",
        "plt.show()"
      ],
      "metadata": {
        "id": "-VZGi4ZH7QCs"
      },
      "execution_count": null,
      "outputs": []
    },
    {
      "cell_type": "code",
      "source": [
        "\n",
        "for i in range(10000):\n",
        "    temp = random.betavariate(100,200)\n",
        "    nums.append(temp)\n",
        "\n",
        "plt.hist(nums, bins=300)\n",
        "plt.show()"
      ],
      "metadata": {
        "id": "DfNvv-2_8u7B"
      },
      "execution_count": null,
      "outputs": []
    },
    {
      "cell_type": "code",
      "source": [
        "\n",
        "for i in range(10000):\n",
        "    temp = random.expovariate(100)\n",
        "    nums.append(temp)\n",
        "\n",
        "plt.hist(nums, bins=300)\n",
        "plt.show()"
      ],
      "metadata": {
        "id": "Q6OycRfm9dEQ"
      },
      "execution_count": null,
      "outputs": []
    },
    {
      "cell_type": "code",
      "source": [
        "\n",
        "\n",
        "for i in range(10000):\n",
        "    temp = random.gammavariate(100,200)\n",
        "    nums.append(temp)\n",
        "\n",
        "plt.hist(nums, bins=300)\n",
        "plt.show()"
      ],
      "metadata": {
        "id": "Gj5XGjBE9n72"
      },
      "execution_count": null,
      "outputs": []
    },
    {
      "cell_type": "code",
      "source": [
        "\n",
        "\n",
        "for i in range(10000):\n",
        "    temp = random.lognormvariate(mu, sigma)\n",
        "    nums.append(temp)\n",
        "\n",
        "plt.hist(nums)\n",
        "plt.show()"
      ],
      "metadata": {
        "id": "XsNxkoe39vMg"
      },
      "execution_count": null,
      "outputs": []
    },
    {
      "cell_type": "code",
      "source": [
        "\n",
        "for i in range(10000):\n",
        "    temp = random.normalvariate(mu,sigma)\n",
        "    nums.append(temp)\n",
        "\n",
        "plt.hist(nums, bins=300)\n",
        "plt.show()"
      ],
      "metadata": {
        "id": "vikCaL4_-IGL",
        "outputId": "76af010b-c86e-408e-ce60-bcf68380bc61",
        "colab": {
          "base_uri": "https://localhost:8080/",
          "height": 265
        }
      },
      "execution_count": 36,
      "outputs": [
        {
          "output_type": "display_data",
          "data": {
            "text/plain": [
              "<Figure size 432x288 with 1 Axes>"
            ],
            "image/png": "[encoded data removed]"
          },
          "metadata": {
            "needs_background": "light"
          }
        }
      ]
    },
    {
      "cell_type": "code",
      "source": [
        "\n",
        "for i in range(10000):\n",
        "    temp = random.paretovariate(100)\n",
        "    nums.append(temp)\n",
        "\n",
        "plt.hist(nums, bins=300)\n",
        "plt.show()"
      ],
      "metadata": {
        "id": "7Qwy5OJu-TYD"
      },
      "execution_count": null,
      "outputs": []
    },
    {
      "cell_type": "code",
      "source": [
        "\n",
        "for i in range(10000):\n",
        "    temp = random.triangular(-100,200,50)\n",
        "    nums.append(temp)\n",
        "\n",
        "plt.hist(nums, bins=300)\n",
        "plt.show()"
      ],
      "metadata": {
        "id": "BAXC8PvS-qdL"
      },
      "execution_count": null,
      "outputs": []
    },
    {
      "cell_type": "code",
      "source": [
        "\n",
        "for i in range(10000):\n",
        "    temp = random.weibullvariate(500,30)\n",
        "    nums.append(temp)\n",
        "\n",
        "plt.hist(nums)\n",
        "plt.show()"
      ],
      "metadata": {
        "id": "WynbDKQT_N0m",
        "outputId": "a9c8aae0-b18d-42cd-afb5-e2dbdf98e9d4",
        "colab": {
          "base_uri": "https://localhost:8080/",
          "height": 278
        }
      },
      "execution_count": 43,
      "outputs": [
        {
          "output_type": "display_data",
          "data": {
            "text/plain": [
              "<Figure size 432x288 with 1 Axes>"
            ],
            "image/png": "[encoded data removed]"
          },
          "metadata": {
            "needs_background": "light"
          }
        }
      ]
    },
    {
      "cell_type": "markdown",
      "metadata": {
        "id": "A0X_2qKNLMU9"
      },
      "source": [
        "## Podemos simular diversas variables aleatorias a partir de un generador de números aleatorios (uniformemente distribuidos). "
      ]
    },
    {
      "cell_type": "markdown",
      "metadata": {
        "id": "9d34Jef_LMU-"
      },
      "source": [
        "### La distribución exponencial\n",
        "\n",
        "Función de densidad:\n",
        "    \n",
        "$f_X (x) = \\lambda e^{-\\lambda x}$  para $x \\geq 0$\n",
        "\n",
        "y función de distribución:\n",
        "\n",
        "$F_X (x) = 1 - e^{-\\lambda x}$  para $x \\geq 0$"
      ]
    },
    {
      "cell_type": "markdown",
      "metadata": {
        "id": "RoyKheSHLMU_"
      },
      "source": [
        "Puede ser simulada por el método de inversión mediante el siguiente algoritmo:\n",
        "\n",
        "0. Hacer $L = -\\frac{1}{\\lambda}$\n",
        "1. Generar $U \\sim U(0, 1)$\n",
        "2. Devolver $X = L \\cdot Ln(U)$"
      ]
    },
    {
      "cell_type": "code",
      "execution_count": 44,
      "metadata": {
        "id": "CV2E078pLMVA"
      },
      "outputs": [],
      "source": [
        "import random                                   # importamos el módulo random\n",
        "import numpy as np                              # importamos numpy con un alias (np)\n",
        "import matplotlib.pyplot as plt                 # ídem\n",
        "#from random import expovariate, gauss\n",
        "from statistics import mean, median, variance, stdev      # exportamos funciones especificas de statistics"
      ]
    },
    {
      "cell_type": "code",
      "execution_count": 48,
      "metadata": {
        "id": "X0wUwoeqLMVG",
        "outputId": "043bd1fa-4b6f-42f1-e823-2d4a4a8930f1",
        "colab": {
          "base_uri": "https://localhost:8080/",
          "height": 265
        }
      },
      "outputs": [
        {
          "output_type": "display_data",
          "data": {
            "text/plain": [
              "<Figure size 432x288 with 1 Axes>"
            ],
            "image/png": "[encoded data removed]"
          },
          "metadata": {
            "needs_background": "light"
          }
        }
      ],
      "source": [
        "#Generamos una lista de números aleatorios que siguen la distribución exponencial.\n",
        "\n",
        "nums = []\n",
        "lamb = 0.01                                     # Párametro de la función exponencial\n",
        "L = -1.0/lamb #inversa de lambda\n",
        "\n",
        "for i in range(100):\n",
        "    temp = L*np.log(random.random())            # Pasos 1 y 2\n",
        "    nums.append(temp)\n",
        "\n",
        "plt.plot(nums)\n",
        "plt.show()"
      ]
    },
    {
      "cell_type": "code",
      "execution_count": 47,
      "metadata": {
        "id": "ySBr4z4BLMVK",
        "outputId": "fd5c857b-d5fe-401b-f9bf-41a6960b5752",
        "colab": {
          "base_uri": "https://localhost:8080/",
          "height": 265
        }
      },
      "outputs": [
        {
          "output_type": "display_data",
          "data": {
            "text/plain": [
              "<Figure size 432x288 with 1 Axes>"
            ],
            "image/png": "[encoded data removed]"
          },
          "metadata": {
            "needs_background": "light"
          }
        }
      ],
      "source": [
        "nums = []\n",
        "lamb = 0.01                                     # Párametro de la función exponencial\n",
        "L = -1.0/lamb #inversa de lambda\n",
        "\n",
        "for i in range(1000):\n",
        "    temp = L*np.log(random.random())\n",
        "    nums.append(temp)\n",
        "\n",
        "plt.hist(nums, bins = 100)\n",
        "plt.show()\n"
      ]
    },
    {
      "cell_type": "markdown",
      "metadata": {
        "id": "Glekx2dILMVL"
      },
      "source": [
        "### Lo podemos comparar con la salida de la función expovariate()"
      ]
    },
    {
      "cell_type": "code",
      "execution_count": 49,
      "metadata": {
        "id": "f0sdmncRLMVM",
        "outputId": "5196629c-d25e-41cc-fdb0-a21a182ea8a7",
        "colab": {
          "base_uri": "https://localhost:8080/",
          "height": 265
        }
      },
      "outputs": [
        {
          "output_type": "display_data",
          "data": {
            "text/plain": [
              "<Figure size 432x288 with 1 Axes>"
            ],
            "image/png": "[encoded data removed]"
          },
          "metadata": {
            "needs_background": "light"
          }
        }
      ],
      "source": [
        "# Construimos el histograma de una muestra de 10000 números aleatorios normalmente distribuidos\n",
        "\n",
        "nums = []\n",
        "lamb = 0.01\n",
        "\n",
        "\n",
        "for i in range(1000):\n",
        "    temp = random.expovariate(lamb)\n",
        "    nums.append(temp)\n",
        "\n",
        "plt.hist(nums, bins = 100)\n",
        "plt.show()\n"
      ]
    },
    {
      "cell_type": "markdown",
      "metadata": {
        "id": "a9aLf_dELMVN"
      },
      "source": [
        "Que se puede obtener de esta otra manera:"
      ]
    },
    {
      "cell_type": "code",
      "execution_count": 50,
      "metadata": {
        "id": "GX90gJFULMVO",
        "outputId": "8c7fce85-b3f1-4af7-dbac-e3915f958c91",
        "colab": {
          "base_uri": "https://localhost:8080/",
          "height": 265
        }
      },
      "outputs": [
        {
          "output_type": "display_data",
          "data": {
            "text/plain": [
              "<Figure size 432x288 with 1 Axes>"
            ],
            "image/png": "[encoded data removed]"
          },
          "metadata": {
            "needs_background": "light"
          }
        }
      ],
      "source": [
        "#plt.figure(figsize = (8, 4))\n",
        "plt.hist([random.expovariate(100) for i in range(10000)], bins = 200)\n",
        "plt.show()"
      ]
    },
    {
      "cell_type": "markdown",
      "metadata": {
        "id": "L_HVd7LbLMVQ"
      },
      "source": [
        "Y podemos usar el módulo statistics para obtener algunos parámetros del histograma."
      ]
    },
    {
      "cell_type": "code",
      "execution_count": 51,
      "metadata": {
        "id": "ltC1fCTHLMVQ",
        "outputId": "771d618c-ea8b-45e4-8494-e820ba34981f",
        "colab": {
          "base_uri": "https://localhost:8080/",
          "height": 300
        }
      },
      "outputs": [
        {
          "output_type": "display_data",
          "data": {
            "text/plain": [
              "<Figure size 432x288 with 1 Axes>"
            ],
            "image/png": "[encoded data removed]"
          },
          "metadata": {
            "needs_background": "light"
          }
        },
        {
          "output_type": "stream",
          "name": "stdout",
          "text": [
            "Media: 94.70452.  Mediana: 67.77607.\n",
            "Varianza: 7916.57563.  Desviación estándar: 88.97514.\n"
          ]
        }
      ],
      "source": [
        "#plt.figure(figsize = (8, 4))\n",
        "sample = [random.expovariate(0.01) for i in range(1000)]\n",
        "plt.hist(sample, bins = 200)\n",
        "plt.show()\n",
        "\n",
        "print(f'Media: {mean(sample):.5f}.  Mediana: {median(sample):.5f}.')\n",
        "print(f'Varianza: {variance(sample):.5f}.  Desviación estándar: {stdev(sample):.5f}.')"
      ]
    },
    {
      "cell_type": "markdown",
      "metadata": {
        "id": "-CfMuoGvLMVS"
      },
      "source": [
        "## Ejercicio (03032022):\n",
        "\n",
        "Simular dos distribuciones de probabilidad (no la normal, no la exponencial), por el método que prefieran."
      ]
    },
    {
      "cell_type": "code",
      "execution_count": 76,
      "metadata": {
        "id": "fNaT0VEuLMVS",
        "outputId": "5aee3a35-7aca-4208-98b7-20400bb402be",
        "colab": {
          "base_uri": "https://localhost:8080/",
          "height": 281
        }
      },
      "outputs": [
        {
          "output_type": "display_data",
          "data": {
            "text/plain": [
              "<Figure size 432x288 with 1 Axes>"
            ],
            "image/png": "[encoded data removed]"
          },
          "metadata": {
            "needs_background": "light"
          }
        }
      ],
      "source": [
        "from scipy import stats\n",
        "mu =  3.6  \n",
        "poisson = stats.poisson(mu) \n",
        "x = np.arange(poisson.ppf(0.01),poisson.ppf(0.99))\n",
        "fmp = poisson.pmf(x) \n",
        "plt.vlines(x, 0, fmp, colors='b', lw=5, alpha=0.5,)\n",
        "plt.title('Distribución Poisson')\n",
        "plt.show()"
      ]
    },
    {
      "cell_type": "code",
      "source": [
        "N=100\n",
        "p = 0.4  \n",
        "binomial = stats.binom(N, p) \n",
        "x = np.arange(binomial.ppf(0.01),binomial.ppf(0.99))\n",
        "fmp = binomial.pmf(x) \n",
        "plt.vlines(x, 0, fmp, colors='b', lw=5, alpha=0.5)\n",
        "plt.title('Distribución Binomial')\n",
        "plt.show()"
      ],
      "metadata": {
        "id": "4q4bgl6bFGQu",
        "outputId": "8964e4d3-f768-4d9b-a266-22f488b502cb",
        "colab": {
          "base_uri": "https://localhost:8080/",
          "height": 295
        }
      },
      "execution_count": 78,
      "outputs": [
        {
          "output_type": "display_data",
          "data": {
            "text/plain": [
              "<Figure size 432x288 with 1 Axes>"
            ],
            "image/png": "[encoded data removed]"
          },
          "metadata": {
            "needs_background": "light"
          }
        }
      ]
    }
  ],
  "metadata": {
    "kernelspec": {
      "display_name": "Python 3",
      "language": "python",
      "name": "python3"
    },
    "language_info": {
      "codemirror_mode": {
        "name": "ipython",
        "version": 3
      },
      "file_extension": ".py",
      "mimetype": "text/x-python",
      "name": "python",
      "nbconvert_exporter": "python",
      "pygments_lexer": "ipython3",
      "version": "3.7.3"
    },
    "colab": {
      "name": "mas numeros aleatorios.ipynb",
      "provenance": []
    }
  },
  "nbformat": 4,
  "nbformat_minor": 0
}