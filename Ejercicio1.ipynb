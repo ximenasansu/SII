{
  "nbformat": 4,
  "nbformat_minor": 0,
  "metadata": {
    "colab": {
      "name": "Ejercicio1.ipynb",
      "provenance": [],
      "include_colab_link": true
    },
    "kernelspec": {
      "name": "python3",
      "display_name": "Python 3"
    },
    "language_info": {
      "name": "python"
    }
  },
  "cells": [
    {
      "cell_type": "markdown",
      "metadata": {
        "id": "view-in-github",
        "colab_type": "text"
      },
      "source": [
        "<a href=\"https://colab.research.google.com/github/ximenasansu/SII/blob/main/Ejercicio1.ipynb\" target=\"_parent\"><img src=\"https://colab.research.google.com/assets/colab-badge.svg\" alt=\"Open In Colab\"/></a>"
      ]
    },
    {
      "cell_type": "markdown",
      "source": [
        "# Ejercicio 1. \n",
        " Opción 1 con inciso a) y b)"
      ],
      "metadata": {
        "id": "lUOKPbhvWrgD"
      }
    },
    {
      "cell_type": "code",
      "execution_count": 22,
      "metadata": {
        "colab": {
          "base_uri": "https://localhost:8080/"
        },
        "id": "CniK_ynwI-U3",
        "outputId": "d2a7327b-4e6e-4251-8dda-5d20e6226919"
      },
      "outputs": [
        {
          "output_type": "stream",
          "name": "stdout",
          "text": [
            "El valor de la integral es 0.41761914333364053\n",
            "Con varianza 0.08189434162980098\n",
            "El valor de la integral es 0.4180545643717024\n",
            "Con varianza 0.041026349796745284\n",
            "Con reducción de varinza del 49.903315686689666 %\n"
          ]
        }
      ],
      "source": [
        "import random\n",
        "import math\n",
        "import statistics\n",
        "\n",
        "def integral(x):\n",
        "  return ((math.e**x -1))/(math.e -1)\n",
        "\n",
        "n = 1000000\n",
        "suma = []\n",
        "\n",
        "for i in range(n):\n",
        "  suma.append(integral(random.random()))\n",
        "\n",
        "r = statistics.mean(suma)\n",
        "v = statistics.variance(suma)\n",
        "print(\"El valor de la integral es\", r)\n",
        "print(\"Con varianza\", v)\n",
        "\n",
        "z = []\n",
        "for i in range(n):\n",
        "  x = integral(random.random())\n",
        "  y = integral(1-(random.random()))\n",
        "  z.append((x+y)/2)\n",
        "\n",
        "rz = statistics.mean(z)\n",
        "vz = statistics.variance(z)\n",
        "\n",
        "print(\"El valor de la integral es\", rz)\n",
        "print(\"Con varianza\", vz)\n",
        "print(\"Con reducción de varinza del\", 100*(v-vz)/v, \"%\")"
      ]
    },
    {
      "cell_type": "markdown",
      "source": [
        "# Código similar a los apuntes del profesor y gráficas\n",
        "Opción 2."
      ],
      "metadata": {
        "id": "FjjuYtbQStJM"
      }
    },
    {
      "cell_type": "code",
      "source": [
        "import numpy as np\n",
        "import matplotlib.pyplot as plt\n",
        "import pandas as pd\n",
        "import math\n",
        "\n",
        "def test_function(x):                    #Definimos la función de prueba.\n",
        "    return ((math.e**x -1))/(math.e -1)\n",
        "\n",
        "X=np.linspace(0,1,1000)                 #Graficamos la función de prueba.\n",
        "plt.plot(X,test_function(X), color='red')\n",
        "plt.fill_between(X,test_function(X))\n",
        "plt.legend()\n",
        "plt.xlim(0.0, 1.2)\n",
        "plt.ylim(0.0, 1.2)\n",
        "plt.grid(True)\n",
        "plt.title('Función de prueba', color='b')\n",
        "plt.show()\n",
        "\n",
        "def integ(func=test_function, n=10000):  #Usando la ley de los grandes números\n",
        "    muestreo=[]                          #la aproxima como el promedio del muestreo aleatorio\n",
        "    suma=[]\n",
        "    for i in range(n):\n",
        "        u=np.random.random_sample()\n",
        "        muestreo.append(u)\n",
        "        y=func(u)\n",
        "        suma.append(y)\n",
        "\n",
        "    return(np.mean(suma))\n",
        "\n",
        "print(\"El valor de la integral es:\", integ())"
      ],
      "metadata": {
        "id": "Y78NtGW7S08m",
        "outputId": "8465e0f1-b85c-4a54-c178-3a14452f6fcd",
        "colab": {
          "base_uri": "https://localhost:8080/",
          "height": 318
        }
      },
      "execution_count": 34,
      "outputs": [
        {
          "output_type": "stream",
          "name": "stderr",
          "text": [
            "No handles with labels found to put in legend.\n"
          ]
        },
        {
          "output_type": "display_data",
          "data": {
            "text/plain": [
              "<Figure size 432x288 with 1 Axes>"
            ],
            "image/png": "[encoded data removed]"
          },
          "metadata": {
            "needs_background": "light"
          }
        },
        {
          "output_type": "stream",
          "name": "stdout",
          "text": [
            "El valor de la integral es: 0.4244655853366653\n"
          ]
        }
      ]
    },
    {
      "cell_type": "code",
      "source": [
        "def integ(func=test_function, n=1000):\n",
        "    muestreo=[]\n",
        "    suma=[]\n",
        "    for i in range(n):\n",
        "        u= np.random.random_sample()\n",
        "        muestreo.append(u)\n",
        "        y=test_function(1-u)\n",
        "        suma.append(y)\n",
        "\n",
        "    return np.mean(suma), np.std(suma)/np.sqrt(n), suma\n",
        "\n",
        "print(\"El valor de la integral es:\", round(integ()[0],5))\n",
        "print(\"El error estándar es:\", round(integ()[1],5))\n",
        "\n",
        "def integ(func=test_function, n=3000):\n",
        "    muestreo=[]\n",
        "    suma=[]\n",
        "    for i in range(n):\n",
        "        u= np.random.random_sample()\n",
        "        muestreo.append(u)\n",
        "        y=(test_function(u) + test_function(1-u))/2.0\n",
        "        suma.append(y)\n",
        "\n",
        "    return np.mean(suma), np.std(suma)/np.sqrt(n)\n",
        "\n",
        "print(\"El valor de la integral es:\", round(integ()[0],5))\n",
        "print(\"El error estándar es:\", round(integ()[1],5))\n",
        "\n",
        "def mc_crudo(test_function, n):\n",
        "    integral=[]\n",
        "    suma=[]\n",
        "    for i in range(n):\n",
        "        u= np.random.random_sample()\n",
        "        y=(test_function(u) + test_function(1-u))/2.0\n",
        "        suma.append(y)\n",
        "        integral.append(np.mean(suma))\n",
        "        \n",
        "    print(\"El valor de la integral con v antitéticas es:\", round(np.mean(suma),5))\n",
        "    print(\"El error estándar es:\", round(np.std(suma)/np.sqrt(n),5))\n",
        "    \n",
        "    return np.mean(suma), np.std(suma)/np.sqrt(n), integral\n",
        "\n",
        "def mc_crudo1(test_function, n):\n",
        "    integral=[]\n",
        "    suma=[]\n",
        "    for i in range(n):\n",
        "        u= np.random.random_sample()\n",
        "        y=test_function(u)\n",
        "        suma.append(y)\n",
        "        integral.append(np.mean(suma))\n",
        "        \n",
        "    print(\"El valor de la integral es:\", round(np.mean(suma),5))\n",
        "    print(\"El error estándar es:\", round(np.std(suma)/np.sqrt(n),5))\n",
        "    \n",
        "    return np.mean(suma), np.std(suma)/np.sqrt(n), integral\n",
        "\n",
        "X1=mc_crudo1(test_function, n=1000)[2]\n",
        "X=mc_crudo(test_function, n=1000)[2]\n",
        "\n",
        "plt.plot(X, color='red', label='antitéticas')\n",
        "plt.plot(X1, color='green', label='u')\n",
        "plt.legend()"
      ],
      "metadata": {
        "id": "Ep8f7y1IUFhl",
        "outputId": "f0230fa4-4104-4ae6-f1f1-02ca93b6f0c2",
        "colab": {
          "base_uri": "https://localhost:8080/",
          "height": 431
        }
      },
      "execution_count": 37,
      "outputs": [
        {
          "output_type": "stream",
          "name": "stdout",
          "text": [
            "El valor de la integral es: 0.43074\n",
            "El error estándar es: 0.009\n",
            "El valor de la integral es: 0.4178\n",
            "El error estándar es: 0.00067\n",
            "El valor de la integral es: 0.41223\n",
            "El error estándar es: 0.00921\n",
            "El valor de la integral con v antitéticas es: 0.41828\n",
            "El error estándar es: 0.00116\n"
          ]
        },
        {
          "output_type": "execute_result",
          "data": {
            "text/plain": [
              "<matplotlib.legend.Legend at 0x7ff73d67d810>"
            ]
          },
          "metadata": {},
          "execution_count": 37
        },
        {
          "output_type": "display_data",
          "data": {
            "text/plain": [
              "<Figure size 432x288 with 1 Axes>"
            ],
            "image/png": "[encoded data removed]"
          },
          "metadata": {
            "needs_background": "light"
          }
        }
      ]
    }
  ]
}